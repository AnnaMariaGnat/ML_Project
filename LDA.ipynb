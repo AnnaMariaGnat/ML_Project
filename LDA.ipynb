{
 "cells": [
  {
   "cell_type": "code",
   "execution_count": 9,
   "metadata": {},
   "outputs": [],
   "source": [
    "from lda_lib import lda_ajp\n",
    "import numpy as np\n",
    "import matplotlib.pyplot as plt"
   ]
  },
  {
   "cell_type": "code",
   "execution_count": 10,
   "metadata": {},
   "outputs": [
    {
     "name": "stdout",
     "output_type": "stream",
     "text": [
      "Dataset shape:  (10000, 785)\n"
     ]
    }
   ],
   "source": [
    "dataset = np.load('datasets/fashion_train.npy')\n",
    "print(\"Dataset shape: \", dataset.shape)\n",
    "\n",
    "# dataset = np.random.rand(4, 10)\n",
    "# labels = np.array([0, 0, 1, 2]).reshape(-1, 1)\n",
    "# dataset = np.hstack((dataset, labels))"
   ]
  },
  {
   "cell_type": "code",
   "execution_count": 11,
   "metadata": {},
   "outputs": [],
   "source": [
    "X = dataset[:, :-1]\n",
    "y = dataset[:, -1]"
   ]
  },
  {
   "cell_type": "code",
   "execution_count": 12,
   "metadata": {},
   "outputs": [],
   "source": [
    "lin_disc = lda_ajp(X, y)"
   ]
  },
  {
   "cell_type": "code",
   "execution_count": 13,
   "metadata": {},
   "outputs": [
    {
     "name": "stdout",
     "output_type": "stream",
     "text": [
      "Matrix contains extreme values, attempting to compute determinant:\n",
      "Matrix is singular and cannot be inverted (determinant is inf)\n",
      "Normalizing matrix and trying again...\n",
      "Determinant: 0.0\n"
     ]
    },
    {
     "name": "stderr",
     "output_type": "stream",
     "text": [
      "c:\\Python311\\Lib\\site-packages\\numpy\\linalg\\linalg.py:2154: RuntimeWarning: overflow encountered in det\n",
      "  r = _umath_linalg.det(a, signature=signature)\n"
     ]
    },
    {
     "data": {
      "text/plain": [
       "0.0"
      ]
     },
     "execution_count": 13,
     "metadata": {},
     "output_type": "execute_result"
    }
   ],
   "source": [
    "# checking determinant in the scatter-within matrix\n",
    "lin_disc.scatter_det()"
   ]
  },
  {
   "cell_type": "code",
   "execution_count": 15,
   "metadata": {},
   "outputs": [
    {
     "name": "stdout",
     "output_type": "stream",
     "text": [
      "[[ 6.90932786e-01+0.j  3.16361997e-01+0.j]\n",
      " [-2.20079382e-01+0.j -7.88459034e-01+0.j]\n",
      " [-6.98606982e-03+0.j -4.46936074e-03+0.j]\n",
      " ...\n",
      " [ 2.51187883e-04+0.j  4.16256394e-04+0.j]\n",
      " [ 6.52483567e-04+0.j  7.73713180e-04+0.j]\n",
      " [ 7.33952511e-02+0.j  3.16226849e-02+0.j]]\n"
     ]
    }
   ],
   "source": [
    "# finding the top 2 eigenvectors\n",
    "lda = lin_disc.main_lds(2)\n",
    "print(lda)"
   ]
  },
  {
   "cell_type": "code",
   "execution_count": 21,
   "metadata": {},
   "outputs": [
    {
     "ename": "IndexError",
     "evalue": "boolean index did not match indexed array along dimension 0; dimension is 784 but corresponding boolean dimension is 10000",
     "output_type": "error",
     "traceback": [
      "\u001b[1;31m---------------------------------------------------------------------------\u001b[0m",
      "\u001b[1;31mIndexError\u001b[0m                                Traceback (most recent call last)",
      "\u001b[1;32mc:\\coding\\self_dev\\uni_stuff\\ml_project\\ML_Project\\LDA.ipynb Cell 7\u001b[0m line \u001b[0;36m5\n\u001b[0;32m      <a href='vscode-notebook-cell:/c%3A/coding/self_dev/uni_stuff/ml_project/ML_Project/LDA.ipynb#X16sZmlsZQ%3D%3D?line=2'>3</a>\u001b[0m plt\u001b[39m.\u001b[39mfigure(figsize\u001b[39m=\u001b[39m(\u001b[39m8\u001b[39m, \u001b[39m6\u001b[39m))\n\u001b[0;32m      <a href='vscode-notebook-cell:/c%3A/coding/self_dev/uni_stuff/ml_project/ML_Project/LDA.ipynb#X16sZmlsZQ%3D%3D?line=3'>4</a>\u001b[0m \u001b[39mfor\u001b[39;00m label \u001b[39min\u001b[39;00m np\u001b[39m.\u001b[39munique(y):\n\u001b[1;32m----> <a href='vscode-notebook-cell:/c%3A/coding/self_dev/uni_stuff/ml_project/ML_Project/LDA.ipynb#X16sZmlsZQ%3D%3D?line=4'>5</a>\u001b[0m     plt\u001b[39m.\u001b[39mscatter(lda[y \u001b[39m==\u001b[39;49m label, \u001b[39m0\u001b[39;49m], lda[y \u001b[39m==\u001b[39m label, \u001b[39m1\u001b[39m], label\u001b[39m=\u001b[39mlabel)\n\u001b[0;32m      <a href='vscode-notebook-cell:/c%3A/coding/self_dev/uni_stuff/ml_project/ML_Project/LDA.ipynb#X16sZmlsZQ%3D%3D?line=5'>6</a>\u001b[0m plt\u001b[39m.\u001b[39mlegend()\n\u001b[0;32m      <a href='vscode-notebook-cell:/c%3A/coding/self_dev/uni_stuff/ml_project/ML_Project/LDA.ipynb#X16sZmlsZQ%3D%3D?line=6'>7</a>\u001b[0m plt\u001b[39m.\u001b[39mtitle(\u001b[39m\"\u001b[39m\u001b[39mLDA Projection on the top 2 eigenvectors\u001b[39m\u001b[39m\"\u001b[39m)\n",
      "\u001b[1;31mIndexError\u001b[0m: boolean index did not match indexed array along dimension 0; dimension is 784 but corresponding boolean dimension is 10000"
     ]
    },
    {
     "data": {
      "text/plain": [
       "<Figure size 800x600 with 0 Axes>"
      ]
     },
     "metadata": {},
     "output_type": "display_data"
    }
   ],
   "source": [
    "# plotting lda projection on the top 2 eigenvectors\n",
    "\n",
    "plt.figure(figsize=(8, 6))\n",
    "for label in np.unique(y):\n",
    "    plt.scatter(lda[y == label, 0], lda[y == label, 1], label=label)\n",
    "plt.legend()\n",
    "plt.title(\"LDA Projection on the top 2 eigenvectors\")\n",
    "plt.xlabel(\"LD1\")\n",
    "plt.ylabel(\"LD2\")\n",
    "plt.show()"
   ]
  }
 ],
 "metadata": {
  "kernelspec": {
   "display_name": "Python 3",
   "language": "python",
   "name": "python3"
  },
  "language_info": {
   "codemirror_mode": {
    "name": "ipython",
    "version": 3
   },
   "file_extension": ".py",
   "mimetype": "text/x-python",
   "name": "python",
   "nbconvert_exporter": "python",
   "pygments_lexer": "ipython3",
   "version": "3.11.4"
  }
 },
 "nbformat": 4,
 "nbformat_minor": 2
}
