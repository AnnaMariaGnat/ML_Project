{
 "cells": [
  {
   "cell_type": "markdown",
   "metadata": {},
   "source": [
    "# Preparing data"
   ]
  },
  {
   "cell_type": "markdown",
   "metadata": {},
   "source": [
    "1. Imports"
   ]
  },
  {
   "cell_type": "code",
   "execution_count": 1,
   "metadata": {},
   "outputs": [],
   "source": [
    "import numpy as np\n",
    "import matplotlib.pyplot as plt\n",
    "from sklearn.discriminant_analysis import LinearDiscriminantAnalysis"
   ]
  },
  {
   "cell_type": "markdown",
   "metadata": {},
   "source": [
    "2. Load the dataset"
   ]
  },
  {
   "cell_type": "code",
   "execution_count": 8,
   "metadata": {},
   "outputs": [
    {
     "name": "stdout",
     "output_type": "stream",
     "text": [
      "Dataset shape:  (10000, 785)\n"
     ]
    }
   ],
   "source": [
    "dataset = np.load('C:/Users/annam/Desktop/ITU/3rd_sem/01_Machine_Learning/Project/ML_Project/datasets/fashion_train.npy')\n",
    "print(\"Dataset shape: \", dataset.shape)"
   ]
  },
  {
   "cell_type": "markdown",
   "metadata": {},
   "source": [
    "3. Separate the feature columns and the label column"
   ]
  },
  {
   "cell_type": "code",
   "execution_count": 38,
   "metadata": {},
   "outputs": [
    {
     "name": "stdout",
     "output_type": "stream",
     "text": [
      "X shape:  (10000, 784)\n",
      "y shape:  (10000,)\n"
     ]
    }
   ],
   "source": [
    "X = dataset[:, :-1] # Define X as all columns except the last one\n",
    "y = dataset[:, -1] # Define y as the last column\n",
    "\n",
    "print(\"X shape: \", X.shape) # Print X shape (10000, 784)\n",
    "print(\"y shape: \", y.shape) # Print y shape (10000,)"
   ]
  },
  {
   "cell_type": "markdown",
   "metadata": {},
   "source": [
    "# Doing math for the LDA"
   ]
  },
  {
   "cell_type": "markdown",
   "metadata": {},
   "source": [
    "Process:\n",
    "1. Calculate the mean of each class: \\\n",
    "    $m_i = \\frac{\\sum x^t r^t}{\\sum r^t}$ - sum of values of each observation / number of observations in the class\n",
    "2. Calculate the within-scatter of each class - matrix of $k \\times k$ \\\n",
    "     $S_i = \\sum r^t_i(x^t - m_i)(x^t - m_i)^T$ \\\n",
    "     and sum it together: \\\n",
    "     $S_w = \\sum s_i$ \n",
    "3. Calculate the overall mean \\\n",
    "    $M = \\frac{1}{K}\\sum_i$\n",
    "4. Calculate the between class scatter (how much the class means are scattered around the overall mean) - same as calculating the covariance matrix ($k \\times k$ matrix) \\\n",
    "    $S_b = \\sum N_i (m_i - M)(m_i - M)^T$ \\\n",
    "    where $N_i = \\sum r_i^t$ - the number of observation in $i^{th}$ class\n",
    "5. Find the two eigenvectors corresponding to two largest eigenvalues\n",
    "6. Project the data onto them\n",
    "7. Plot\n",
    "\n"
   ]
  },
  {
   "cell_type": "markdown",
   "metadata": {},
   "source": [
    "1. mean of each class"
   ]
  },
  {
   "cell_type": "code",
   "execution_count": 25,
   "metadata": {},
   "outputs": [],
   "source": [
    "classes = set(y)\n",
    "\n",
    "class_means = np.array([np.mean(X[y == i], axis=0) for i in classes])   \n",
    "#class_means"
   ]
  },
  {
   "cell_type": "markdown",
   "metadata": {},
   "source": [
    "2. within scatter"
   ]
  },
  {
   "cell_type": "code",
   "execution_count": 42,
   "metadata": {},
   "outputs": [],
   "source": [
    "#initialize the k x k matrix\n",
    "scatter_within = np.zeros((X.shape[1], X.shape[1])) \n",
    "\n",
    "#calculate the scatter within \n",
    "for i in range(len(classes)):\n",
    "    scatter_within += np.dot( (X[y == i] - class_means[i]).T,(X[y == i] - class_means[i])) \n",
    "scatter_within = scatter_within / X.shape[0]  "
   ]
  },
  {
   "cell_type": "markdown",
   "metadata": {},
   "source": [
    "3. Central point (mean of the means)"
   ]
  },
  {
   "cell_type": "code",
   "execution_count": 44,
   "metadata": {},
   "outputs": [],
   "source": [
    "central_point = np.mean(class_means, axis=0)"
   ]
  },
  {
   "cell_type": "markdown",
   "metadata": {},
   "source": [
    "4. between class scatter "
   ]
  },
  {
   "cell_type": "code",
   "execution_count": null,
   "metadata": {},
   "outputs": [],
   "source": []
  }
 ],
 "metadata": {
  "kernelspec": {
   "display_name": "Python 3",
   "language": "python",
   "name": "python3"
  },
  "language_info": {
   "codemirror_mode": {
    "name": "ipython",
    "version": 3
   },
   "file_extension": ".py",
   "mimetype": "text/x-python",
   "name": "python",
   "nbconvert_exporter": "python",
   "pygments_lexer": "ipython3",
   "version": "3.11.3"
  }
 },
 "nbformat": 4,
 "nbformat_minor": 2
}
