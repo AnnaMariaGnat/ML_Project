{
 "cells": [
  {
   "cell_type": "code",
   "execution_count": 3,
   "metadata": {},
   "outputs": [],
   "source": [
    "''' Needed libraries '''\n",
    "\n",
    "import numpy as np # For matrix operations and numerical processing\n",
    "import matplotlib.pyplot as plt # For plotting\n",
    "import os, sys # For filepaths"
   ]
  },
  {
   "cell_type": "code",
   "execution_count": 4,
   "metadata": {},
   "outputs": [],
   "source": [
    "''' Add the datasets and libraries to the system path '''\n",
    "\n",
    "# Find the path to our implementations\n",
    "current_directory = os.getcwd()\n",
    "parent_directory = os.path.dirname(current_directory)\n",
    "home_directory = os.path.dirname(parent_directory)\n",
    "libraries_path = os.path.join(home_directory, 'Libraries')\n",
    "\n",
    "# Find the path to the datasets\n",
    "datasets_path = os.path.join(home_directory, 'Datasets')\n",
    "\n",
    "# Add them both to the system path\n",
    "sys.path.append(datasets_path)\n",
    "sys.path.append(libraries_path)"
   ]
  },
  {
   "cell_type": "code",
   "execution_count": 5,
   "metadata": {},
   "outputs": [
    {
     "ename": "ModuleNotFoundError",
     "evalue": "No module named 'kernel'",
     "output_type": "error",
     "traceback": [
      "\u001b[1;31m---------------------------------------------------------------------------\u001b[0m",
      "\u001b[1;31mModuleNotFoundError\u001b[0m                       Traceback (most recent call last)",
      "\u001b[1;32mc:\\Users\\annam\\Desktop\\ITU\\3rd_sem\\01_Machine_Learning\\Project\\ML_Project\\Anna_workspace\\kernet_test.ipynb Cell 3\u001b[0m line \u001b[0;36m1\n\u001b[1;32m----> <a href='vscode-notebook-cell:/c%3A/Users/annam/Desktop/ITU/3rd_sem/01_Machine_Learning/Project/ML_Project/Anna_workspace/kernet_test.ipynb#W2sZmlsZQ%3D%3D?line=0'>1</a>\u001b[0m \u001b[39mimport\u001b[39;00m \u001b[39mkernel\u001b[39;00m\n",
      "\u001b[1;31mModuleNotFoundError\u001b[0m: No module named 'kernel'"
     ]
    }
   ],
   "source": [
    "import kernel"
   ]
  },
  {
   "cell_type": "code",
   "execution_count": 6,
   "metadata": {},
   "outputs": [],
   "source": [
    "''' TESTING '''\n",
    "\n",
    "# Features (two columns = two LDA components)\n",
    "features = np.array([\n",
    "    [1.0, 2.0],\n",
    "    [1.5, 1.8],\n",
    "    [5.0, 8.0],\n",
    "    [8.0, 8.0],\n",
    "    [1.0, 0.6],\n",
    "    [9.0, 11.0],\n",
    "    [8.0, 2.0],\n",
    "    [10.0, 2.0],\n",
    "    [9.0, 3.0],\n",
    "    [2.0, 3.0]\n",
    "])\n",
    "\n",
    "# Labels (five classes)\n",
    "labels = np.array([0, 1, 2, 3, 4, 0, 1, 3, 2, 4])"
   ]
  },
  {
   "cell_type": "code",
   "execution_count": 13,
   "metadata": {},
   "outputs": [
    {
     "data": {
      "text/plain": [
       "10"
      ]
     },
     "execution_count": 13,
     "metadata": {},
     "output_type": "execute_result"
    }
   ],
   "source": [
    "n_feat = len(features.T)\n",
    "n_feat\n",
    "n_classes = len(np.unique(labels))\n",
    "n_classes\n",
    "n_obs = len(features)"
   ]
  },
  {
   "cell_type": "code",
   "execution_count": 1,
   "metadata": {},
   "outputs": [
    {
     "ename": "NameError",
     "evalue": "name 'X_train' is not defined",
     "output_type": "error",
     "traceback": [
      "\u001b[1;31m---------------------------------------------------------------------------\u001b[0m",
      "\u001b[1;31mNameError\u001b[0m                                 Traceback (most recent call last)",
      "\u001b[1;32mc:\\Users\\annam\\Desktop\\ITU\\3rd_sem\\01_Machine_Learning\\Project\\ML_Project\\Anna_workspace\\kernet_test.ipynb Cell 6\u001b[0m line \u001b[0;36m5\n\u001b[0;32m     <a href='vscode-notebook-cell:/c%3A/Users/annam/Desktop/ITU/3rd_sem/01_Machine_Learning/Project/ML_Project/Anna_workspace/kernet_test.ipynb#W5sZmlsZQ%3D%3D?line=52'>53</a>\u001b[0m nb_classifier \u001b[39m=\u001b[39m NaiveBayesClassifier()\n\u001b[0;32m     <a href='vscode-notebook-cell:/c%3A/Users/annam/Desktop/ITU/3rd_sem/01_Machine_Learning/Project/ML_Project/Anna_workspace/kernet_test.ipynb#W5sZmlsZQ%3D%3D?line=54'>55</a>\u001b[0m \u001b[39m# Fit the model to the training data\u001b[39;00m\n\u001b[1;32m---> <a href='vscode-notebook-cell:/c%3A/Users/annam/Desktop/ITU/3rd_sem/01_Machine_Learning/Project/ML_Project/Anna_workspace/kernet_test.ipynb#W5sZmlsZQ%3D%3D?line=55'>56</a>\u001b[0m nb_classifier\u001b[39m.\u001b[39mfit(X_train, y_train)\n\u001b[0;32m     <a href='vscode-notebook-cell:/c%3A/Users/annam/Desktop/ITU/3rd_sem/01_Machine_Learning/Project/ML_Project/Anna_workspace/kernet_test.ipynb#W5sZmlsZQ%3D%3D?line=57'>58</a>\u001b[0m \u001b[39m# Make predictions on new data (X_test)\u001b[39;00m\n\u001b[0;32m     <a href='vscode-notebook-cell:/c%3A/Users/annam/Desktop/ITU/3rd_sem/01_Machine_Learning/Project/ML_Project/Anna_workspace/kernet_test.ipynb#W5sZmlsZQ%3D%3D?line=58'>59</a>\u001b[0m predictions \u001b[39m=\u001b[39m nb_classifier\u001b[39m.\u001b[39mpredict(X_test)\n",
      "\u001b[1;31mNameError\u001b[0m: name 'X_train' is not defined"
     ]
    }
   ],
   "source": [
    "import numpy as np\n",
    "from scipy.stats import gaussian_kde\n",
    "\n",
    "class NaiveBayesClassifier:\n",
    "    def fit(self, X, y):\n",
    "        self.classes = np.unique(y)\n",
    "        self.class_priors = np.zeros(len(self.classes))\n",
    "        self.class_kdes = []\n",
    "\n",
    "        # Calculate class priors\n",
    "        for i, c in enumerate(self.classes):\n",
    "            self.class_priors[i] = np.sum(y == c) / len(y)\n",
    "\n",
    "            # Extract features for the current class\n",
    "            class_features = X[y == c, :]\n",
    "\n",
    "            # Fit a kernel density estimator for each feature\n",
    "            feature_kdes = []\n",
    "            for j in range(class_features.shape[1]):\n",
    "                feature_kde = gaussian_kde(class_features[:, j])\n",
    "                feature_kdes.append(feature_kde)\n",
    "\n",
    "            self.class_kdes.append(feature_kdes)\n",
    "\n",
    "    def predict_proba(self, X):\n",
    "        probabilities = np.zeros((X.shape[0], len(self.classes)))\n",
    "\n",
    "        # Calculate class probabilities for each data point\n",
    "        for i, c in enumerate(self.classes):\n",
    "            class_prior = self.class_priors[i]\n",
    "            class_kde = self.class_kdes[i]\n",
    "\n",
    "            # Calculate the product of kernel density estimates for each feature\n",
    "            class_prob = class_prior\n",
    "            for j in range(X.shape[1]):\n",
    "                feature_kde = class_kde[j]\n",
    "                class_prob *= feature_kde.evaluate(X[:, j])\n",
    "\n",
    "            probabilities[:, i] = class_prob\n",
    "\n",
    "        # Normalize probabilities to sum to 1 for each data point\n",
    "        probabilities /= np.sum(probabilities, axis=1, keepdims=True)\n",
    "\n",
    "        return probabilities\n",
    "\n",
    "    def predict(self, X):\n",
    "        probabilities = self.predict_proba(X)\n",
    "        return np.argmax(probabilities, axis=1)\n",
    "\n",
    "# Example usage:\n",
    "# Assuming you have features (X_train) and corresponding labels (y_train)\n",
    "# Create an instance of the NaiveBayesClassifier\n",
    "nb_classifier = NaiveBayesClassifier()\n",
    "\n",
    "# Fit the model to the training data\n",
    "nb_classifier.fit(X_train, y_train)\n",
    "\n",
    "# Make predictions on new data (X_test)\n",
    "predictions = nb_classifier.predict(X_test)\n"
   ]
  }
 ],
 "metadata": {
  "kernelspec": {
   "display_name": "Python 3",
   "language": "python",
   "name": "python3"
  },
  "language_info": {
   "codemirror_mode": {
    "name": "ipython",
    "version": 3
   },
   "file_extension": ".py",
   "mimetype": "text/x-python",
   "name": "python",
   "nbconvert_exporter": "python",
   "pygments_lexer": "ipython3",
   "version": "3.11.3"
  }
 },
 "nbformat": 4,
 "nbformat_minor": 2
}
