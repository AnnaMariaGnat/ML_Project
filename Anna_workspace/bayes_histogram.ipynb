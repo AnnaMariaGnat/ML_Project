{
 "cells": [
  {
   "cell_type": "code",
   "execution_count": 4,
   "metadata": {},
   "outputs": [],
   "source": [
    "''' Needed libraries '''\n",
    "\n",
    "import numpy as np # For matrix operations and numerical processing\n",
    "import matplotlib.pyplot as plt # For plotting\n",
    "import os, sys # For filepaths"
   ]
  },
  {
   "cell_type": "code",
   "execution_count": 5,
   "metadata": {},
   "outputs": [],
   "source": [
    "''' Add the datasets and libraries to the system path '''\n",
    "\n",
    "# Find the path to our implementations\n",
    "current_directory = os.getcwd()\n",
    "parent_directory = os.path.dirname(current_directory)\n",
    "home_directory = os.path.dirname(parent_directory)\n",
    "libraries_path = os.path.join(home_directory, 'Libraries')\n",
    "\n",
    "# Find the path to the datasets\n",
    "datasets_path = os.path.join(home_directory, 'Datasets')\n",
    "\n",
    "# Add them both to the system path\n",
    "sys.path.append(datasets_path)\n",
    "sys.path.append(libraries_path)"
   ]
  },
  {
   "cell_type": "code",
   "execution_count": null,
   "metadata": {},
   "outputs": [],
   "source": [
    "from Bayes_hist import Bayes_classifier"
   ]
  },
  {
   "cell_type": "markdown",
   "metadata": {},
   "source": [
    "# Bayes Classifier"
   ]
  },
  {
   "cell_type": "markdown",
   "metadata": {},
   "source": [
    "Estimate the feature distributions $f(x_1|y)$ and $f(x_2|y)$ using:\n",
    "$$\\hat{f}(x) = \\frac{\\text{number of observations in bin containing x}}{nh}$$\n",
    "where: \\\n",
    "n - number of observations and \\\n",
    "h - width of the bin\n"
   ]
  },
  {
   "cell_type": "code",
   "execution_count": 102,
   "metadata": {},
   "outputs": [
    {
     "data": {
      "text/plain": [
       "10"
      ]
     },
     "execution_count": 102,
     "metadata": {},
     "output_type": "execute_result"
    }
   ],
   "source": [
    "# Small toy example for the ease of coding it\n",
    "\n",
    "# Features (two columns = two LDA components)\n",
    "features = np.array([\n",
    "    [1.0, 2.0],\n",
    "    [1.5, 1.8],\n",
    "    [5.0, 8.0],\n",
    "    [8.0, 8.0],\n",
    "    [1.0, 0.6],\n",
    "    [9.0, 11.0],\n",
    "    [8.0, 2.0],\n",
    "    [10.0, 2.0],\n",
    "    [9.0, 3.0],\n",
    "    [2.0, 3.0]\n",
    "])\n",
    "\n",
    "# Labels (five classes)\n",
    "labels = np.array([0, 1, 2, 3, 4, 0, 1, 3, 2, 4])\n",
    "\n",
    "n_features = len(features.T)\n",
    "n_obs = len(features)"
   ]
  },
  {
   "cell_type": "code",
   "execution_count": 103,
   "metadata": {},
   "outputs": [
    {
     "data": {
      "text/plain": [
       "({0: 10.0, 1: 11.0}, {0: 1.0, 1: 0.6})"
      ]
     },
     "execution_count": 103,
     "metadata": {},
     "output_type": "execute_result"
    }
   ],
   "source": [
    "# Getting the min and max values of features to determine min and max for the histogram\n",
    "min_features = {}\n",
    "max_features = {}\n",
    "for i in range(len(features.T)):\n",
    "    max_feature = max(features.T[i])\n",
    "    max_features[i] = max_feature\n",
    "    min_feature = min(features.T[i])\n",
    "    min_features[i] = min_feature\n",
    "max_features, min_features"
   ]
  },
  {
   "cell_type": "markdown",
   "metadata": {},
   "source": [
    "Estimating the bin width using Scotts rule: \n",
    "$$ b = \\frac{3.5 \\times \\text{sample standard deviation}}{n^{1/3}}"
   ]
  },
  {
   "cell_type": "code",
   "execution_count": 109,
   "metadata": {},
   "outputs": [],
   "source": [
    "hist_start = min(min_features.values())\n",
    "hist_end = max(max_features.values())\n",
    "\n",
    "sample_dev = np.std(features.T[0])\n",
    "n = len(features)\n",
    "b = int(3.5 * sample_dev / n **(1/3))"
   ]
  },
  {
   "cell_type": "markdown",
   "metadata": {},
   "source": [
    "Use the histogram as a PDF of each feature"
   ]
  },
  {
   "cell_type": "code",
   "execution_count": 121,
   "metadata": {},
   "outputs": [
    {
     "data": {
      "image/png": "[encoded data removed]",
      "text/plain": [
       "<Figure size 640x480 with 1 Axes>"
      ]
     },
     "metadata": {},
     "output_type": "display_data"
    }
   ],
   "source": [
    "f1_c1_hist = np.histogram(features[labels==1][:,0])\n",
    "plt.hist(f1_c1_hist)\n",
    "plt.show()"
   ]
  },
  {
   "cell_type": "code",
   "execution_count": 118,
   "metadata": {},
   "outputs": [
    {
     "data": {
      "text/plain": [
       "array([1.5, 8. ])"
      ]
     },
     "execution_count": 118,
     "metadata": {},
     "output_type": "execute_result"
    }
   ],
   "source": []
  }
 ],
 "metadata": {
  "kernelspec": {
   "display_name": "Python 3",
   "language": "python",
   "name": "python3"
  },
  "language_info": {
   "codemirror_mode": {
    "name": "ipython",
    "version": 3
   },
   "file_extension": ".py",
   "mimetype": "text/x-python",
   "name": "python",
   "nbconvert_exporter": "python",
   "pygments_lexer": "ipython3",
   "version": "3.11.3"
  }
 },
 "nbformat": 4,
 "nbformat_minor": 2
}
