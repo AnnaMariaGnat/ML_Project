{
 "cells": [
  {
   "cell_type": "code",
   "execution_count": 1,
   "metadata": {},
   "outputs": [],
   "source": [
    "''' Needed libraries '''\n",
    "\n",
    "import numpy as np # For matrix operations and numerical processing\n",
    "import matplotlib.pyplot as plt # For plotting\n",
    "import os, sys # For filepaths"
   ]
  },
  {
   "cell_type": "code",
   "execution_count": 2,
   "metadata": {},
   "outputs": [],
   "source": [
    "''' Add the datasets and libraries to the system path '''\n",
    "\n",
    "# Find the path to our implementations\n",
    "current_directory = os.getcwd()\n",
    "parent_directory = os.path.dirname(current_directory)\n",
    "home_directory = os.path.dirname(parent_directory)\n",
    "libraries_path = os.path.join(home_directory, 'Libraries')\n",
    "\n",
    "# Find the path to the datasets\n",
    "datasets_path = os.path.join(home_directory, 'Datasets')\n",
    "\n",
    "# Add them both to the system path\n",
    "sys.path.append(datasets_path)\n",
    "sys.path.append(libraries_path)"
   ]
  },
  {
   "cell_type": "code",
   "execution_count": 3,
   "metadata": {},
   "outputs": [],
   "source": [
    "import kernel"
   ]
  },
  {
   "cell_type": "code",
   "execution_count": 4,
   "metadata": {},
   "outputs": [],
   "source": [
    "''' TESTING '''\n",
    "\n",
    "# Features (two columns = two LDA components)\n",
    "features = np.array([\n",
    "    [1.0, 2.0],\n",
    "    [1.5, 1.8],\n",
    "    [5.0, 8.0],\n",
    "    [8.0, 8.0],\n",
    "    [1.0, 0.6],\n",
    "    [9.0, 11.0],\n",
    "    [8.0, 2.0],\n",
    "    [10.0, 2.0],\n",
    "    [9.0, 3.0],\n",
    "    [2.0, 3.0]\n",
    "])\n",
    "\n",
    "# Labels (five classes)\n",
    "labels = np.array([0, 1, 2, 3, 4, 0, 1, 3, 2, 4])"
   ]
  },
  {
   "cell_type": "code",
   "execution_count": 5,
   "metadata": {},
   "outputs": [
    {
     "name": "stdout",
     "output_type": "stream",
     "text": [
      "[[1.5 1.8]\n",
      " [8.  2. ]]\n",
      "2\n"
     ]
    }
   ],
   "source": [
    "classssss = features[labels == 1]\n",
    "print(classssss)\n",
    "print(classssss.shape[1])"
   ]
  },
  {
   "cell_type": "code",
   "execution_count": 6,
   "metadata": {},
   "outputs": [
    {
     "name": "stdout",
     "output_type": "stream",
     "text": [
      "[0.10798195 0.79788456]\n",
      "[2.70633891e-04 4.83941449e-01]\n",
      "[0.48394166 0.70413065]\n",
      "[4.04564610e-06 1.06332455e+00]\n",
      "[0.21596387 0.00026766]\n",
      "[0.48420911 0.10798193]\n",
      "[4.92805146e-01 1.82694429e-11]\n",
      "[0.48394442 0.48394145]\n",
      "[2.98559080e-06 1.28182601e+00]\n",
      "[2.67661469e-04 8.44522214e-01]\n",
      "[[<function kdf at 0x00000277C530EE80>, <function kdf at 0x00000277C530EE80>], [<function kdf at 0x00000277C530EE80>, <function kdf at 0x00000277C530EE80>], [<function kdf at 0x00000277C530EE80>, <function kdf at 0x00000277C530EE80>], [<function kdf at 0x00000277C530EE80>, <function kdf at 0x00000277C530EE80>], [<function kdf at 0x00000277C530EE80>, <function kdf at 0x00000277C530EE80>]]\n"
     ]
    }
   ],
   "source": [
    "x = np.array([8.0, 2.0])\n",
    "looper = kernel.looper(x, features, labels, 1)\n",
    "# class_kde = kernel.class_kde(looper)\n",
    "\n",
    "print(looper)\n",
    "# print(class_kde)"
   ]
  },
  {
   "cell_type": "markdown",
   "metadata": {},
   "source": []
  },
  {
   "cell_type": "code",
   "execution_count": 7,
   "metadata": {},
   "outputs": [
    {
     "data": {
      "text/plain": [
       "10000"
      ]
     },
     "execution_count": 7,
     "metadata": {},
     "output_type": "execute_result"
    }
   ],
   "source": [
    "''' Loading in the dataset and splitting into observations and labels '''\n",
    "\n",
    "dataset= np.load(os.path.join(datasets_path, 'fashion_train.npy'))  # Load dataset\n",
    "X = dataset[:, :-1] # Define X as all columns except the last one\n",
    "y = dataset[:, -1] # Define y as the last column\n",
    "X.shape[0]"
   ]
  },
  {
   "cell_type": "code",
   "execution_count": 8,
   "metadata": {},
   "outputs": [
    {
     "ename": "TypeError",
     "evalue": "kdf() missing 1 required positional argument: 'h'",
     "output_type": "error",
     "traceback": [
      "\u001b[1;31m---------------------------------------------------------------------------\u001b[0m",
      "\u001b[1;31mTypeError\u001b[0m                                 Traceback (most recent call last)",
      "\u001b[1;32mc:\\GitHub\\self_dev\\uni_stuff\\machine_learning\\ML_Project\\Notebooks\\00_Kernel_test\\00-Kernel_test.ipynb Cell 9\u001b[0m line \u001b[0;36m1\n\u001b[1;32m----> <a href='vscode-notebook-cell:/c%3A/GitHub/self_dev/uni_stuff/machine_learning/ML_Project/Notebooks/00_Kernel_test/00-Kernel_test.ipynb#W4sZmlsZQ%3D%3D?line=0'>1</a>\u001b[0m \u001b[39mprint\u001b[39m(kernel\u001b[39m.\u001b[39;49mkdf(X, \u001b[39m0.5\u001b[39;49m))\n",
      "\u001b[1;31mTypeError\u001b[0m: kdf() missing 1 required positional argument: 'h'"
     ]
    }
   ],
   "source": [
    "print(kernel.kdf(X, 0.5))"
   ]
  }
 ],
 "metadata": {
  "kernelspec": {
   "display_name": "Python 3",
   "language": "python",
   "name": "python3"
  },
  "language_info": {
   "codemirror_mode": {
    "name": "ipython",
    "version": 3
   },
   "file_extension": ".py",
   "mimetype": "text/x-python",
   "name": "python",
   "nbconvert_exporter": "python",
   "pygments_lexer": "ipython3",
   "version": "3.11.5"
  }
 },
 "nbformat": 4,
 "nbformat_minor": 2
}
