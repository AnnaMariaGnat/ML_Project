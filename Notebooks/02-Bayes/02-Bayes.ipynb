{
 "cells": [
  {
   "cell_type": "code",
   "execution_count": 1,
   "metadata": {},
   "outputs": [],
   "source": [
    "''' Needed libraries '''\n",
    "\n",
    "import numpy as np # For matrix operations and numerical processing\n",
    "import os, sys # For filepaths"
   ]
  },
  {
   "cell_type": "code",
   "execution_count": 2,
   "metadata": {},
   "outputs": [],
   "source": [
    "''' Add the datasets and libraries to the system path '''\n",
    "\n",
    "# Find the path to our implementations\n",
    "current_directory = os.getcwd()\n",
    "parent_directory = os.path.dirname(current_directory)\n",
    "home_directory = os.path.dirname(parent_directory)\n",
    "libraries_path = os.path.join(home_directory, 'Libraries')\n",
    "\n",
    "# Find the path to the datasets\n",
    "datasets_path = os.path.join(home_directory, 'Datasets')\n",
    "\n",
    "# Add them both to the system path\n",
    "sys.path.append(datasets_path)\n",
    "sys.path.append(libraries_path)"
   ]
  },
  {
   "cell_type": "code",
   "execution_count": 3,
   "metadata": {},
   "outputs": [],
   "source": [
    "''' Loading in the dataset and splitting into observations and labels '''\n",
    "\n",
    "dataset= np.load(os.path.join(datasets_path, 'fashion_train.npy'))  # Load dataset\n",
    "X = dataset[:, :-1] # Define X as all columns except the last one\n",
    "y = dataset[:, -1] # Define y as the last column\n",
    "projection_matrix = np.load(os.path.join(f\"{home_directory}/Exported_Data\", 'LDA_projection.npy')) # Import projection_matrix from file"
   ]
  },
  {
   "cell_type": "code",
   "execution_count": 4,
   "metadata": {},
   "outputs": [],
   "source": [
    "'''Import our Bayes classifier'''\n",
    "from Bayes import Bayes_classifier"
   ]
  },
  {
   "cell_type": "markdown",
   "metadata": {},
   "source": [
    "# Naive Bayes classifier"
   ]
  },
  {
   "cell_type": "markdown",
   "metadata": {},
   "source": [
    "Naive Bayes classifier classifies to the class with the highest posterior probablity: \n",
    "$$ P(Y=k|x)=\\frac{\\pi_kf_k(x)}{\\sum\\limits_{l=1}^K\\pi_kf_l(x)}$$"
   ]
  },
  {
   "cell_type": "markdown",
   "metadata": {},
   "source": [
    "We estimate the class priors, $\\pi_k$ using the proportion of training observations in class k $$\\pi_k=\\frac{\\text{n. of observations in class k}}{\\text{total n. of observations}}$$"
   ]
  },
  {
   "cell_type": "markdown",
   "metadata": {},
   "source": [
    "We estimate the class priors, $\\pi_k$ using the proportion of training observations in class k $$\\pi_k=\\frac{\\text{n. of observations in class k}}{\\text{total n. of observations}}$$"
   ]
  },
  {
   "cell_type": "markdown",
   "metadata": {},
   "source": [
    "We estimate each density function $f_k(x_i)$ of a feature $x_i$ in each class $k$ using the Gaussian kernel density estimate\n",
    "The Gaussian Kernel is given as below: $$K(x) = \\frac{1}{\\sigma \\sqrt{2\\pi}}e^{{-\\frac{1}{2}\\frac{(x-\\mu)^2}{\\sigma^2}}}$$"
   ]
  },
  {
   "cell_type": "markdown",
   "metadata": {},
   "source": [
    "# Testing our implementation of Bayes "
   ]
  },
  {
   "cell_type": "code",
   "execution_count": 5,
   "metadata": {},
   "outputs": [],
   "source": [
    "h  = 1.06 * np.std(X) * np.power(X.shape[0], -1/5)\n",
    "bc = Bayes_classifier(h)\n",
    "bc.fit(X,y)"
   ]
  },
  {
   "cell_type": "code",
   "execution_count": 7,
   "metadata": {},
   "outputs": [
    {
     "data": {
      "text/plain": [
       "[0.2033, 0.1947, 0.2001, 0.2005, 0.2014]"
      ]
     },
     "execution_count": 7,
     "metadata": {},
     "output_type": "execute_result"
    }
   ],
   "source": [
    "bc.class_priors()"
   ]
  },
  {
   "cell_type": "markdown",
   "metadata": {},
   "source": [
    "Chossing a datapoint, feature and class to compute the results for - to then compare to manual computation "
   ]
  },
  {
   "cell_type": "code",
   "execution_count": 17,
   "metadata": {},
   "outputs": [],
   "source": [
    "datapoint_feature = projection_matrix[100]\n",
    "test_observation_feature = [-0.12, -0.23]"
   ]
  },
  {
   "cell_type": "code",
   "execution_count": 19,
   "metadata": {},
   "outputs": [
    {
     "data": {
      "text/plain": [
       "0.026385329989916287"
      ]
     },
     "execution_count": 19,
     "metadata": {},
     "output_type": "execute_result"
    }
   ],
   "source": [
    "bc.kernel(datapoint_feature[1],test_observation_feature[1] )"
   ]
  },
  {
   "cell_type": "code",
   "execution_count": 20,
   "metadata": {},
   "outputs": [
    {
     "data": {
      "text/plain": [
       "[array([0.00173127, 0.00173751]),\n",
       " array([0.00126537, 0.00173264]),\n",
       " array([0.00172703, 0.00166856]),\n",
       " array([0.00173371, 0.00167777]),\n",
       " array([0.00172424, 0.00172092])]"
      ]
     },
     "execution_count": 20,
     "metadata": {},
     "output_type": "execute_result"
    }
   ],
   "source": [
    "bc.kde(test_observation_feature)"
   ]
  },
  {
   "cell_type": "code",
   "execution_count": 21,
   "metadata": {},
   "outputs": [
    {
     "data": {
      "text/plain": [
       "[3.00811163637404e-06,\n",
       " 2.192434162687451e-06,\n",
       " 2.8816508438964213e-06,\n",
       " 2.908760815837642e-06,\n",
       " 2.967275949119978e-06]"
      ]
     },
     "execution_count": 21,
     "metadata": {},
     "output_type": "execute_result"
    }
   ],
   "source": [
    "bc.pdf(test_observation_feature)"
   ]
  },
  {
   "cell_type": "code",
   "execution_count": 22,
   "metadata": {},
   "outputs": [
    {
     "data": {
      "text/plain": [
       "[0.21873456525452684,\n",
       " 0.15267875194016584,\n",
       " 0.20624077685256045,\n",
       " 0.208597201213748,\n",
       " 0.21374870473899896]"
      ]
     },
     "execution_count": 22,
     "metadata": {},
     "output_type": "execute_result"
    }
   ],
   "source": [
    "bc.posterior_prob(test_observation_feature)"
   ]
  },
  {
   "cell_type": "code",
   "execution_count": 23,
   "metadata": {},
   "outputs": [
    {
     "data": {
      "text/plain": [
       "0"
      ]
     },
     "execution_count": 23,
     "metadata": {},
     "output_type": "execute_result"
    }
   ],
   "source": [
    "bc.classification(test_observation_feature) "
   ]
  }
 ],
 "metadata": {
  "kernelspec": {
   "display_name": "Python 3",
   "language": "python",
   "name": "python3"
  },
  "language_info": {
   "codemirror_mode": {
    "name": "ipython",
    "version": 3
   },
   "file_extension": ".py",
   "mimetype": "text/x-python",
   "name": "python",
   "nbconvert_exporter": "python",
   "pygments_lexer": "ipython3",
   "version": "3.11.2"
  }
 },
 "nbformat": 4,
 "nbformat_minor": 2
}
