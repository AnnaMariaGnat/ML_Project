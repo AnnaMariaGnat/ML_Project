{
 "cells": [
  {
   "cell_type": "code",
   "execution_count": null,
   "metadata": {},
   "outputs": [],
   "source": [
    "import numpy as np\n",
    "from sklearn.model_selection import KFold\n",
    "from sklearn.model_selection import train_test_split\n",
    "import os, sys # For filepaths\n",
    "import os\n",
    "import pandas as pd\n",
    "import numpy as np\n",
    "import matplotlib.pyplot as plt\n",
    "from sklearn.metrics import roc_curve, auc\n",
    "from sklearn.feature_selection import VarianceThreshold\n",
    "from sklearn.neighbors import KNeighborsClassifier as KNN\n",
    "from sklearn.tree import DecisionTreeClassifier as DTC\n",
    "from sklearn.linear_model import LogisticRegression as LR\n",
    "from sklearn.model_selection import GroupKFold, cross_val_score\n",
    "from sklearn.metrics import accuracy_score, precision_score, recall_score, f1_score, confusion_matrix, roc_auc_score\n",
    "from sklearn.decomposition import PCA\n",
    "from sklearn.preprocessing import label_binarize\n",
    "import pickle\n",
    "import sklearn.preprocessing as pre"
   ]
  },
  {
   "cell_type": "code",
   "execution_count": null,
   "metadata": {},
   "outputs": [],
   "source": [
    "''' Add the datasets and libraries to the system path '''\n",
    "\n",
    "# Find the path to our implementations\n",
    "current_directory = os.getcwd()\n",
    "parent_directory = os.path.dirname(current_directory)\n",
    "home_directory = os.path.dirname(parent_directory)\n",
    "libraries_path = os.path.join(home_directory, 'Libraries')\n",
    "\n",
    "# Find the path to the datasets\n",
    "datasets_path = os.path.join(home_directory, 'Datasets')\n",
    "\n",
    "# Add them both to the system path\n",
    "sys.path.append(datasets_path)\n",
    "sys.path.append(libraries_path)"
   ]
  },
  {
   "cell_type": "code",
   "execution_count": null,
   "metadata": {},
   "outputs": [],
   "source": [
    "''' Load the dataset '''\n",
    "\n",
    "dataset = np.load(os.path.join(datasets_path, 'fashion_train.npy'))\n",
    "print(\"Dataset shape: \", dataset.shape)"
   ]
  },
  {
   "cell_type": "code",
   "execution_count": null,
   "metadata": {},
   "outputs": [],
   "source": [
    "test_dataset = np.load(os.path.join(datasets_path, 'fashion_test.npy'))"
   ]
  },
  {
   "cell_type": "code",
   "execution_count": null,
   "metadata": {},
   "outputs": [],
   "source": [
    "X_train = dataset[:, :-1]  # Define the images as all columns except the last one\n",
    "y_train = dataset[:, -1] # Define the labels as the last column"
   ]
  },
  {
   "cell_type": "code",
   "execution_count": null,
   "metadata": {},
   "outputs": [],
   "source": [
    "X_test = test_dataset[:, :-1]  # Define the images as all columns except the last one\n",
    "y_test = test_dataset[:, -1] # Define the labels as the last column"
   ]
  },
  {
   "cell_type": "code",
   "execution_count": null,
   "metadata": {},
   "outputs": [],
   "source": [
    "# scaling the images\n",
    "scaler = pre.StandardScaler()\n",
    "X = scaler.fit_transform(X_train)"
   ]
  }
 ],
 "metadata": {
  "language_info": {
   "name": "python"
  }
 },
 "nbformat": 4,
 "nbformat_minor": 2
}
