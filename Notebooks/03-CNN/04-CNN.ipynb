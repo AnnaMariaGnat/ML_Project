{
 "cells": [
  {
   "cell_type": "markdown",
   "metadata": {},
   "source": [
    "# Convoluted Neural Network"
   ]
  },
  {
   "cell_type": "code",
   "execution_count": 1,
   "metadata": {},
   "outputs": [],
   "source": [
    "''' Needed libraries '''\n",
    "\n",
    "import numpy as np # For matrix operations and numerical processing\n",
    "import matplotlib.pyplot as plt # For plotting\n",
    "import os, sys # For filepaths\n",
    "# Neural Network libraries:\n",
    "import torch\n",
    "from torch import nn\n",
    "from torch.utils.data import DataLoader"
   ]
  },
  {
   "cell_type": "code",
   "execution_count": 2,
   "metadata": {},
   "outputs": [],
   "source": [
    "''' Add the datasets and libraries to the system path '''\n",
    "\n",
    "# Find the path to our implementations\n",
    "current_directory = os.getcwd()\n",
    "parent_directory = os.path.dirname(current_directory)\n",
    "home_directory = os.path.dirname(parent_directory)\n",
    "libraries_path = os.path.join(home_directory, 'Libraries')\n",
    "\n",
    "# Find the path to the datasets\n",
    "datasets_path = os.path.join(home_directory, 'Datasets')\n",
    "\n",
    "# Add them both to the system path\n",
    "sys.path.append(datasets_path)\n",
    "sys.path.append(libraries_path)"
   ]
  },
  {
   "cell_type": "code",
   "execution_count": 3,
   "metadata": {},
   "outputs": [
    {
     "name": "stdout",
     "output_type": "stream",
     "text": [
      "(10000, 784)\n",
      "(10000,)\n",
      "(5000, 784)\n",
      "(5000,)\n",
      "(784,)\n",
      "(28, 28)\n"
     ]
    }
   ],
   "source": [
    "''' Loading in the training and test sets '''\n",
    "\n",
    "training_set = np.load(os.path.join(datasets_path, 'fashion_train.npy'))  # Load training set\n",
    "train_X = training_set[:, :-1] # Define X as all columns except the last one\n",
    "train_y = training_set[:, -1] # Define y as the last column\n",
    "\n",
    "test_set = np.load(os.path.join(datasets_path, 'fashion_test.npy'))  # Load test set\n",
    "test_X = test_set[:, :-1] # Define X as all columns except the last one\n",
    "test_y = test_set[:, -1] # Define y as the last column\n",
    "\n",
    "# Checking sizes of datasets\n",
    "print(train_X.shape) # 10000 pictures, 784 pixels each\n",
    "print(train_y.shape) # 10000 labels\n",
    "print(test_X.shape) # 5000 pictures, 784 pixels each\n",
    "print(test_y.shape) # 5000 labels\n",
    "\n",
    "\n",
    "print(train_X[0].shape) # Pictures are vectors with length 784\n",
    "plot = train_X[0].reshape(28, 28) # Pictures need to be reshaped to 28x28 to be plotted (784 pixels total)\n",
    "print(plot.shape) # Pictures are now 28x28"
   ]
  },
  {
   "cell_type": "code",
   "execution_count": 4,
   "metadata": {},
   "outputs": [],
   "source": [
    "''' Resize the pixel values to have mean 0 and standard deviation 1 '''\n",
    "# Calculate the mean and standard deviation of the training set\n",
    "mean = np.mean(train_X)\n",
    "std = np.std(train_X)\n",
    "\n",
    "# Apply the transformation to both the training and test sets\n",
    "train_X = (train_X - mean) / std\n",
    "test_X = (test_X - mean) / std"
   ]
  },
  {
   "cell_type": "code",
   "execution_count": 5,
   "metadata": {},
   "outputs": [],
   "source": [
    "''' Convert the data to tensors to be used by PyTorch '''\n",
    "tensor_train_X = torch.from_numpy(train_X).float()\n",
    "tensor_train_y = torch.from_numpy(train_y).long()\n",
    "tensor_test_X = torch.from_numpy(test_X).float()\n",
    "tensor_test_y = torch.from_numpy(test_y).long()"
   ]
  },
  {
   "cell_type": "code",
   "execution_count": 6,
   "metadata": {},
   "outputs": [],
   "source": [
    "''' Batch size '''\n",
    "batch_size = 100 # Number of samples in each batch\n",
    "\n",
    "''' Reshape all items in both sets to be 28x28 instead of 784x1 '''\n",
    "tensor_train_X = tensor_train_X.reshape(-1, 1, 28, 28)\n",
    "tensor_test_X = tensor_test_X.reshape(-1, 1, 28, 28)"
   ]
  },
  {
   "cell_type": "code",
   "execution_count": 37,
   "metadata": {},
   "outputs": [
    {
     "name": "stdout",
     "output_type": "stream",
     "text": [
      "Shape of X [N, C, H, W]: torch.Size([100, 1, 28, 28])\n",
      "Shape of y: torch.Size([100]) torch.int64\n"
     ]
    }
   ],
   "source": [
    "''' Loading data '''\n",
    "train_loader = DataLoader(list(zip(tensor_train_X, tensor_train_y)), batch_size=batch_size, shuffle=True)\n",
    "test_loader = DataLoader(list(zip(tensor_test_X, tensor_test_y)), batch_size=batch_size, shuffle=False)\n",
    "\n",
    "for X, y in train_loader:\n",
    "    print(f\"Shape of X [N, C, H, W]: {X.shape}\")\n",
    "    print(f\"Shape of y: {y.shape} {y.dtype}\")\n",
    "    break"
   ]
  },
  {
   "cell_type": "code",
   "execution_count": 42,
   "metadata": {},
   "outputs": [
    {
     "name": "stdout",
     "output_type": "stream",
     "text": [
      "Using cpu device\n",
      "NeuralNetwork(\n",
      "  (stack): Sequential(\n",
      "    (0): Conv2d(1, 32, kernel_size=(3, 3), stride=(1, 1), padding=(1, 1))\n",
      "    (1): ReLU()\n",
      "    (2): MaxPool2d(kernel_size=2, stride=2, padding=0, dilation=1, ceil_mode=False)\n",
      "    (3): Conv2d(32, 64, kernel_size=(3, 3), stride=(1, 1), padding=(1, 1))\n",
      "    (4): ReLU()\n",
      "    (5): MaxPool2d(kernel_size=2, stride=2, padding=0, dilation=1, ceil_mode=False)\n",
      "    (6): Flatten(start_dim=1, end_dim=-1)\n",
      "    (7): Linear(in_features=3136, out_features=128, bias=True)\n",
      "    (8): ReLU()\n",
      "    (9): Linear(in_features=128, out_features=10, bias=True)\n",
      "  )\n",
      ")\n"
     ]
    }
   ],
   "source": [
    "''' Creating models '''\n",
    "\n",
    "# Get cpu, gpu or mps device for training.\n",
    "device = (\n",
    "    \"cuda\"\n",
    "    if torch.cuda.is_available()\n",
    "    else \"mps\"\n",
    "    if torch.backends.mps.is_available()\n",
    "    else \"cpu\"\n",
    ")\n",
    "print(f\"Using {device} device\")\n",
    "\n",
    "\n",
    "# Define model\n",
    "class NeuralNetwork(nn.Module):\n",
    "    def __init__(self):\n",
    "        super().__init__()\n",
    "        self.stack = nn.Sequential(\n",
    "            nn.Conv2d(1, 32, kernel_size=3, padding=1),\n",
    "            nn.ReLU(),\n",
    "            nn.MaxPool2d(2),\n",
    "            nn.Conv2d(32, 64, kernel_size=3, padding=1),\n",
    "            nn.ReLU(),\n",
    "            nn.MaxPool2d(2),\n",
    "            nn.Flatten(),\n",
    "            nn.Linear(64 * 7 * 7, 128),\n",
    "            nn.ReLU(),\n",
    "            nn.Linear(128, 10)\n",
    "        )\n",
    "\n",
    "    def forward(self, x):\n",
    "        logits = self.stack(x)\n",
    "        return logits\n",
    "\n",
    "model = NeuralNetwork().to(device)\n",
    "print(model)"
   ]
  },
  {
   "cell_type": "code",
   "execution_count": 22,
   "metadata": {},
   "outputs": [],
   "source": [
    "''' Training loop '''\n",
    "\n",
    "def train(dataloader, model, loss_fn, optimizer):\n",
    "    size = len(dataloader.dataset)\n",
    "    model.train()\n",
    "    for batch, (X, y) in enumerate(dataloader):\n",
    "        X, y = X.to(device), y.to(device)\n",
    "\n",
    "        # Compute prediction error\n",
    "        pred = model(X)\n",
    "        loss = loss_fn(pred, y)\n",
    "\n",
    "        # Backpropagation\n",
    "        loss.backward()\n",
    "        optimizer.step()\n",
    "        optimizer.zero_grad()\n",
    "\n",
    "        if batch % 100 == 0:\n",
    "            loss, current = loss.item(), (batch + 1) * len(X)\n",
    "            print(f\"loss: {loss:>7f}  [{current:>5d}/{size:>5d}]\")"
   ]
  },
  {
   "cell_type": "code",
   "execution_count": 23,
   "metadata": {},
   "outputs": [],
   "source": [
    "''' Test loop '''\n",
    "def test(dataloader, model, loss_fn):\n",
    "    size = len(dataloader.dataset)\n",
    "    num_batches = len(dataloader)\n",
    "    model.eval()\n",
    "    test_loss, correct = 0, 0\n",
    "    with torch.no_grad():\n",
    "        for X, y in dataloader:\n",
    "            X, y = X.to(device), y.to(device)\n",
    "            pred = model(X)\n",
    "            test_loss += loss_fn(pred, y).item()\n",
    "            correct += (pred.argmax(1) == y).type(torch.float).sum().item()\n",
    "    test_loss /= num_batches\n",
    "    correct /= size\n",
    "    print(f\"Test Error: \\n Accuracy: {(100*correct):>0.1f}%, Avg loss: {test_loss:>8f} \\n\")"
   ]
  },
  {
   "cell_type": "code",
   "execution_count": 24,
   "metadata": {},
   "outputs": [],
   "source": [
    "''' Run CNN '''\n",
    "\n",
    "def runCNN(epochs, loss_fn, optimizer):\n",
    "    for t in range(epochs):\n",
    "        print(f\"Epoch {t+1}\\n-------------------------------\")\n",
    "        train(train_loader, model, loss_fn, optimizer)\n",
    "        test(test_loader, model, loss_fn)\n",
    "    print(\"Done!\")"
   ]
  },
  {
   "cell_type": "code",
   "execution_count": 43,
   "metadata": {},
   "outputs": [
    {
     "name": "stdout",
     "output_type": "stream",
     "text": [
      "Epoch 1\n",
      "-------------------------------\n",
      "loss: 2.279206  [  100/10000]\n",
      "Test Error: \n",
      " Accuracy: 79.4%, Avg loss: 0.528303 \n",
      "\n",
      "Epoch 2\n",
      "-------------------------------\n",
      "loss: 0.563574  [  100/10000]\n",
      "Test Error: \n",
      " Accuracy: 85.6%, Avg loss: 0.388808 \n",
      "\n",
      "Epoch 3\n",
      "-------------------------------\n",
      "loss: 0.285393  [  100/10000]\n",
      "Test Error: \n",
      " Accuracy: 85.0%, Avg loss: 0.384850 \n",
      "\n",
      "Epoch 4\n",
      "-------------------------------\n",
      "loss: 0.327432  [  100/10000]\n",
      "Test Error: \n",
      " Accuracy: 87.2%, Avg loss: 0.351346 \n",
      "\n",
      "Epoch 5\n",
      "-------------------------------\n",
      "loss: 0.276462  [  100/10000]\n",
      "Test Error: \n",
      " Accuracy: 86.4%, Avg loss: 0.371731 \n",
      "\n",
      "Epoch 6\n",
      "-------------------------------\n",
      "loss: 0.321615  [  100/10000]\n",
      "Test Error: \n",
      " Accuracy: 84.9%, Avg loss: 0.386662 \n",
      "\n",
      "Epoch 7\n",
      "-------------------------------\n",
      "loss: 0.251892  [  100/10000]\n",
      "Test Error: \n",
      " Accuracy: 87.1%, Avg loss: 0.349978 \n",
      "\n",
      "Epoch 8\n",
      "-------------------------------\n",
      "loss: 0.130393  [  100/10000]\n",
      "Test Error: \n",
      " Accuracy: 88.2%, Avg loss: 0.332606 \n",
      "\n",
      "Epoch 9\n",
      "-------------------------------\n",
      "loss: 0.267315  [  100/10000]\n",
      "Test Error: \n",
      " Accuracy: 86.6%, Avg loss: 0.377459 \n",
      "\n",
      "Epoch 10\n",
      "-------------------------------\n",
      "loss: 0.277991  [  100/10000]\n",
      "Test Error: \n",
      " Accuracy: 88.0%, Avg loss: 0.333197 \n",
      "\n",
      "Done!\n"
     ]
    }
   ],
   "source": [
    "''' Running the CNN '''\n",
    "\n",
    "# Learning rate\n",
    "learning_rate = 1e-3\n",
    "\n",
    "# Loss function\n",
    "loss_fn = nn.CrossEntropyLoss()\n",
    "\n",
    "# Optimizer\n",
    "optimizer= torch.optim.Adam(model.parameters(), lr=learning_rate)\n",
    "\n",
    "epochs = 10\n",
    "runCNN(epochs, loss_fn, optimizer)"
   ]
  },
  {
   "cell_type": "code",
   "execution_count": null,
   "metadata": {},
   "outputs": [],
   "source": [
    "# Optimize learning rate\n",
    "learning_rate_list = [1e-2, 1e-3, 1e-4, 1e-5, 1e-6]\n",
    "for lr in learning_rate_list:\n",
    "    sys.stdout = open(f\"output.txt\", \"a\")\n",
    "    print(f\"Learning rate: {lr}\")\n",
    "    runCNN(epochs, loss_fn, optimizer, lr=lr)\n",
    "    sys.stdout.close()"
   ]
  }
 ],
 "metadata": {
  "kernelspec": {
   "display_name": "Python 3",
   "language": "python",
   "name": "python3"
  },
  "language_info": {
   "codemirror_mode": {
    "name": "ipython",
    "version": 3
   },
   "file_extension": ".py",
   "mimetype": "text/x-python",
   "name": "python",
   "nbconvert_exporter": "python",
   "pygments_lexer": "ipython3",
   "version": "3.11.5"
  }
 },
 "nbformat": 4,
 "nbformat_minor": 2
}
