{
 "cells": [
  {
   "cell_type": "markdown",
   "metadata": {},
   "source": [
    "# Convoluted Neural Network"
   ]
  },
  {
   "cell_type": "code",
   "execution_count": 1,
   "metadata": {},
   "outputs": [],
   "source": [
    "import os, sys\n",
    "import sklearn.preprocessing as pre\n",
    "import numpy as np"
   ]
  },
  {
   "cell_type": "code",
   "execution_count": 2,
   "metadata": {},
   "outputs": [],
   "source": [
    "''' Add the datasets and libraries to the system path '''\n",
    "\n",
    "# Find the path to our implementations\n",
    "current_directory = os.getcwd()\n",
    "parent_directory = os.path.dirname(current_directory)\n",
    "home_directory = os.path.dirname(parent_directory)\n",
    "libraries_path = os.path.join(home_directory, 'Libraries')\n",
    "\n",
    "# Find the path to the datasets\n",
    "datasets_path = os.path.join(home_directory, 'Datasets')\n",
    "\n",
    "# Add them both to the system path\n",
    "sys.path.append(datasets_path)\n",
    "sys.path.append(libraries_path)\n",
    "\n",
    "if os.path.exists('trained_models') == False:\n",
    "    os.mkdir('trained_models')"
   ]
  },
  {
   "cell_type": "code",
   "execution_count": 3,
   "metadata": {},
   "outputs": [
    {
     "name": "stdout",
     "output_type": "stream",
     "text": [
      "Dataset shape:  (10000, 785)\n",
      "Dataset shape:  (5000, 785)\n"
     ]
    }
   ],
   "source": [
    "''' Load the dataset '''\n",
    "\n",
    "dataset = np.load(os.path.join(datasets_path, 'fashion_train.npy'))\n",
    "print(\"Dataset shape: \", dataset.shape)\n",
    "dataset_test = np.load(os.path.join(datasets_path, 'fashion_test.npy'))\n",
    "print(\"Dataset shape: \", dataset_test.shape)"
   ]
  },
  {
   "cell_type": "code",
   "execution_count": 4,
   "metadata": {},
   "outputs": [],
   "source": [
    "X = dataset[:, :-1]  # Define the images as all columns except the last one\n",
    "y = dataset[:, -1] # Define the labels as the last column\n",
    "X_test = dataset_test[:, :-1]\n",
    "y_test = dataset_test[:, -1]"
   ]
  },
  {
   "cell_type": "code",
   "execution_count": 5,
   "metadata": {},
   "outputs": [
    {
     "name": "stdout",
     "output_type": "stream",
     "text": [
      "<class 'numpy.ndarray'>\n",
      "X shape:  (10000, 784)\n",
      "<class 'numpy.ndarray'>\n",
      "y shape:  (10000,)\n",
      "<class 'numpy.ndarray'>\n",
      "X_test shape:  (5000, 784)\n",
      "<class 'numpy.ndarray'>\n",
      "y_test shape:  (5000,)\n"
     ]
    }
   ],
   "source": [
    "print(type(X))\n",
    "print(\"X shape: \", X.shape)\n",
    "print(type(y))\n",
    "print(\"y shape: \", y.shape)\n",
    "print(type(X_test))\n",
    "print(\"X_test shape: \", X_test.shape)\n",
    "print(type(y_test))\n",
    "print(\"y_test shape: \", y_test.shape)"
   ]
  },
  {
   "cell_type": "code",
   "execution_count": 6,
   "metadata": {},
   "outputs": [],
   "source": [
    "# scaling the images\n",
    "scaler = pre.StandardScaler()\n",
    "X = scaler.fit_transform(X)\n",
    "X_test = scaler.fit_transform(X_test)"
   ]
  },
  {
   "cell_type": "code",
   "execution_count": 7,
   "metadata": {},
   "outputs": [],
   "source": [
    "from CNN import CNN"
   ]
  },
  {
   "cell_type": "code",
   "execution_count": 8,
   "metadata": {},
   "outputs": [],
   "source": [
    "cnn_model = CNN()\n",
    "\n",
    "if os.path.exists('trained_models/cnn_model'):\n",
    "    cnn_model.load_model('cnn_model')\n",
    "else:\n",
    "    # cnn_model.fit(X, y)\n",
    "    cnn_model.fit(X, y, X_test, y_test) # include test set for validation for plotting\n",
    "    cnn_model.save_model('cnn_model')"
   ]
  },
  {
   "cell_type": "code",
   "execution_count": 9,
   "metadata": {},
   "outputs": [
    {
     "data": {
      "text/plain": [
       "0.885"
      ]
     },
     "execution_count": 9,
     "metadata": {},
     "output_type": "execute_result"
    }
   ],
   "source": [
    "cnn_model.evaluate(X_test, y_test)"
   ]
  },
  {
   "cell_type": "code",
   "execution_count": 10,
   "metadata": {},
   "outputs": [
    {
     "name": "stdout",
     "output_type": "stream",
     "text": [
      "Model summary:\n",
      "Epochs: 28\n",
      "Learning rate: 0.0025474653904364957\n",
      "Layers:\n",
      "----------------------------------------------------------------\n",
      "        Layer (type)               Output Shape         Param #\n",
      "================================================================\n",
      "            Conv2d-1           [-1, 32, 28, 28]             320\n",
      "              ReLU-2           [-1, 32, 28, 28]               0\n",
      "         MaxPool2d-3           [-1, 32, 14, 14]               0\n",
      "            Conv2d-4           [-1, 64, 14, 14]          18,496\n",
      "              ReLU-5           [-1, 64, 14, 14]               0\n",
      "         MaxPool2d-6             [-1, 64, 7, 7]               0\n",
      "           Dropout-7             [-1, 64, 7, 7]               0\n",
      "           Flatten-8                 [-1, 3136]               0\n",
      "            Linear-9                  [-1, 128]         401,536\n",
      "             ReLU-10                  [-1, 128]               0\n",
      "          Dropout-11                  [-1, 128]               0\n",
      "           Linear-12                    [-1, 5]             645\n",
      "================================================================\n",
      "Total params: 420,997\n",
      "Trainable params: 420,997\n",
      "Non-trainable params: 0\n",
      "----------------------------------------------------------------\n",
      "Input size (MB): 0.00\n",
      "Forward/backward pass size (MB): 0.70\n",
      "Params size (MB): 1.61\n",
      "Estimated Total Size (MB): 2.31\n",
      "----------------------------------------------------------------\n",
      "Criterion:\n",
      "CrossEntropyLoss()\n"
     ]
    }
   ],
   "source": [
    "cnn_model.summary()"
   ]
  },
  {
   "cell_type": "code",
   "execution_count": 12,
   "metadata": {},
   "outputs": [
    {
     "data": {
      "image/png": "[encoded data removed]",
      "text/plain": [
       "<Figure size 640x480 with 1 Axes>"
      ]
     },
     "metadata": {},
     "output_type": "display_data"
    }
   ],
   "source": [
    "# Plot the loss and accuracy curves for training and validation\n",
    "import matplotlib.pyplot as plt\n",
    "plt.plot(cnn_model.history['loss'], color='b', label=\"Training loss\")\n",
    "plt.plot(cnn_model.history['val_loss'], color='r', label=\"Validation accuracy\")\n",
    "plt.title(\"Training Loss and Validation Accuracy\")\n",
    "plt.legend(loc='best')\n",
    "plt.savefig(os.path.join(home_directory,'Exported_Data/CNN_loss.png'), dpi=500)\n",
    "plt.show()"
   ]
  }
 ],
 "metadata": {
  "kernelspec": {
   "display_name": "Python 3",
   "language": "python",
   "name": "python3"
  },
  "language_info": {
   "codemirror_mode": {
    "name": "ipython",
    "version": 3
   },
   "file_extension": ".py",
   "mimetype": "text/x-python",
   "name": "python",
   "nbconvert_exporter": "python",
   "pygments_lexer": "ipython3",
   "version": "3.10.11"
  }
 },
 "nbformat": 4,
 "nbformat_minor": 2
}
