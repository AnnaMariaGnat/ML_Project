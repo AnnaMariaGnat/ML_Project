{
 "cells": [
  {
   "cell_type": "code",
   "execution_count": 1,
   "metadata": {},
   "outputs": [],
   "source": [
    "import numpy as np\n",
    "from sklearn.model_selection import KFold\n",
    "from sklearn.model_selection import train_test_split\n",
    "import os, sys # For filepaths\n",
    "import os\n",
    "import pandas as pd\n",
    "import numpy as np\n",
    "import matplotlib.pyplot as plt\n",
    "from sklearn.metrics import roc_curve, auc\n",
    "from sklearn.feature_selection import VarianceThreshold\n",
    "from sklearn.neighbors import KNeighborsClassifier as KNN\n",
    "from sklearn.tree import DecisionTreeClassifier as DTC\n",
    "from sklearn.linear_model import LogisticRegression as LR\n",
    "from sklearn.model_selection import GroupKFold, cross_val_score\n",
    "from sklearn.metrics import accuracy_score, precision_score, recall_score, f1_score, confusion_matrix, roc_auc_score\n",
    "from sklearn.decomposition import PCA\n",
    "from sklearn.preprocessing import label_binarize\n",
    "import pickle\n",
    "import sklearn.preprocessing as pre\n",
    "\n"
   ]
  },
  {
   "cell_type": "code",
   "execution_count": 2,
   "metadata": {},
   "outputs": [],
   "source": [
    "''' Add the datasets and libraries to the system path '''\n",
    "\n",
    "# Find the path to our implementations\n",
    "current_directory = os.getcwd()\n",
    "parent_directory = os.path.dirname(current_directory)\n",
    "home_directory = os.path.dirname(parent_directory)\n",
    "libraries_path = os.path.join(home_directory, 'Libraries')\n",
    "\n",
    "# Find the path to the datasets\n",
    "datasets_path = os.path.join(home_directory, 'Datasets')\n",
    "\n",
    "# Add them both to the system path\n",
    "sys.path.append(datasets_path)\n",
    "sys.path.append(libraries_path)"
   ]
  },
  {
   "cell_type": "code",
   "execution_count": 3,
   "metadata": {},
   "outputs": [
    {
     "name": "stdout",
     "output_type": "stream",
     "text": [
      "Dataset shape:  (10000, 785)\n",
      "Dataset shape:  (5000, 785)\n"
     ]
    }
   ],
   "source": [
    "''' Load the dataset '''\n",
    "\n",
    "dataset = np.load(os.path.join(datasets_path, 'fashion_train.npy'))\n",
    "print(\"Dataset shape: \", dataset.shape)\n",
    "dataset_test = np.load(os.path.join(datasets_path, 'fashion_test.npy'))\n",
    "print(\"Dataset shape: \", dataset_test.shape)"
   ]
  },
  {
   "cell_type": "code",
   "execution_count": 4,
   "metadata": {},
   "outputs": [],
   "source": [
    "X = dataset[:, :-1]  # Define the images as all columns except the last one\n",
    "y = dataset[:, -1] # Define the labels as the last column\n",
    "X_test = dataset_test[:, :-1]\n",
    "y_test = dataset_test[:, -1]"
   ]
  },
  {
   "cell_type": "code",
   "execution_count": 5,
   "metadata": {},
   "outputs": [
    {
     "name": "stdout",
     "output_type": "stream",
     "text": [
      "<class 'numpy.ndarray'>\n",
      "X shape:  (10000, 784)\n",
      "<class 'numpy.ndarray'>\n",
      "y shape:  (10000,)\n",
      "<class 'numpy.ndarray'>\n",
      "X_test shape:  (5000, 784)\n",
      "<class 'numpy.ndarray'>\n",
      "y_test shape:  (5000,)\n"
     ]
    }
   ],
   "source": [
    "print(type(X))\n",
    "print(\"X shape: \", X.shape)\n",
    "print(type(y))\n",
    "print(\"y shape: \", y.shape)\n",
    "print(type(X_test))\n",
    "print(\"X_test shape: \", X_test.shape)\n",
    "print(type(y_test))\n",
    "print(\"y_test shape: \", y_test.shape)"
   ]
  },
  {
   "cell_type": "markdown",
   "metadata": {},
   "source": [
    "## Cross validation"
   ]
  },
  {
   "cell_type": "code",
   "execution_count": 6,
   "metadata": {},
   "outputs": [],
   "source": [
    "# scaling the images\n",
    "scaler = pre.StandardScaler()\n",
    "X = scaler.fit_transform(X)\n",
    "X_test = scaler.fit_transform(X_test)"
   ]
  },
  {
   "cell_type": "code",
   "execution_count": 7,
   "metadata": {},
   "outputs": [],
   "source": [
    "# import classifiers \n",
    "from sklearn import svm \n",
    "from CNN import CNN\n",
    "from Bayes import Bayes_classifier\n",
    "from sklearn.neighbors import KNeighborsClassifier as KNN"
   ]
  },
  {
   "cell_type": "code",
   "execution_count": 8,
   "metadata": {},
   "outputs": [],
   "source": [
    "def accuracy(predictions, y_val): \n",
    "    correct_predictions = 0\n",
    "    \n",
    "    for yt, yp in zip(y_val, predictions):\n",
    "        if yt == yp:\n",
    "            correct_predictions += 1\n",
    "    return correct_predictions/predictions.shape[0]\n"
   ]
  },
  {
   "cell_type": "markdown",
   "metadata": {},
   "source": [
    "# CNN Hyperparameter Optimization"
   ]
  },
  {
   "cell_type": "code",
   "execution_count": 9,
   "metadata": {},
   "outputs": [
    {
     "data": {
      "application/vnd.jupyter.widget-view+json": {
       "model_id": "0a34bd9d28eb47acb0b390e662a301ce",
       "version_major": 2,
       "version_minor": 0
      },
      "text/plain": [
       "  0%|          | 0/100 [00:00<?, ?it/s]"
      ]
     },
     "metadata": {},
     "output_type": "display_data"
    },
    {
     "name": "stdout",
     "output_type": "stream",
     "text": [
      "Number of finished trials: 100\n",
      "Best accuracy: 0.8928\n",
      "Best hyperparameters: {'lr': 0.0021341285880589088, 'epochs': 36, 'step_size': 10, 'gamma': 0.007925633802563264}\n"
     ]
    }
   ],
   "source": [
    "import optuna\n",
    "from optuna.samplers import TPESampler\n",
    "\n",
    "def objective(trial):\n",
    "    # Invoke suggest methods of a Trial object to generate hyperparameters.\n",
    "    lr = trial.suggest_float('lr', 1e-4, 1e-2)\n",
    "    epochs = trial.suggest_int('epochs', 10, 40)\n",
    "    step_size = trial.suggest_int('step_size', 1, 10)\n",
    "    gamma = trial.suggest_float('gamma', 1e-4, 1e-2)\n",
    "\n",
    "    # Create a model with the hyperparameters above.\n",
    "    model = CNN(lr=lr, epochs=epochs, step_size=step_size, gamma=gamma)\n",
    "    \n",
    "    # Train the model and evaluate it.\n",
    "    model.fit(X, y)\n",
    "    model.evaluate(X_test, y_test)\n",
    "    accuracy = model.accuracy\n",
    "\n",
    "    return accuracy\n",
    "\n",
    "# Create a study object and optimize the objective function. use sampler\n",
    "study_name = 'CNN'\n",
    "storage_name = 'sqlite:///{}.db'.format(study_name)\n",
    "optuna.logging.set_verbosity(optuna.logging.WARNING)\n",
    "sampler = TPESampler(seed=42)\n",
    "study = optuna.create_study(study_name=study_name, storage=storage_name, load_if_exists=True, sampler=sampler, direction='maximize')\n",
    "study.optimize(objective, n_trials=100, n_jobs=-1, show_progress_bar=True)\n",
    "\n",
    "\n",
    "# Print the optimization results.\n",
    "print('Number of finished trials: {}'.format(len(study.trials)))\n",
    "print('Best accuracy: {}'.format(study.best_value))\n",
    "print(\"Best hyperparameters: {}\".format(study.best_params))"
   ]
  },
  {
   "cell_type": "code",
   "execution_count": 10,
   "metadata": {},
   "outputs": [
    {
     "data": {
      "application/vnd.plotly.v1+json": {
       "config": {
        "plotlyServerURL": "https://plot.ly"
       },
       "data": [
        {
         "mode": "markers",
         "name": "Objective Value",
         "type": "scatter",
         "x": [
          0,
          1,
          2,
          3,
          4,
          5,
          6,
          7,
          8,
          9,
          10,
          11,
          12,
          13,
          14,
          15,
          16,
          17,
          18,
          19,
          20,
          21,
          22,
          23,
          24,
          25,
          26,
          27,
          28,
          29,
          30,
          31,
          32,
          33,
          34,
          35,
          36,
          37,
          38,
          39,
          40,
          41,
          42,
          43,
          44,
          45,
          46,
          47,
          48,
          49,
          50,
          51,
          52,
          53,
          54,
          55,
          56,
          57,
          58,
          59,
          60,
          61,
          62,
          63,
          64,
          65,
          66,
          67,
          68,
          69,
          70,
          71,
          72,
          73,
          74,
          75,
          76,
          77,
          78,
          79,
          80,
          81,
          82,
          83,
          84,
          85,
          86,
          87,
          88,
          89,
          90,
          91,
          92,
          93,
          94,
          95,
          96,
          97,
          98,
          99
         ],
         "y": [
          0.8854,
          0.804,
          0.8764,
          0.8844,
          0.8708,
          0.871,
          0.8614,
          0.87,
          0.8508,
          0.8312,
          0.8698,
          0.8656,
          0.8852,
          0.8726,
          0.8686,
          0.874,
          0.854,
          0.8806,
          0.8626,
          0.8598,
          0.8532,
          0.8372,
          0.8584,
          0.85,
          0.8548,
          0.8512,
          0.874,
          0.8726,
          0.8714,
          0.8768,
          0.8712,
          0.878,
          0.866,
          0.8882,
          0.889,
          0.8888,
          0.8764,
          0.8652,
          0.8692,
          0.8862,
          0.8834,
          0.8858,
          0.883,
          0.8856,
          0.883,
          0.8832,
          0.8894,
          0.8886,
          0.8798,
          0.8818,
          0.8826,
          0.8796,
          0.8858,
          0.8822,
          0.8808,
          0.8796,
          0.8822,
          0.8904,
          0.8868,
          0.883,
          0.8856,
          0.886,
          0.8874,
          0.8914,
          0.8864,
          0.8818,
          0.8766,
          0.877,
          0.8784,
          0.8778,
          0.8824,
          0.8848,
          0.8816,
          0.8814,
          0.8756,
          0.8898,
          0.8858,
          0.8772,
          0.8844,
          0.8876,
          0.8872,
          0.8838,
          0.8852,
          0.8842,
          0.889,
          0.8928,
          0.8882,
          0.8858,
          0.884,
          0.8852,
          0.8862,
          0.8842,
          0.8882,
          0.8862,
          0.8858,
          0.8894,
          0.8874,
          0.8874,
          0.8912,
          0.8774
         ]
        },
        {
         "mode": "lines",
         "name": "Best Value",
         "type": "scatter",
         "x": [
          0,
          1,
          2,
          3,
          4,
          5,
          6,
          7,
          8,
          9,
          10,
          11,
          12,
          13,
          14,
          15,
          16,
          17,
          18,
          19,
          20,
          21,
          22,
          23,
          24,
          25,
          26,
          27,
          28,
          29,
          30,
          31,
          32,
          33,
          34,
          35,
          36,
          37,
          38,
          39,
          40,
          41,
          42,
          43,
          44,
          45,
          46,
          47,
          48,
          49,
          50,
          51,
          52,
          53,
          54,
          55,
          56,
          57,
          58,
          59,
          60,
          61,
          62,
          63,
          64,
          65,
          66,
          67,
          68,
          69,
          70,
          71,
          72,
          73,
          74,
          75,
          76,
          77,
          78,
          79,
          80,
          81,
          82,
          83,
          84,
          85,
          86,
          87,
          88,
          89,
          90,
          91,
          92,
          93,
          94,
          95,
          96,
          97,
          98,
          99
         ],
         "y": [
          0.8854,
          0.8854,
          0.8854,
          0.8854,
          0.8854,
          0.8854,
          0.8854,
          0.8854,
          0.8854,
          0.8854,
          0.8854,
          0.8854,
          0.8854,
          0.8854,
          0.8854,
          0.8854,
          0.8854,
          0.8854,
          0.8854,
          0.8854,
          0.8854,
          0.8854,
          0.8854,
          0.8854,
          0.8854,
          0.8854,
          0.8854,
          0.8854,
          0.8854,
          0.8854,
          0.8854,
          0.8854,
          0.8854,
          0.8882,
          0.889,
          0.889,
          0.889,
          0.889,
          0.889,
          0.889,
          0.889,
          0.889,
          0.889,
          0.889,
          0.889,
          0.889,
          0.8894,
          0.8894,
          0.8894,
          0.8894,
          0.8894,
          0.8894,
          0.8894,
          0.8894,
          0.8894,
          0.8894,
          0.8894,
          0.8904,
          0.8904,
          0.8904,
          0.8904,
          0.8904,
          0.8904,
          0.8914,
          0.8914,
          0.8914,
          0.8914,
          0.8914,
          0.8914,
          0.8914,
          0.8914,
          0.8914,
          0.8914,
          0.8914,
          0.8914,
          0.8914,
          0.8914,
          0.8914,
          0.8914,
          0.8914,
          0.8914,
          0.8914,
          0.8914,
          0.8914,
          0.8914,
          0.8928,
          0.8928,
          0.8928,
          0.8928,
          0.8928,
          0.8928,
          0.8928,
          0.8928,
          0.8928,
          0.8928,
          0.8928,
          0.8928,
          0.8928,
          0.8928,
          0.8928
         ]
        },
        {
         "marker": {
          "color": "#cccccc"
         },
         "mode": "markers",
         "name": "Infeasible Trial",
         "showlegend": false,
         "type": "scatter",
         "x": [],
         "y": []
        }
       ],
       "layout": {
        "template": {
         "data": {
          "bar": [
           {
            "error_x": {
             "color": "#2a3f5f"
            },
            "error_y": {
             "color": "#2a3f5f"
            },
            "marker": {
             "line": {
              "color": "#E5ECF6",
              "width": 0.5
             },
             "pattern": {
              "fillmode": "overlay",
              "size": 10,
              "solidity": 0.2
             }
            },
            "type": "bar"
           }
          ],
          "barpolar": [
           {
            "marker": {
             "line": {
              "color": "#E5ECF6",
              "width": 0.5
             },
             "pattern": {
              "fillmode": "overlay",
              "size": 10,
              "solidity": 0.2
             }
            },
            "type": "barpolar"
           }
          ],
          "carpet": [
           {
            "aaxis": {
             "endlinecolor": "#2a3f5f",
             "gridcolor": "white",
             "linecolor": "white",
             "minorgridcolor": "white",
             "startlinecolor": "#2a3f5f"
            },
            "baxis": {
             "endlinecolor": "#2a3f5f",
             "gridcolor": "white",
             "linecolor": "white",
             "minorgridcolor": "white",
             "startlinecolor": "#2a3f5f"
            },
            "type": "carpet"
           }
          ],
          "choropleth": [
           {
            "colorbar": {
             "outlinewidth": 0,
             "ticks": ""
            },
            "type": "choropleth"
           }
          ],
          "contour": [
           {
            "colorbar": {
             "outlinewidth": 0,
             "ticks": ""
            },
            "colorscale": [
             [
              0,
              "#0d0887"
             ],
             [
              0.1111111111111111,
              "#46039f"
             ],
             [
              0.2222222222222222,
              "#7201a8"
             ],
             [
              0.3333333333333333,
              "#9c179e"
             ],
             [
              0.4444444444444444,
              "#bd3786"
             ],
             [
              0.5555555555555556,
              "#d8576b"
             ],
             [
              0.6666666666666666,
              "#ed7953"
             ],
             [
              0.7777777777777778,
              "#fb9f3a"
             ],
             [
              0.8888888888888888,
              "#fdca26"
             ],
             [
              1,
              "#f0f921"
             ]
            ],
            "type": "contour"
           }
          ],
          "contourcarpet": [
           {
            "colorbar": {
             "outlinewidth": 0,
             "ticks": ""
            },
            "type": "contourcarpet"
           }
          ],
          "heatmap": [
           {
            "colorbar": {
             "outlinewidth": 0,
             "ticks": ""
            },
            "colorscale": [
             [
              0,
              "#0d0887"
             ],
             [
              0.1111111111111111,
              "#46039f"
             ],
             [
              0.2222222222222222,
              "#7201a8"
             ],
             [
              0.3333333333333333,
              "#9c179e"
             ],
             [
              0.4444444444444444,
              "#bd3786"
             ],
             [
              0.5555555555555556,
              "#d8576b"
             ],
             [
              0.6666666666666666,
              "#ed7953"
             ],
             [
              0.7777777777777778,
              "#fb9f3a"
             ],
             [
              0.8888888888888888,
              "#fdca26"
             ],
             [
              1,
              "#f0f921"
             ]
            ],
            "type": "heatmap"
           }
          ],
          "heatmapgl": [
           {
            "colorbar": {
             "outlinewidth": 0,
             "ticks": ""
            },
            "colorscale": [
             [
              0,
              "#0d0887"
             ],
             [
              0.1111111111111111,
              "#46039f"
             ],
             [
              0.2222222222222222,
              "#7201a8"
             ],
             [
              0.3333333333333333,
              "#9c179e"
             ],
             [
              0.4444444444444444,
              "#bd3786"
             ],
             [
              0.5555555555555556,
              "#d8576b"
             ],
             [
              0.6666666666666666,
              "#ed7953"
             ],
             [
              0.7777777777777778,
              "#fb9f3a"
             ],
             [
              0.8888888888888888,
              "#fdca26"
             ],
             [
              1,
              "#f0f921"
             ]
            ],
            "type": "heatmapgl"
           }
          ],
          "histogram": [
           {
            "marker": {
             "pattern": {
              "fillmode": "overlay",
              "size": 10,
              "solidity": 0.2
             }
            },
            "type": "histogram"
           }
          ],
          "histogram2d": [
           {
            "colorbar": {
             "outlinewidth": 0,
             "ticks": ""
            },
            "colorscale": [
             [
              0,
              "#0d0887"
             ],
             [
              0.1111111111111111,
              "#46039f"
             ],
             [
              0.2222222222222222,
              "#7201a8"
             ],
             [
              0.3333333333333333,
              "#9c179e"
             ],
             [
              0.4444444444444444,
              "#bd3786"
             ],
             [
              0.5555555555555556,
              "#d8576b"
             ],
             [
              0.6666666666666666,
              "#ed7953"
             ],
             [
              0.7777777777777778,
              "#fb9f3a"
             ],
             [
              0.8888888888888888,
              "#fdca26"
             ],
             [
              1,
              "#f0f921"
             ]
            ],
            "type": "histogram2d"
           }
          ],
          "histogram2dcontour": [
           {
            "colorbar": {
             "outlinewidth": 0,
             "ticks": ""
            },
            "colorscale": [
             [
              0,
              "#0d0887"
             ],
             [
              0.1111111111111111,
              "#46039f"
             ],
             [
              0.2222222222222222,
              "#7201a8"
             ],
             [
              0.3333333333333333,
              "#9c179e"
             ],
             [
              0.4444444444444444,
              "#bd3786"
             ],
             [
              0.5555555555555556,
              "#d8576b"
             ],
             [
              0.6666666666666666,
              "#ed7953"
             ],
             [
              0.7777777777777778,
              "#fb9f3a"
             ],
             [
              0.8888888888888888,
              "#fdca26"
             ],
             [
              1,
              "#f0f921"
             ]
            ],
            "type": "histogram2dcontour"
           }
          ],
          "mesh3d": [
           {
            "colorbar": {
             "outlinewidth": 0,
             "ticks": ""
            },
            "type": "mesh3d"
           }
          ],
          "parcoords": [
           {
            "line": {
             "colorbar": {
              "outlinewidth": 0,
              "ticks": ""
             }
            },
            "type": "parcoords"
           }
          ],
          "pie": [
           {
            "automargin": true,
            "type": "pie"
           }
          ],
          "scatter": [
           {
            "fillpattern": {
             "fillmode": "overlay",
             "size": 10,
             "solidity": 0.2
            },
            "type": "scatter"
           }
          ],
          "scatter3d": [
           {
            "line": {
             "colorbar": {
              "outlinewidth": 0,
              "ticks": ""
             }
            },
            "marker": {
             "colorbar": {
              "outlinewidth": 0,
              "ticks": ""
             }
            },
            "type": "scatter3d"
           }
          ],
          "scattercarpet": [
           {
            "marker": {
             "colorbar": {
              "outlinewidth": 0,
              "ticks": ""
             }
            },
            "type": "scattercarpet"
           }
          ],
          "scattergeo": [
           {
            "marker": {
             "colorbar": {
              "outlinewidth": 0,
              "ticks": ""
             }
            },
            "type": "scattergeo"
           }
          ],
          "scattergl": [
           {
            "marker": {
             "colorbar": {
              "outlinewidth": 0,
              "ticks": ""
             }
            },
            "type": "scattergl"
           }
          ],
          "scattermapbox": [
           {
            "marker": {
             "colorbar": {
              "outlinewidth": 0,
              "ticks": ""
             }
            },
            "type": "scattermapbox"
           }
          ],
          "scatterpolar": [
           {
            "marker": {
             "colorbar": {
              "outlinewidth": 0,
              "ticks": ""
             }
            },
            "type": "scatterpolar"
           }
          ],
          "scatterpolargl": [
           {
            "marker": {
             "colorbar": {
              "outlinewidth": 0,
              "ticks": ""
             }
            },
            "type": "scatterpolargl"
           }
          ],
          "scatterternary": [
           {
            "marker": {
             "colorbar": {
              "outlinewidth": 0,
              "ticks": ""
             }
            },
            "type": "scatterternary"
           }
          ],
          "surface": [
           {
            "colorbar": {
             "outlinewidth": 0,
             "ticks": ""
            },
            "colorscale": [
             [
              0,
              "#0d0887"
             ],
             [
              0.1111111111111111,
              "#46039f"
             ],
             [
              0.2222222222222222,
              "#7201a8"
             ],
             [
              0.3333333333333333,
              "#9c179e"
             ],
             [
              0.4444444444444444,
              "#bd3786"
             ],
             [
              0.5555555555555556,
              "#d8576b"
             ],
             [
              0.6666666666666666,
              "#ed7953"
             ],
             [
              0.7777777777777778,
              "#fb9f3a"
             ],
             [
              0.8888888888888888,
              "#fdca26"
             ],
             [
              1,
              "#f0f921"
             ]
            ],
            "type": "surface"
           }
          ],
          "table": [
           {
            "cells": {
             "fill": {
              "color": "#EBF0F8"
             },
             "line": {
              "color": "white"
             }
            },
            "header": {
             "fill": {
              "color": "#C8D4E3"
             },
             "line": {
              "color": "white"
             }
            },
            "type": "table"
           }
          ]
         },
         "layout": {
          "annotationdefaults": {
           "arrowcolor": "#2a3f5f",
           "arrowhead": 0,
           "arrowwidth": 1
          },
          "autotypenumbers": "strict",
          "coloraxis": {
           "colorbar": {
            "outlinewidth": 0,
            "ticks": ""
           }
          },
          "colorscale": {
           "diverging": [
            [
             0,
             "#8e0152"
            ],
            [
             0.1,
             "#c51b7d"
            ],
            [
             0.2,
             "#de77ae"
            ],
            [
             0.3,
             "#f1b6da"
            ],
            [
             0.4,
             "#fde0ef"
            ],
            [
             0.5,
             "#f7f7f7"
            ],
            [
             0.6,
             "#e6f5d0"
            ],
            [
             0.7,
             "#b8e186"
            ],
            [
             0.8,
             "#7fbc41"
            ],
            [
             0.9,
             "#4d9221"
            ],
            [
             1,
             "#276419"
            ]
           ],
           "sequential": [
            [
             0,
             "#0d0887"
            ],
            [
             0.1111111111111111,
             "#46039f"
            ],
            [
             0.2222222222222222,
             "#7201a8"
            ],
            [
             0.3333333333333333,
             "#9c179e"
            ],
            [
             0.4444444444444444,
             "#bd3786"
            ],
            [
             0.5555555555555556,
             "#d8576b"
            ],
            [
             0.6666666666666666,
             "#ed7953"
            ],
            [
             0.7777777777777778,
             "#fb9f3a"
            ],
            [
             0.8888888888888888,
             "#fdca26"
            ],
            [
             1,
             "#f0f921"
            ]
           ],
           "sequentialminus": [
            [
             0,
             "#0d0887"
            ],
            [
             0.1111111111111111,
             "#46039f"
            ],
            [
             0.2222222222222222,
             "#7201a8"
            ],
            [
             0.3333333333333333,
             "#9c179e"
            ],
            [
             0.4444444444444444,
             "#bd3786"
            ],
            [
             0.5555555555555556,
             "#d8576b"
            ],
            [
             0.6666666666666666,
             "#ed7953"
            ],
            [
             0.7777777777777778,
             "#fb9f3a"
            ],
            [
             0.8888888888888888,
             "#fdca26"
            ],
            [
             1,
             "#f0f921"
            ]
           ]
          },
          "colorway": [
           "#636efa",
           "#EF553B",
           "#00cc96",
           "#ab63fa",
           "#FFA15A",
           "#19d3f3",
           "#FF6692",
           "#B6E880",
           "#FF97FF",
           "#FECB52"
          ],
          "font": {
           "color": "#2a3f5f"
          },
          "geo": {
           "bgcolor": "white",
           "lakecolor": "white",
           "landcolor": "#E5ECF6",
           "showlakes": true,
           "showland": true,
           "subunitcolor": "white"
          },
          "hoverlabel": {
           "align": "left"
          },
          "hovermode": "closest",
          "mapbox": {
           "style": "light"
          },
          "paper_bgcolor": "white",
          "plot_bgcolor": "#E5ECF6",
          "polar": {
           "angularaxis": {
            "gridcolor": "white",
            "linecolor": "white",
            "ticks": ""
           },
           "bgcolor": "#E5ECF6",
           "radialaxis": {
            "gridcolor": "white",
            "linecolor": "white",
            "ticks": ""
           }
          },
          "scene": {
           "xaxis": {
            "backgroundcolor": "#E5ECF6",
            "gridcolor": "white",
            "gridwidth": 2,
            "linecolor": "white",
            "showbackground": true,
            "ticks": "",
            "zerolinecolor": "white"
           },
           "yaxis": {
            "backgroundcolor": "#E5ECF6",
            "gridcolor": "white",
            "gridwidth": 2,
            "linecolor": "white",
            "showbackground": true,
            "ticks": "",
            "zerolinecolor": "white"
           },
           "zaxis": {
            "backgroundcolor": "#E5ECF6",
            "gridcolor": "white",
            "gridwidth": 2,
            "linecolor": "white",
            "showbackground": true,
            "ticks": "",
            "zerolinecolor": "white"
           }
          },
          "shapedefaults": {
           "line": {
            "color": "#2a3f5f"
           }
          },
          "ternary": {
           "aaxis": {
            "gridcolor": "white",
            "linecolor": "white",
            "ticks": ""
           },
           "baxis": {
            "gridcolor": "white",
            "linecolor": "white",
            "ticks": ""
           },
           "bgcolor": "#E5ECF6",
           "caxis": {
            "gridcolor": "white",
            "linecolor": "white",
            "ticks": ""
           }
          },
          "title": {
           "x": 0.05
          },
          "xaxis": {
           "automargin": true,
           "gridcolor": "white",
           "linecolor": "white",
           "ticks": "",
           "title": {
            "standoff": 15
           },
           "zerolinecolor": "white",
           "zerolinewidth": 2
          },
          "yaxis": {
           "automargin": true,
           "gridcolor": "white",
           "linecolor": "white",
           "ticks": "",
           "title": {
            "standoff": 15
           },
           "zerolinecolor": "white",
           "zerolinewidth": 2
          }
         }
        },
        "title": {
         "text": "Optimization History Plot"
        },
        "xaxis": {
         "title": {
          "text": "Trial"
         }
        },
        "yaxis": {
         "title": {
          "text": "Objective Value"
         }
        }
       }
      }
     },
     "metadata": {},
     "output_type": "display_data"
    }
   ],
   "source": [
    "study = optuna.load_study(study_name='CNN', storage='sqlite:///CNN.db')\n",
    "optuna.visualization.plot_optimization_history(study)"
   ]
  },
  {
   "cell_type": "code",
   "execution_count": 11,
   "metadata": {},
   "outputs": [
    {
     "data": {
      "application/vnd.plotly.v1+json": {
       "config": {
        "plotlyServerURL": "https://plot.ly"
       },
       "data": [
        {
         "cliponaxis": false,
         "hovertemplate": [
          "gamma (FloatDistribution): 0.0500849895365672<extra></extra>",
          "epochs (IntDistribution): 0.14698781058466454<extra></extra>",
          "lr (FloatDistribution): 0.29578952678366977<extra></extra>",
          "step_size (IntDistribution): 0.5071376730950985<extra></extra>"
         ],
         "name": "Objective Value",
         "orientation": "h",
         "text": [
          "0.05",
          "0.15",
          "0.30",
          "0.51"
         ],
         "textposition": "outside",
         "type": "bar",
         "x": [
          0.0500849895365672,
          0.14698781058466454,
          0.29578952678366977,
          0.5071376730950985
         ],
         "y": [
          "gamma",
          "epochs",
          "lr",
          "step_size"
         ]
        }
       ],
       "layout": {
        "template": {
         "data": {
          "bar": [
           {
            "error_x": {
             "color": "#2a3f5f"
            },
            "error_y": {
             "color": "#2a3f5f"
            },
            "marker": {
             "line": {
              "color": "#E5ECF6",
              "width": 0.5
             },
             "pattern": {
              "fillmode": "overlay",
              "size": 10,
              "solidity": 0.2
             }
            },
            "type": "bar"
           }
          ],
          "barpolar": [
           {
            "marker": {
             "line": {
              "color": "#E5ECF6",
              "width": 0.5
             },
             "pattern": {
              "fillmode": "overlay",
              "size": 10,
              "solidity": 0.2
             }
            },
            "type": "barpolar"
           }
          ],
          "carpet": [
           {
            "aaxis": {
             "endlinecolor": "#2a3f5f",
             "gridcolor": "white",
             "linecolor": "white",
             "minorgridcolor": "white",
             "startlinecolor": "#2a3f5f"
            },
            "baxis": {
             "endlinecolor": "#2a3f5f",
             "gridcolor": "white",
             "linecolor": "white",
             "minorgridcolor": "white",
             "startlinecolor": "#2a3f5f"
            },
            "type": "carpet"
           }
          ],
          "choropleth": [
           {
            "colorbar": {
             "outlinewidth": 0,
             "ticks": ""
            },
            "type": "choropleth"
           }
          ],
          "contour": [
           {
            "colorbar": {
             "outlinewidth": 0,
             "ticks": ""
            },
            "colorscale": [
             [
              0,
              "#0d0887"
             ],
             [
              0.1111111111111111,
              "#46039f"
             ],
             [
              0.2222222222222222,
              "#7201a8"
             ],
             [
              0.3333333333333333,
              "#9c179e"
             ],
             [
              0.4444444444444444,
              "#bd3786"
             ],
             [
              0.5555555555555556,
              "#d8576b"
             ],
             [
              0.6666666666666666,
              "#ed7953"
             ],
             [
              0.7777777777777778,
              "#fb9f3a"
             ],
             [
              0.8888888888888888,
              "#fdca26"
             ],
             [
              1,
              "#f0f921"
             ]
            ],
            "type": "contour"
           }
          ],
          "contourcarpet": [
           {
            "colorbar": {
             "outlinewidth": 0,
             "ticks": ""
            },
            "type": "contourcarpet"
           }
          ],
          "heatmap": [
           {
            "colorbar": {
             "outlinewidth": 0,
             "ticks": ""
            },
            "colorscale": [
             [
              0,
              "#0d0887"
             ],
             [
              0.1111111111111111,
              "#46039f"
             ],
             [
              0.2222222222222222,
              "#7201a8"
             ],
             [
              0.3333333333333333,
              "#9c179e"
             ],
             [
              0.4444444444444444,
              "#bd3786"
             ],
             [
              0.5555555555555556,
              "#d8576b"
             ],
             [
              0.6666666666666666,
              "#ed7953"
             ],
             [
              0.7777777777777778,
              "#fb9f3a"
             ],
             [
              0.8888888888888888,
              "#fdca26"
             ],
             [
              1,
              "#f0f921"
             ]
            ],
            "type": "heatmap"
           }
          ],
          "heatmapgl": [
           {
            "colorbar": {
             "outlinewidth": 0,
             "ticks": ""
            },
            "colorscale": [
             [
              0,
              "#0d0887"
             ],
             [
              0.1111111111111111,
              "#46039f"
             ],
             [
              0.2222222222222222,
              "#7201a8"
             ],
             [
              0.3333333333333333,
              "#9c179e"
             ],
             [
              0.4444444444444444,
              "#bd3786"
             ],
             [
              0.5555555555555556,
              "#d8576b"
             ],
             [
              0.6666666666666666,
              "#ed7953"
             ],
             [
              0.7777777777777778,
              "#fb9f3a"
             ],
             [
              0.8888888888888888,
              "#fdca26"
             ],
             [
              1,
              "#f0f921"
             ]
            ],
            "type": "heatmapgl"
           }
          ],
          "histogram": [
           {
            "marker": {
             "pattern": {
              "fillmode": "overlay",
              "size": 10,
              "solidity": 0.2
             }
            },
            "type": "histogram"
           }
          ],
          "histogram2d": [
           {
            "colorbar": {
             "outlinewidth": 0,
             "ticks": ""
            },
            "colorscale": [
             [
              0,
              "#0d0887"
             ],
             [
              0.1111111111111111,
              "#46039f"
             ],
             [
              0.2222222222222222,
              "#7201a8"
             ],
             [
              0.3333333333333333,
              "#9c179e"
             ],
             [
              0.4444444444444444,
              "#bd3786"
             ],
             [
              0.5555555555555556,
              "#d8576b"
             ],
             [
              0.6666666666666666,
              "#ed7953"
             ],
             [
              0.7777777777777778,
              "#fb9f3a"
             ],
             [
              0.8888888888888888,
              "#fdca26"
             ],
             [
              1,
              "#f0f921"
             ]
            ],
            "type": "histogram2d"
           }
          ],
          "histogram2dcontour": [
           {
            "colorbar": {
             "outlinewidth": 0,
             "ticks": ""
            },
            "colorscale": [
             [
              0,
              "#0d0887"
             ],
             [
              0.1111111111111111,
              "#46039f"
             ],
             [
              0.2222222222222222,
              "#7201a8"
             ],
             [
              0.3333333333333333,
              "#9c179e"
             ],
             [
              0.4444444444444444,
              "#bd3786"
             ],
             [
              0.5555555555555556,
              "#d8576b"
             ],
             [
              0.6666666666666666,
              "#ed7953"
             ],
             [
              0.7777777777777778,
              "#fb9f3a"
             ],
             [
              0.8888888888888888,
              "#fdca26"
             ],
             [
              1,
              "#f0f921"
             ]
            ],
            "type": "histogram2dcontour"
           }
          ],
          "mesh3d": [
           {
            "colorbar": {
             "outlinewidth": 0,
             "ticks": ""
            },
            "type": "mesh3d"
           }
          ],
          "parcoords": [
           {
            "line": {
             "colorbar": {
              "outlinewidth": 0,
              "ticks": ""
             }
            },
            "type": "parcoords"
           }
          ],
          "pie": [
           {
            "automargin": true,
            "type": "pie"
           }
          ],
          "scatter": [
           {
            "fillpattern": {
             "fillmode": "overlay",
             "size": 10,
             "solidity": 0.2
            },
            "type": "scatter"
           }
          ],
          "scatter3d": [
           {
            "line": {
             "colorbar": {
              "outlinewidth": 0,
              "ticks": ""
             }
            },
            "marker": {
             "colorbar": {
              "outlinewidth": 0,
              "ticks": ""
             }
            },
            "type": "scatter3d"
           }
          ],
          "scattercarpet": [
           {
            "marker": {
             "colorbar": {
              "outlinewidth": 0,
              "ticks": ""
             }
            },
            "type": "scattercarpet"
           }
          ],
          "scattergeo": [
           {
            "marker": {
             "colorbar": {
              "outlinewidth": 0,
              "ticks": ""
             }
            },
            "type": "scattergeo"
           }
          ],
          "scattergl": [
           {
            "marker": {
             "colorbar": {
              "outlinewidth": 0,
              "ticks": ""
             }
            },
            "type": "scattergl"
           }
          ],
          "scattermapbox": [
           {
            "marker": {
             "colorbar": {
              "outlinewidth": 0,
              "ticks": ""
             }
            },
            "type": "scattermapbox"
           }
          ],
          "scatterpolar": [
           {
            "marker": {
             "colorbar": {
              "outlinewidth": 0,
              "ticks": ""
             }
            },
            "type": "scatterpolar"
           }
          ],
          "scatterpolargl": [
           {
            "marker": {
             "colorbar": {
              "outlinewidth": 0,
              "ticks": ""
             }
            },
            "type": "scatterpolargl"
           }
          ],
          "scatterternary": [
           {
            "marker": {
             "colorbar": {
              "outlinewidth": 0,
              "ticks": ""
             }
            },
            "type": "scatterternary"
           }
          ],
          "surface": [
           {
            "colorbar": {
             "outlinewidth": 0,
             "ticks": ""
            },
            "colorscale": [
             [
              0,
              "#0d0887"
             ],
             [
              0.1111111111111111,
              "#46039f"
             ],
             [
              0.2222222222222222,
              "#7201a8"
             ],
             [
              0.3333333333333333,
              "#9c179e"
             ],
             [
              0.4444444444444444,
              "#bd3786"
             ],
             [
              0.5555555555555556,
              "#d8576b"
             ],
             [
              0.6666666666666666,
              "#ed7953"
             ],
             [
              0.7777777777777778,
              "#fb9f3a"
             ],
             [
              0.8888888888888888,
              "#fdca26"
             ],
             [
              1,
              "#f0f921"
             ]
            ],
            "type": "surface"
           }
          ],
          "table": [
           {
            "cells": {
             "fill": {
              "color": "#EBF0F8"
             },
             "line": {
              "color": "white"
             }
            },
            "header": {
             "fill": {
              "color": "#C8D4E3"
             },
             "line": {
              "color": "white"
             }
            },
            "type": "table"
           }
          ]
         },
         "layout": {
          "annotationdefaults": {
           "arrowcolor": "#2a3f5f",
           "arrowhead": 0,
           "arrowwidth": 1
          },
          "autotypenumbers": "strict",
          "coloraxis": {
           "colorbar": {
            "outlinewidth": 0,
            "ticks": ""
           }
          },
          "colorscale": {
           "diverging": [
            [
             0,
             "#8e0152"
            ],
            [
             0.1,
             "#c51b7d"
            ],
            [
             0.2,
             "#de77ae"
            ],
            [
             0.3,
             "#f1b6da"
            ],
            [
             0.4,
             "#fde0ef"
            ],
            [
             0.5,
             "#f7f7f7"
            ],
            [
             0.6,
             "#e6f5d0"
            ],
            [
             0.7,
             "#b8e186"
            ],
            [
             0.8,
             "#7fbc41"
            ],
            [
             0.9,
             "#4d9221"
            ],
            [
             1,
             "#276419"
            ]
           ],
           "sequential": [
            [
             0,
             "#0d0887"
            ],
            [
             0.1111111111111111,
             "#46039f"
            ],
            [
             0.2222222222222222,
             "#7201a8"
            ],
            [
             0.3333333333333333,
             "#9c179e"
            ],
            [
             0.4444444444444444,
             "#bd3786"
            ],
            [
             0.5555555555555556,
             "#d8576b"
            ],
            [
             0.6666666666666666,
             "#ed7953"
            ],
            [
             0.7777777777777778,
             "#fb9f3a"
            ],
            [
             0.8888888888888888,
             "#fdca26"
            ],
            [
             1,
             "#f0f921"
            ]
           ],
           "sequentialminus": [
            [
             0,
             "#0d0887"
            ],
            [
             0.1111111111111111,
             "#46039f"
            ],
            [
             0.2222222222222222,
             "#7201a8"
            ],
            [
             0.3333333333333333,
             "#9c179e"
            ],
            [
             0.4444444444444444,
             "#bd3786"
            ],
            [
             0.5555555555555556,
             "#d8576b"
            ],
            [
             0.6666666666666666,
             "#ed7953"
            ],
            [
             0.7777777777777778,
             "#fb9f3a"
            ],
            [
             0.8888888888888888,
             "#fdca26"
            ],
            [
             1,
             "#f0f921"
            ]
           ]
          },
          "colorway": [
           "#636efa",
           "#EF553B",
           "#00cc96",
           "#ab63fa",
           "#FFA15A",
           "#19d3f3",
           "#FF6692",
           "#B6E880",
           "#FF97FF",
           "#FECB52"
          ],
          "font": {
           "color": "#2a3f5f"
          },
          "geo": {
           "bgcolor": "white",
           "lakecolor": "white",
           "landcolor": "#E5ECF6",
           "showlakes": true,
           "showland": true,
           "subunitcolor": "white"
          },
          "hoverlabel": {
           "align": "left"
          },
          "hovermode": "closest",
          "mapbox": {
           "style": "light"
          },
          "paper_bgcolor": "white",
          "plot_bgcolor": "#E5ECF6",
          "polar": {
           "angularaxis": {
            "gridcolor": "white",
            "linecolor": "white",
            "ticks": ""
           },
           "bgcolor": "#E5ECF6",
           "radialaxis": {
            "gridcolor": "white",
            "linecolor": "white",
            "ticks": ""
           }
          },
          "scene": {
           "xaxis": {
            "backgroundcolor": "#E5ECF6",
            "gridcolor": "white",
            "gridwidth": 2,
            "linecolor": "white",
            "showbackground": true,
            "ticks": "",
            "zerolinecolor": "white"
           },
           "yaxis": {
            "backgroundcolor": "#E5ECF6",
            "gridcolor": "white",
            "gridwidth": 2,
            "linecolor": "white",
            "showbackground": true,
            "ticks": "",
            "zerolinecolor": "white"
           },
           "zaxis": {
            "backgroundcolor": "#E5ECF6",
            "gridcolor": "white",
            "gridwidth": 2,
            "linecolor": "white",
            "showbackground": true,
            "ticks": "",
            "zerolinecolor": "white"
           }
          },
          "shapedefaults": {
           "line": {
            "color": "#2a3f5f"
           }
          },
          "ternary": {
           "aaxis": {
            "gridcolor": "white",
            "linecolor": "white",
            "ticks": ""
           },
           "baxis": {
            "gridcolor": "white",
            "linecolor": "white",
            "ticks": ""
           },
           "bgcolor": "#E5ECF6",
           "caxis": {
            "gridcolor": "white",
            "linecolor": "white",
            "ticks": ""
           }
          },
          "title": {
           "x": 0.05
          },
          "xaxis": {
           "automargin": true,
           "gridcolor": "white",
           "linecolor": "white",
           "ticks": "",
           "title": {
            "standoff": 15
           },
           "zerolinecolor": "white",
           "zerolinewidth": 2
          },
          "yaxis": {
           "automargin": true,
           "gridcolor": "white",
           "linecolor": "white",
           "ticks": "",
           "title": {
            "standoff": 15
           },
           "zerolinecolor": "white",
           "zerolinewidth": 2
          }
         }
        },
        "title": {
         "text": "Hyperparameter Importances"
        },
        "xaxis": {
         "title": {
          "text": "Hyperparameter Importance"
         }
        },
        "yaxis": {
         "title": {
          "text": "Hyperparameter"
         }
        }
       }
      }
     },
     "metadata": {},
     "output_type": "display_data"
    }
   ],
   "source": [
    "optuna.visualization.plot_param_importances(study)"
   ]
  },
  {
   "cell_type": "code",
   "execution_count": 14,
   "metadata": {},
   "outputs": [
    {
     "data": {
      "application/vnd.plotly.v1+json": {
       "config": {
        "plotlyServerURL": "https://plot.ly"
       },
       "data": [
        {
         "marker": {
          "color": [
           0,
           1,
           2,
           3,
           4,
           5,
           6,
           7,
           8,
           9,
           10,
           11,
           12,
           13,
           14,
           15,
           16,
           17,
           18,
           19,
           20,
           21,
           22,
           23,
           24,
           25,
           26,
           27,
           28,
           29,
           30,
           31,
           32,
           33,
           34,
           35,
           36,
           37,
           38,
           39,
           40,
           41,
           42,
           43,
           44,
           45,
           46,
           47,
           48,
           49,
           50,
           51,
           52,
           53,
           54,
           55,
           56,
           57,
           58,
           59,
           60,
           61,
           62,
           63,
           64,
           65,
           66,
           67,
           68,
           69,
           70,
           71,
           72,
           73,
           74,
           75,
           76,
           77,
           78,
           79,
           80,
           81,
           82,
           83,
           84,
           85,
           86,
           87,
           88,
           89,
           90,
           91,
           92,
           93,
           94,
           95,
           96,
           97,
           98,
           99
          ],
          "colorbar": {
           "title": {
            "text": "Trial"
           },
           "x": 1,
           "xpad": 40
          },
          "colorscale": [
           [
            0,
            "rgb(247,251,255)"
           ],
           [
            0.125,
            "rgb(222,235,247)"
           ],
           [
            0.25,
            "rgb(198,219,239)"
           ],
           [
            0.375,
            "rgb(158,202,225)"
           ],
           [
            0.5,
            "rgb(107,174,214)"
           ],
           [
            0.625,
            "rgb(66,146,198)"
           ],
           [
            0.75,
            "rgb(33,113,181)"
           ],
           [
            0.875,
            "rgb(8,81,156)"
           ],
           [
            1,
            "rgb(8,48,107)"
           ]
          ],
          "line": {
           "color": "Grey",
           "width": 0.5
          },
          "showscale": true
         },
         "mode": "markers",
         "name": "Feasible Trial",
         "showlegend": false,
         "type": "scatter",
         "x": [
          17,
          21,
          40,
          31,
          31,
          20,
          18,
          25,
          38,
          40,
          32,
          26,
          28,
          20,
          32,
          19,
          40,
          28,
          19,
          10,
          21,
          10,
          10,
          14,
          12,
          15,
          15,
          16,
          15,
          16,
          16,
          37,
          35,
          35,
          35,
          35,
          36,
          32,
          32,
          34,
          31,
          22,
          31,
          33,
          33,
          34,
          23,
          34,
          21,
          23,
          34,
          23,
          38,
          35,
          35,
          38,
          38,
          38,
          38,
          29,
          29,
          29,
          29,
          29,
          29,
          29,
          39,
          40,
          26,
          40,
          26,
          27,
          26,
          26,
          26,
          26,
          25,
          36,
          36,
          36,
          36,
          36,
          36,
          36,
          37,
          36,
          24,
          24,
          24,
          24,
          24,
          33,
          33,
          37,
          37,
          37,
          37,
          37,
          39,
          37
         ],
         "xaxis": "x",
         "y": [
          0.8854,
          0.804,
          0.8764,
          0.8844,
          0.8708,
          0.871,
          0.8614,
          0.87,
          0.8508,
          0.8312,
          0.8698,
          0.8656,
          0.8852,
          0.8726,
          0.8686,
          0.874,
          0.854,
          0.8806,
          0.8626,
          0.8598,
          0.8532,
          0.8372,
          0.8584,
          0.85,
          0.8548,
          0.8512,
          0.874,
          0.8726,
          0.8714,
          0.8768,
          0.8712,
          0.878,
          0.866,
          0.8882,
          0.889,
          0.8888,
          0.8764,
          0.8652,
          0.8692,
          0.8862,
          0.8834,
          0.8858,
          0.883,
          0.8856,
          0.883,
          0.8832,
          0.8894,
          0.8886,
          0.8798,
          0.8818,
          0.8826,
          0.8796,
          0.8858,
          0.8822,
          0.8808,
          0.8796,
          0.8822,
          0.8904,
          0.8868,
          0.883,
          0.8856,
          0.886,
          0.8874,
          0.8914,
          0.8864,
          0.8818,
          0.8766,
          0.877,
          0.8784,
          0.8778,
          0.8824,
          0.8848,
          0.8816,
          0.8814,
          0.8756,
          0.8898,
          0.8858,
          0.8772,
          0.8844,
          0.8876,
          0.8872,
          0.8838,
          0.8852,
          0.8842,
          0.889,
          0.8928,
          0.8882,
          0.8858,
          0.884,
          0.8852,
          0.8862,
          0.8842,
          0.8882,
          0.8862,
          0.8858,
          0.8894,
          0.8874,
          0.8874,
          0.8912,
          0.8774
         ],
         "yaxis": "y"
        },
        {
         "marker": {
          "color": [
           0,
           1,
           2,
           3,
           4,
           5,
           6,
           7,
           8,
           9,
           10,
           11,
           12,
           13,
           14,
           15,
           16,
           17,
           18,
           19,
           20,
           21,
           22,
           23,
           24,
           25,
           26,
           27,
           28,
           29,
           30,
           31,
           32,
           33,
           34,
           35,
           36,
           37,
           38,
           39,
           40,
           41,
           42,
           43,
           44,
           45,
           46,
           47,
           48,
           49,
           50,
           51,
           52,
           53,
           54,
           55,
           56,
           57,
           58,
           59,
           60,
           61,
           62,
           63,
           64,
           65,
           66,
           67,
           68,
           69,
           70,
           71,
           72,
           73,
           74,
           75,
           76,
           77,
           78,
           79,
           80,
           81,
           82,
           83,
           84,
           85,
           86,
           87,
           88,
           89,
           90,
           91,
           92,
           93,
           94,
           95,
           96,
           97,
           98,
           99
          ],
          "colorbar": {
           "title": {
            "text": "Trial"
           },
           "x": 1,
           "xpad": 40
          },
          "colorscale": [
           [
            0,
            "rgb(247,251,255)"
           ],
           [
            0.125,
            "rgb(222,235,247)"
           ],
           [
            0.25,
            "rgb(198,219,239)"
           ],
           [
            0.375,
            "rgb(158,202,225)"
           ],
           [
            0.5,
            "rgb(107,174,214)"
           ],
           [
            0.625,
            "rgb(66,146,198)"
           ],
           [
            0.75,
            "rgb(33,113,181)"
           ],
           [
            0.875,
            "rgb(8,81,156)"
           ],
           [
            1,
            "rgb(8,48,107)"
           ]
          ],
          "line": {
           "color": "Grey",
           "width": 0.5
          },
          "showscale": false
         },
         "mode": "markers",
         "name": "Feasible Trial",
         "showlegend": false,
         "type": "scatter",
         "x": [
          0.003037053578874638,
          0.0032946199958911624,
          0.00683428590387051,
          0.007177905144541755,
          0.008478352799836464,
          0.0025894645559249386,
          0.007554729656776232,
          0.0023551826970996488,
          0.005104734774980347,
          0.00550821908857633,
          0.00021168099129760754,
          0.0007563194352213228,
          0.00034599963003463096,
          0.006034751665752973,
          0.007638619927750221,
          0.007932051967751139,
          0.008208164017646052,
          0.007003253219934068,
          0.005862333257928678,
          0.006876973232900125,
          0.001163418650150141,
          0.005095743509477837,
          0.004153714743826341,
          0.004447157714730095,
          0.0038328771836620644,
          0.0015948488730353982,
          0.0014702068662441478,
          0.0014287287924767706,
          0.0013431908180423853,
          0.0012893698050244927,
          0.0015965925994352354,
          0.0019055777908105207,
          0.00982357401970602,
          0.009698375096563305,
          0.009237695920871949,
          0.009822895132305495,
          0.00016313300786532448,
          0.00016453520266979435,
          0.009832953367373382,
          0.0089753265077811,
          0.0028960421870576447,
          0.0032939056241855047,
          0.0025881550378855133,
          0.002809240097247732,
          0.003094007473450837,
          0.002977128212094368,
          0.009964623250818448,
          0.009713933019940047,
          0.00954433532263308,
          0.00939807599638033,
          0.009996214182176373,
          0.009902366505862084,
          0.009634980204703195,
          0.009880842255471084,
          0.009311072358428917,
          0.009898794672601527,
          0.009910109172412857,
          0.009260059176048888,
          0.00910576003168502,
          0.008845505251109727,
          0.008809909346486778,
          0.008845620857191793,
          0.008876751616032503,
          0.008818804031369426,
          0.008840377025939867,
          0.008841092719938345,
          0.00854589327678582,
          0.008346300629326696,
          0.008412453311933544,
          0.008415543261488115,
          0.008423369709961725,
          0.008403318615053675,
          0.008434001160979303,
          0.00931261062974183,
          0.009249729750329313,
          0.00932727629547195,
          0.009248172677453459,
          0.009306211227355683,
          0.00923750433503663,
          0.009351349982392152,
          0.009348640023302827,
          0.009493761617195891,
          0.009529735767556008,
          0.009516125185770179,
          0.00955541346741088,
          0.007925633802563264,
          0.009597757444349642,
          0.00963753044060251,
          0.00959483095501759,
          0.008076199899010556,
          0.00970263544672364,
          0.008080476459595146,
          0.00793071221994008,
          0.007884149765417868,
          0.00801733435906996,
          0.009072409756730977,
          0.007838209303663956,
          0.007792714408518173,
          0.00905332955340298,
          0.009085069261918448
         ],
         "xaxis": "x2",
         "y": [
          0.8854,
          0.804,
          0.8764,
          0.8844,
          0.8708,
          0.871,
          0.8614,
          0.87,
          0.8508,
          0.8312,
          0.8698,
          0.8656,
          0.8852,
          0.8726,
          0.8686,
          0.874,
          0.854,
          0.8806,
          0.8626,
          0.8598,
          0.8532,
          0.8372,
          0.8584,
          0.85,
          0.8548,
          0.8512,
          0.874,
          0.8726,
          0.8714,
          0.8768,
          0.8712,
          0.878,
          0.866,
          0.8882,
          0.889,
          0.8888,
          0.8764,
          0.8652,
          0.8692,
          0.8862,
          0.8834,
          0.8858,
          0.883,
          0.8856,
          0.883,
          0.8832,
          0.8894,
          0.8886,
          0.8798,
          0.8818,
          0.8826,
          0.8796,
          0.8858,
          0.8822,
          0.8808,
          0.8796,
          0.8822,
          0.8904,
          0.8868,
          0.883,
          0.8856,
          0.886,
          0.8874,
          0.8914,
          0.8864,
          0.8818,
          0.8766,
          0.877,
          0.8784,
          0.8778,
          0.8824,
          0.8848,
          0.8816,
          0.8814,
          0.8756,
          0.8898,
          0.8858,
          0.8772,
          0.8844,
          0.8876,
          0.8872,
          0.8838,
          0.8852,
          0.8842,
          0.889,
          0.8928,
          0.8882,
          0.8858,
          0.884,
          0.8852,
          0.8862,
          0.8842,
          0.8882,
          0.8862,
          0.8858,
          0.8894,
          0.8874,
          0.8874,
          0.8912,
          0.8774
         ],
         "yaxis": "y2"
        },
        {
         "marker": {
          "color": [
           0,
           1,
           2,
           3,
           4,
           5,
           6,
           7,
           8,
           9,
           10,
           11,
           12,
           13,
           14,
           15,
           16,
           17,
           18,
           19,
           20,
           21,
           22,
           23,
           24,
           25,
           26,
           27,
           28,
           29,
           30,
           31,
           32,
           33,
           34,
           35,
           36,
           37,
           38,
           39,
           40,
           41,
           42,
           43,
           44,
           45,
           46,
           47,
           48,
           49,
           50,
           51,
           52,
           53,
           54,
           55,
           56,
           57,
           58,
           59,
           60,
           61,
           62,
           63,
           64,
           65,
           66,
           67,
           68,
           69,
           70,
           71,
           72,
           73,
           74,
           75,
           76,
           77,
           78,
           79,
           80,
           81,
           82,
           83,
           84,
           85,
           86,
           87,
           88,
           89,
           90,
           91,
           92,
           93,
           94,
           95,
           96,
           97,
           98,
           99
          ],
          "colorbar": {
           "title": {
            "text": "Trial"
           },
           "x": 1,
           "xpad": 40
          },
          "colorscale": [
           [
            0,
            "rgb(247,251,255)"
           ],
           [
            0.125,
            "rgb(222,235,247)"
           ],
           [
            0.25,
            "rgb(198,219,239)"
           ],
           [
            0.375,
            "rgb(158,202,225)"
           ],
           [
            0.5,
            "rgb(107,174,214)"
           ],
           [
            0.625,
            "rgb(66,146,198)"
           ],
           [
            0.75,
            "rgb(33,113,181)"
           ],
           [
            0.875,
            "rgb(8,81,156)"
           ],
           [
            1,
            "rgb(8,48,107)"
           ]
          ],
          "line": {
           "color": "Grey",
           "width": 0.5
          },
          "showscale": false
         },
         "mode": "markers",
         "name": "Feasible Trial",
         "showlegend": false,
         "type": "scatter",
         "x": [
          0.00425172566109847,
          0.007647504078601093,
          0.0013647392292399495,
          0.0027307454765825106,
          0.0031908287994064136,
          0.003789813710053318,
          0.00802493084135869,
          0.007197911017267049,
          0.009646458614979403,
          0.00423279487699632,
          0.0010808178153678628,
          0.0068044971083494055,
          0.0012008701562656692,
          0.0005730396570749669,
          0.005202445888320304,
          0.0015317758671067594,
          0.00337935993778317,
          0.001313305024516993,
          0.0016549555999730453,
          0.006663457966184325,
          0.0063861364732964885,
          0.009965477420456247,
          0.00014637787627562937,
          0.0001343341907823906,
          0.00014980749579556613,
          0.00010812076666548952,
          0.004909141691284897,
          0.005077510363417047,
          0.005048669238575114,
          0.005095819878671559,
          0.005070874465494637,
          0.0051314318245976025,
          0.0028270128111991828,
          0.0024534819134641225,
          0.002732909652627188,
          0.0027736933664224343,
          0.0028182477205375214,
          0.0024980818025257647,
          0.002392765782302315,
          0.0025954261597807213,
          0.0026028324024784406,
          0.002467492865600231,
          0.0023191940714601678,
          0.00220785839740324,
          0.0021780375764934197,
          0.0022524173044035497,
          0.0020892927414638165,
          0.002190547365982305,
          0.003644382592303676,
          0.001961666273477508,
          0.0034318629519734596,
          0.0034895622546906734,
          0.003293053240553197,
          0.0036525138032974494,
          0.003285542208548447,
          0.003211116750632065,
          0.0019158328495576457,
          0.0032586344605115,
          0.0017000011194869664,
          0.0015912729167877728,
          0.0017712491601842395,
          0.001717020537881233,
          0.0018229477776796504,
          0.0017493355320378563,
          0.0018108323527553296,
          0.0029781548786172204,
          0.004087222904152988,
          0.0028892594111560115,
          0.002917949136055157,
          0.0029092487959492116,
          0.002926786309768065,
          0.002949317249106226,
          0.002927699007831298,
          0.0029566226744736977,
          0.0010293105932927288,
          0.002903261983602032,
          0.0011534008092369706,
          0.0006162735382735664,
          0.0010093583175734382,
          0.0022051175590798917,
          0.0011155629383271912,
          0.0009185075111803245,
          0.0012229088592022193,
          0.0012593638717377535,
          0.0020974054254012013,
          0.0021341285880589088,
          0.0020644555186705156,
          0.0013152746042835747,
          0.002575610885915002,
          0.0015000347286263276,
          0.0025676686941066133,
          0.0026238849735551063,
          0.0025450271882698286,
          0.0023361372527551274,
          0.002418829152588903,
          0.0024178749949657326,
          0.001959262155585806,
          0.002418940274446125,
          0.002118355455496349,
          0.0020678127457173113
         ],
         "xaxis": "x3",
         "y": [
          0.8854,
          0.804,
          0.8764,
          0.8844,
          0.8708,
          0.871,
          0.8614,
          0.87,
          0.8508,
          0.8312,
          0.8698,
          0.8656,
          0.8852,
          0.8726,
          0.8686,
          0.874,
          0.854,
          0.8806,
          0.8626,
          0.8598,
          0.8532,
          0.8372,
          0.8584,
          0.85,
          0.8548,
          0.8512,
          0.874,
          0.8726,
          0.8714,
          0.8768,
          0.8712,
          0.878,
          0.866,
          0.8882,
          0.889,
          0.8888,
          0.8764,
          0.8652,
          0.8692,
          0.8862,
          0.8834,
          0.8858,
          0.883,
          0.8856,
          0.883,
          0.8832,
          0.8894,
          0.8886,
          0.8798,
          0.8818,
          0.8826,
          0.8796,
          0.8858,
          0.8822,
          0.8808,
          0.8796,
          0.8822,
          0.8904,
          0.8868,
          0.883,
          0.8856,
          0.886,
          0.8874,
          0.8914,
          0.8864,
          0.8818,
          0.8766,
          0.877,
          0.8784,
          0.8778,
          0.8824,
          0.8848,
          0.8816,
          0.8814,
          0.8756,
          0.8898,
          0.8858,
          0.8772,
          0.8844,
          0.8876,
          0.8872,
          0.8838,
          0.8852,
          0.8842,
          0.889,
          0.8928,
          0.8882,
          0.8858,
          0.884,
          0.8852,
          0.8862,
          0.8842,
          0.8882,
          0.8862,
          0.8858,
          0.8894,
          0.8874,
          0.8874,
          0.8912,
          0.8774
         ],
         "yaxis": "y3"
        },
        {
         "marker": {
          "color": [
           0,
           1,
           2,
           3,
           4,
           5,
           6,
           7,
           8,
           9,
           10,
           11,
           12,
           13,
           14,
           15,
           16,
           17,
           18,
           19,
           20,
           21,
           22,
           23,
           24,
           25,
           26,
           27,
           28,
           29,
           30,
           31,
           32,
           33,
           34,
           35,
           36,
           37,
           38,
           39,
           40,
           41,
           42,
           43,
           44,
           45,
           46,
           47,
           48,
           49,
           50,
           51,
           52,
           53,
           54,
           55,
           56,
           57,
           58,
           59,
           60,
           61,
           62,
           63,
           64,
           65,
           66,
           67,
           68,
           69,
           70,
           71,
           72,
           73,
           74,
           75,
           76,
           77,
           78,
           79,
           80,
           81,
           82,
           83,
           84,
           85,
           86,
           87,
           88,
           89,
           90,
           91,
           92,
           93,
           94,
           95,
           96,
           97,
           98,
           99
          ],
          "colorbar": {
           "title": {
            "text": "Trial"
           },
           "x": 1,
           "xpad": 40
          },
          "colorscale": [
           [
            0,
            "rgb(247,251,255)"
           ],
           [
            0.125,
            "rgb(222,235,247)"
           ],
           [
            0.25,
            "rgb(198,219,239)"
           ],
           [
            0.375,
            "rgb(158,202,225)"
           ],
           [
            0.5,
            "rgb(107,174,214)"
           ],
           [
            0.625,
            "rgb(66,146,198)"
           ],
           [
            0.75,
            "rgb(33,113,181)"
           ],
           [
            0.875,
            "rgb(8,81,156)"
           ],
           [
            1,
            "rgb(8,48,107)"
           ]
          ],
          "line": {
           "color": "Grey",
           "width": 0.5
          },
          "showscale": false
         },
         "mode": "markers",
         "name": "Feasible Trial",
         "showlegend": false,
         "type": "scatter",
         "x": [
          10,
          1,
          5,
          6,
          5,
          5,
          6,
          6,
          7,
          1,
          5,
          7,
          9,
          7,
          3,
          5,
          2,
          8,
          3,
          7,
          4,
          10,
          10,
          10,
          10,
          10,
          9,
          9,
          9,
          8,
          8,
          8,
          3,
          9,
          8,
          8,
          8,
          3,
          3,
          9,
          9,
          9,
          9,
          9,
          9,
          9,
          9,
          7,
          6,
          7,
          7,
          7,
          7,
          7,
          7,
          7,
          7,
          7,
          8,
          8,
          8,
          8,
          8,
          8,
          6,
          6,
          6,
          6,
          6,
          6,
          6,
          6,
          6,
          6,
          6,
          10,
          10,
          10,
          10,
          10,
          10,
          8,
          10,
          10,
          10,
          10,
          8,
          8,
          8,
          9,
          9,
          9,
          9,
          9,
          9,
          9,
          9,
          9,
          9,
          5
         ],
         "xaxis": "x4",
         "y": [
          0.8854,
          0.804,
          0.8764,
          0.8844,
          0.8708,
          0.871,
          0.8614,
          0.87,
          0.8508,
          0.8312,
          0.8698,
          0.8656,
          0.8852,
          0.8726,
          0.8686,
          0.874,
          0.854,
          0.8806,
          0.8626,
          0.8598,
          0.8532,
          0.8372,
          0.8584,
          0.85,
          0.8548,
          0.8512,
          0.874,
          0.8726,
          0.8714,
          0.8768,
          0.8712,
          0.878,
          0.866,
          0.8882,
          0.889,
          0.8888,
          0.8764,
          0.8652,
          0.8692,
          0.8862,
          0.8834,
          0.8858,
          0.883,
          0.8856,
          0.883,
          0.8832,
          0.8894,
          0.8886,
          0.8798,
          0.8818,
          0.8826,
          0.8796,
          0.8858,
          0.8822,
          0.8808,
          0.8796,
          0.8822,
          0.8904,
          0.8868,
          0.883,
          0.8856,
          0.886,
          0.8874,
          0.8914,
          0.8864,
          0.8818,
          0.8766,
          0.877,
          0.8784,
          0.8778,
          0.8824,
          0.8848,
          0.8816,
          0.8814,
          0.8756,
          0.8898,
          0.8858,
          0.8772,
          0.8844,
          0.8876,
          0.8872,
          0.8838,
          0.8852,
          0.8842,
          0.889,
          0.8928,
          0.8882,
          0.8858,
          0.884,
          0.8852,
          0.8862,
          0.8842,
          0.8882,
          0.8862,
          0.8858,
          0.8894,
          0.8874,
          0.8874,
          0.8912,
          0.8774
         ],
         "yaxis": "y4"
        }
       ],
       "layout": {
        "template": {
         "data": {
          "bar": [
           {
            "error_x": {
             "color": "#2a3f5f"
            },
            "error_y": {
             "color": "#2a3f5f"
            },
            "marker": {
             "line": {
              "color": "#E5ECF6",
              "width": 0.5
             },
             "pattern": {
              "fillmode": "overlay",
              "size": 10,
              "solidity": 0.2
             }
            },
            "type": "bar"
           }
          ],
          "barpolar": [
           {
            "marker": {
             "line": {
              "color": "#E5ECF6",
              "width": 0.5
             },
             "pattern": {
              "fillmode": "overlay",
              "size": 10,
              "solidity": 0.2
             }
            },
            "type": "barpolar"
           }
          ],
          "carpet": [
           {
            "aaxis": {
             "endlinecolor": "#2a3f5f",
             "gridcolor": "white",
             "linecolor": "white",
             "minorgridcolor": "white",
             "startlinecolor": "#2a3f5f"
            },
            "baxis": {
             "endlinecolor": "#2a3f5f",
             "gridcolor": "white",
             "linecolor": "white",
             "minorgridcolor": "white",
             "startlinecolor": "#2a3f5f"
            },
            "type": "carpet"
           }
          ],
          "choropleth": [
           {
            "colorbar": {
             "outlinewidth": 0,
             "ticks": ""
            },
            "type": "choropleth"
           }
          ],
          "contour": [
           {
            "colorbar": {
             "outlinewidth": 0,
             "ticks": ""
            },
            "colorscale": [
             [
              0,
              "#0d0887"
             ],
             [
              0.1111111111111111,
              "#46039f"
             ],
             [
              0.2222222222222222,
              "#7201a8"
             ],
             [
              0.3333333333333333,
              "#9c179e"
             ],
             [
              0.4444444444444444,
              "#bd3786"
             ],
             [
              0.5555555555555556,
              "#d8576b"
             ],
             [
              0.6666666666666666,
              "#ed7953"
             ],
             [
              0.7777777777777778,
              "#fb9f3a"
             ],
             [
              0.8888888888888888,
              "#fdca26"
             ],
             [
              1,
              "#f0f921"
             ]
            ],
            "type": "contour"
           }
          ],
          "contourcarpet": [
           {
            "colorbar": {
             "outlinewidth": 0,
             "ticks": ""
            },
            "type": "contourcarpet"
           }
          ],
          "heatmap": [
           {
            "colorbar": {
             "outlinewidth": 0,
             "ticks": ""
            },
            "colorscale": [
             [
              0,
              "#0d0887"
             ],
             [
              0.1111111111111111,
              "#46039f"
             ],
             [
              0.2222222222222222,
              "#7201a8"
             ],
             [
              0.3333333333333333,
              "#9c179e"
             ],
             [
              0.4444444444444444,
              "#bd3786"
             ],
             [
              0.5555555555555556,
              "#d8576b"
             ],
             [
              0.6666666666666666,
              "#ed7953"
             ],
             [
              0.7777777777777778,
              "#fb9f3a"
             ],
             [
              0.8888888888888888,
              "#fdca26"
             ],
             [
              1,
              "#f0f921"
             ]
            ],
            "type": "heatmap"
           }
          ],
          "heatmapgl": [
           {
            "colorbar": {
             "outlinewidth": 0,
             "ticks": ""
            },
            "colorscale": [
             [
              0,
              "#0d0887"
             ],
             [
              0.1111111111111111,
              "#46039f"
             ],
             [
              0.2222222222222222,
              "#7201a8"
             ],
             [
              0.3333333333333333,
              "#9c179e"
             ],
             [
              0.4444444444444444,
              "#bd3786"
             ],
             [
              0.5555555555555556,
              "#d8576b"
             ],
             [
              0.6666666666666666,
              "#ed7953"
             ],
             [
              0.7777777777777778,
              "#fb9f3a"
             ],
             [
              0.8888888888888888,
              "#fdca26"
             ],
             [
              1,
              "#f0f921"
             ]
            ],
            "type": "heatmapgl"
           }
          ],
          "histogram": [
           {
            "marker": {
             "pattern": {
              "fillmode": "overlay",
              "size": 10,
              "solidity": 0.2
             }
            },
            "type": "histogram"
           }
          ],
          "histogram2d": [
           {
            "colorbar": {
             "outlinewidth": 0,
             "ticks": ""
            },
            "colorscale": [
             [
              0,
              "#0d0887"
             ],
             [
              0.1111111111111111,
              "#46039f"
             ],
             [
              0.2222222222222222,
              "#7201a8"
             ],
             [
              0.3333333333333333,
              "#9c179e"
             ],
             [
              0.4444444444444444,
              "#bd3786"
             ],
             [
              0.5555555555555556,
              "#d8576b"
             ],
             [
              0.6666666666666666,
              "#ed7953"
             ],
             [
              0.7777777777777778,
              "#fb9f3a"
             ],
             [
              0.8888888888888888,
              "#fdca26"
             ],
             [
              1,
              "#f0f921"
             ]
            ],
            "type": "histogram2d"
           }
          ],
          "histogram2dcontour": [
           {
            "colorbar": {
             "outlinewidth": 0,
             "ticks": ""
            },
            "colorscale": [
             [
              0,
              "#0d0887"
             ],
             [
              0.1111111111111111,
              "#46039f"
             ],
             [
              0.2222222222222222,
              "#7201a8"
             ],
             [
              0.3333333333333333,
              "#9c179e"
             ],
             [
              0.4444444444444444,
              "#bd3786"
             ],
             [
              0.5555555555555556,
              "#d8576b"
             ],
             [
              0.6666666666666666,
              "#ed7953"
             ],
             [
              0.7777777777777778,
              "#fb9f3a"
             ],
             [
              0.8888888888888888,
              "#fdca26"
             ],
             [
              1,
              "#f0f921"
             ]
            ],
            "type": "histogram2dcontour"
           }
          ],
          "mesh3d": [
           {
            "colorbar": {
             "outlinewidth": 0,
             "ticks": ""
            },
            "type": "mesh3d"
           }
          ],
          "parcoords": [
           {
            "line": {
             "colorbar": {
              "outlinewidth": 0,
              "ticks": ""
             }
            },
            "type": "parcoords"
           }
          ],
          "pie": [
           {
            "automargin": true,
            "type": "pie"
           }
          ],
          "scatter": [
           {
            "fillpattern": {
             "fillmode": "overlay",
             "size": 10,
             "solidity": 0.2
            },
            "type": "scatter"
           }
          ],
          "scatter3d": [
           {
            "line": {
             "colorbar": {
              "outlinewidth": 0,
              "ticks": ""
             }
            },
            "marker": {
             "colorbar": {
              "outlinewidth": 0,
              "ticks": ""
             }
            },
            "type": "scatter3d"
           }
          ],
          "scattercarpet": [
           {
            "marker": {
             "colorbar": {
              "outlinewidth": 0,
              "ticks": ""
             }
            },
            "type": "scattercarpet"
           }
          ],
          "scattergeo": [
           {
            "marker": {
             "colorbar": {
              "outlinewidth": 0,
              "ticks": ""
             }
            },
            "type": "scattergeo"
           }
          ],
          "scattergl": [
           {
            "marker": {
             "colorbar": {
              "outlinewidth": 0,
              "ticks": ""
             }
            },
            "type": "scattergl"
           }
          ],
          "scattermapbox": [
           {
            "marker": {
             "colorbar": {
              "outlinewidth": 0,
              "ticks": ""
             }
            },
            "type": "scattermapbox"
           }
          ],
          "scatterpolar": [
           {
            "marker": {
             "colorbar": {
              "outlinewidth": 0,
              "ticks": ""
             }
            },
            "type": "scatterpolar"
           }
          ],
          "scatterpolargl": [
           {
            "marker": {
             "colorbar": {
              "outlinewidth": 0,
              "ticks": ""
             }
            },
            "type": "scatterpolargl"
           }
          ],
          "scatterternary": [
           {
            "marker": {
             "colorbar": {
              "outlinewidth": 0,
              "ticks": ""
             }
            },
            "type": "scatterternary"
           }
          ],
          "surface": [
           {
            "colorbar": {
             "outlinewidth": 0,
             "ticks": ""
            },
            "colorscale": [
             [
              0,
              "#0d0887"
             ],
             [
              0.1111111111111111,
              "#46039f"
             ],
             [
              0.2222222222222222,
              "#7201a8"
             ],
             [
              0.3333333333333333,
              "#9c179e"
             ],
             [
              0.4444444444444444,
              "#bd3786"
             ],
             [
              0.5555555555555556,
              "#d8576b"
             ],
             [
              0.6666666666666666,
              "#ed7953"
             ],
             [
              0.7777777777777778,
              "#fb9f3a"
             ],
             [
              0.8888888888888888,
              "#fdca26"
             ],
             [
              1,
              "#f0f921"
             ]
            ],
            "type": "surface"
           }
          ],
          "table": [
           {
            "cells": {
             "fill": {
              "color": "#EBF0F8"
             },
             "line": {
              "color": "white"
             }
            },
            "header": {
             "fill": {
              "color": "#C8D4E3"
             },
             "line": {
              "color": "white"
             }
            },
            "type": "table"
           }
          ]
         },
         "layout": {
          "annotationdefaults": {
           "arrowcolor": "#2a3f5f",
           "arrowhead": 0,
           "arrowwidth": 1
          },
          "autotypenumbers": "strict",
          "coloraxis": {
           "colorbar": {
            "outlinewidth": 0,
            "ticks": ""
           }
          },
          "colorscale": {
           "diverging": [
            [
             0,
             "#8e0152"
            ],
            [
             0.1,
             "#c51b7d"
            ],
            [
             0.2,
             "#de77ae"
            ],
            [
             0.3,
             "#f1b6da"
            ],
            [
             0.4,
             "#fde0ef"
            ],
            [
             0.5,
             "#f7f7f7"
            ],
            [
             0.6,
             "#e6f5d0"
            ],
            [
             0.7,
             "#b8e186"
            ],
            [
             0.8,
             "#7fbc41"
            ],
            [
             0.9,
             "#4d9221"
            ],
            [
             1,
             "#276419"
            ]
           ],
           "sequential": [
            [
             0,
             "#0d0887"
            ],
            [
             0.1111111111111111,
             "#46039f"
            ],
            [
             0.2222222222222222,
             "#7201a8"
            ],
            [
             0.3333333333333333,
             "#9c179e"
            ],
            [
             0.4444444444444444,
             "#bd3786"
            ],
            [
             0.5555555555555556,
             "#d8576b"
            ],
            [
             0.6666666666666666,
             "#ed7953"
            ],
            [
             0.7777777777777778,
             "#fb9f3a"
            ],
            [
             0.8888888888888888,
             "#fdca26"
            ],
            [
             1,
             "#f0f921"
            ]
           ],
           "sequentialminus": [
            [
             0,
             "#0d0887"
            ],
            [
             0.1111111111111111,
             "#46039f"
            ],
            [
             0.2222222222222222,
             "#7201a8"
            ],
            [
             0.3333333333333333,
             "#9c179e"
            ],
            [
             0.4444444444444444,
             "#bd3786"
            ],
            [
             0.5555555555555556,
             "#d8576b"
            ],
            [
             0.6666666666666666,
             "#ed7953"
            ],
            [
             0.7777777777777778,
             "#fb9f3a"
            ],
            [
             0.8888888888888888,
             "#fdca26"
            ],
            [
             1,
             "#f0f921"
            ]
           ]
          },
          "colorway": [
           "#636efa",
           "#EF553B",
           "#00cc96",
           "#ab63fa",
           "#FFA15A",
           "#19d3f3",
           "#FF6692",
           "#B6E880",
           "#FF97FF",
           "#FECB52"
          ],
          "font": {
           "color": "#2a3f5f"
          },
          "geo": {
           "bgcolor": "white",
           "lakecolor": "white",
           "landcolor": "#E5ECF6",
           "showlakes": true,
           "showland": true,
           "subunitcolor": "white"
          },
          "hoverlabel": {
           "align": "left"
          },
          "hovermode": "closest",
          "mapbox": {
           "style": "light"
          },
          "paper_bgcolor": "white",
          "plot_bgcolor": "#E5ECF6",
          "polar": {
           "angularaxis": {
            "gridcolor": "white",
            "linecolor": "white",
            "ticks": ""
           },
           "bgcolor": "#E5ECF6",
           "radialaxis": {
            "gridcolor": "white",
            "linecolor": "white",
            "ticks": ""
           }
          },
          "scene": {
           "xaxis": {
            "backgroundcolor": "#E5ECF6",
            "gridcolor": "white",
            "gridwidth": 2,
            "linecolor": "white",
            "showbackground": true,
            "ticks": "",
            "zerolinecolor": "white"
           },
           "yaxis": {
            "backgroundcolor": "#E5ECF6",
            "gridcolor": "white",
            "gridwidth": 2,
            "linecolor": "white",
            "showbackground": true,
            "ticks": "",
            "zerolinecolor": "white"
           },
           "zaxis": {
            "backgroundcolor": "#E5ECF6",
            "gridcolor": "white",
            "gridwidth": 2,
            "linecolor": "white",
            "showbackground": true,
            "ticks": "",
            "zerolinecolor": "white"
           }
          },
          "shapedefaults": {
           "line": {
            "color": "#2a3f5f"
           }
          },
          "ternary": {
           "aaxis": {
            "gridcolor": "white",
            "linecolor": "white",
            "ticks": ""
           },
           "baxis": {
            "gridcolor": "white",
            "linecolor": "white",
            "ticks": ""
           },
           "bgcolor": "#E5ECF6",
           "caxis": {
            "gridcolor": "white",
            "linecolor": "white",
            "ticks": ""
           }
          },
          "title": {
           "x": 0.05
          },
          "xaxis": {
           "automargin": true,
           "gridcolor": "white",
           "linecolor": "white",
           "ticks": "",
           "title": {
            "standoff": 15
           },
           "zerolinecolor": "white",
           "zerolinewidth": 2
          },
          "yaxis": {
           "automargin": true,
           "gridcolor": "white",
           "linecolor": "white",
           "ticks": "",
           "title": {
            "standoff": 15
           },
           "zerolinecolor": "white",
           "zerolinewidth": 2
          }
         }
        },
        "title": {
         "text": "Slice Plot"
        },
        "width": 1200,
        "xaxis": {
         "anchor": "y",
         "domain": [
          0,
          0.2125
         ],
         "title": {
          "text": "epochs"
         }
        },
        "xaxis2": {
         "anchor": "y2",
         "domain": [
          0.2625,
          0.475
         ],
         "title": {
          "text": "gamma"
         }
        },
        "xaxis3": {
         "anchor": "y3",
         "domain": [
          0.525,
          0.7375
         ],
         "title": {
          "text": "lr"
         }
        },
        "xaxis4": {
         "anchor": "y4",
         "domain": [
          0.7875,
          1
         ],
         "title": {
          "text": "step_size"
         }
        },
        "yaxis": {
         "anchor": "x",
         "domain": [
          0,
          1
         ],
         "title": {
          "text": "Objective Value"
         }
        },
        "yaxis2": {
         "anchor": "x2",
         "domain": [
          0,
          1
         ],
         "matches": "y",
         "showticklabels": false
        },
        "yaxis3": {
         "anchor": "x3",
         "domain": [
          0,
          1
         ],
         "matches": "y",
         "showticklabels": false
        },
        "yaxis4": {
         "anchor": "x4",
         "domain": [
          0,
          1
         ],
         "matches": "y",
         "showticklabels": false
        }
       }
      }
     },
     "metadata": {},
     "output_type": "display_data"
    }
   ],
   "source": [
    "optuna.visualization.plot_slice(study)"
   ]
  },
  {
   "cell_type": "code",
   "execution_count": 17,
   "metadata": {},
   "outputs": [
    {
     "data": {
      "application/vnd.plotly.v1+json": {
       "config": {
        "plotlyServerURL": "https://plot.ly"
       },
       "data": [
        {
         "dimensions": [
          {
           "label": "Objective Value",
           "range": [
            0.804,
            0.8928
           ],
           "values": [
            0.8854,
            0.804,
            0.8764,
            0.8844,
            0.8708,
            0.871,
            0.8614,
            0.87,
            0.8508,
            0.8312,
            0.8698,
            0.8656,
            0.8852,
            0.8726,
            0.8686,
            0.874,
            0.854,
            0.8806,
            0.8626,
            0.8598,
            0.8532,
            0.8372,
            0.8584,
            0.85,
            0.8548,
            0.8512,
            0.874,
            0.8726,
            0.8714,
            0.8768,
            0.8712,
            0.878,
            0.866,
            0.8882,
            0.889,
            0.8888,
            0.8764,
            0.8652,
            0.8692,
            0.8862,
            0.8834,
            0.8858,
            0.883,
            0.8856,
            0.883,
            0.8832,
            0.8894,
            0.8886,
            0.8798,
            0.8818,
            0.8826,
            0.8796,
            0.8858,
            0.8822,
            0.8808,
            0.8796,
            0.8822,
            0.8904,
            0.8868,
            0.883,
            0.8856,
            0.886,
            0.8874,
            0.8914,
            0.8864,
            0.8818,
            0.8766,
            0.877,
            0.8784,
            0.8778,
            0.8824,
            0.8848,
            0.8816,
            0.8814,
            0.8756,
            0.8898,
            0.8858,
            0.8772,
            0.8844,
            0.8876,
            0.8872,
            0.8838,
            0.8852,
            0.8842,
            0.889,
            0.8928,
            0.8882,
            0.8858,
            0.884,
            0.8852,
            0.8862,
            0.8842,
            0.8882,
            0.8862,
            0.8858,
            0.8894,
            0.8874,
            0.8874,
            0.8912,
            0.8774
           ]
          },
          {
           "label": "epochs",
           "range": [
            10,
            40
           ],
           "values": [
            17,
            21,
            40,
            31,
            31,
            20,
            18,
            25,
            38,
            40,
            32,
            26,
            28,
            20,
            32,
            19,
            40,
            28,
            19,
            10,
            21,
            10,
            10,
            14,
            12,
            15,
            15,
            16,
            15,
            16,
            16,
            37,
            35,
            35,
            35,
            35,
            36,
            32,
            32,
            34,
            31,
            22,
            31,
            33,
            33,
            34,
            23,
            34,
            21,
            23,
            34,
            23,
            38,
            35,
            35,
            38,
            38,
            38,
            38,
            29,
            29,
            29,
            29,
            29,
            29,
            29,
            39,
            40,
            26,
            40,
            26,
            27,
            26,
            26,
            26,
            26,
            25,
            36,
            36,
            36,
            36,
            36,
            36,
            36,
            37,
            36,
            24,
            24,
            24,
            24,
            24,
            33,
            33,
            37,
            37,
            37,
            37,
            37,
            39,
            37
           ]
          },
          {
           "label": "gamma",
           "range": [
            0.00016313300786532448,
            0.009996214182176373
           ],
           "values": [
            0.003037053578874638,
            0.0032946199958911624,
            0.00683428590387051,
            0.007177905144541755,
            0.008478352799836464,
            0.0025894645559249386,
            0.007554729656776232,
            0.0023551826970996488,
            0.005104734774980347,
            0.00550821908857633,
            0.00021168099129760754,
            0.0007563194352213228,
            0.00034599963003463096,
            0.006034751665752973,
            0.007638619927750221,
            0.007932051967751139,
            0.008208164017646052,
            0.007003253219934068,
            0.005862333257928678,
            0.006876973232900125,
            0.001163418650150141,
            0.005095743509477837,
            0.004153714743826341,
            0.004447157714730095,
            0.0038328771836620644,
            0.0015948488730353982,
            0.0014702068662441478,
            0.0014287287924767706,
            0.0013431908180423853,
            0.0012893698050244927,
            0.0015965925994352354,
            0.0019055777908105207,
            0.00982357401970602,
            0.009698375096563305,
            0.009237695920871949,
            0.009822895132305495,
            0.00016313300786532448,
            0.00016453520266979435,
            0.009832953367373382,
            0.0089753265077811,
            0.0028960421870576447,
            0.0032939056241855047,
            0.0025881550378855133,
            0.002809240097247732,
            0.003094007473450837,
            0.002977128212094368,
            0.009964623250818448,
            0.009713933019940047,
            0.00954433532263308,
            0.00939807599638033,
            0.009996214182176373,
            0.009902366505862084,
            0.009634980204703195,
            0.009880842255471084,
            0.009311072358428917,
            0.009898794672601527,
            0.009910109172412857,
            0.009260059176048888,
            0.00910576003168502,
            0.008845505251109727,
            0.008809909346486778,
            0.008845620857191793,
            0.008876751616032503,
            0.008818804031369426,
            0.008840377025939867,
            0.008841092719938345,
            0.00854589327678582,
            0.008346300629326696,
            0.008412453311933544,
            0.008415543261488115,
            0.008423369709961725,
            0.008403318615053675,
            0.008434001160979303,
            0.00931261062974183,
            0.009249729750329313,
            0.00932727629547195,
            0.009248172677453459,
            0.009306211227355683,
            0.00923750433503663,
            0.009351349982392152,
            0.009348640023302827,
            0.009493761617195891,
            0.009529735767556008,
            0.009516125185770179,
            0.00955541346741088,
            0.007925633802563264,
            0.009597757444349642,
            0.00963753044060251,
            0.00959483095501759,
            0.008076199899010556,
            0.00970263544672364,
            0.008080476459595146,
            0.00793071221994008,
            0.007884149765417868,
            0.00801733435906996,
            0.009072409756730977,
            0.007838209303663956,
            0.007792714408518173,
            0.00905332955340298,
            0.009085069261918448
           ]
          },
          {
           "label": "lr",
           "range": [
            0.00010812076666548952,
            0.009965477420456247
           ],
           "values": [
            0.00425172566109847,
            0.007647504078601093,
            0.0013647392292399495,
            0.0027307454765825106,
            0.0031908287994064136,
            0.003789813710053318,
            0.00802493084135869,
            0.007197911017267049,
            0.009646458614979403,
            0.00423279487699632,
            0.0010808178153678628,
            0.0068044971083494055,
            0.0012008701562656692,
            0.0005730396570749669,
            0.005202445888320304,
            0.0015317758671067594,
            0.00337935993778317,
            0.001313305024516993,
            0.0016549555999730453,
            0.006663457966184325,
            0.0063861364732964885,
            0.009965477420456247,
            0.00014637787627562937,
            0.0001343341907823906,
            0.00014980749579556613,
            0.00010812076666548952,
            0.004909141691284897,
            0.005077510363417047,
            0.005048669238575114,
            0.005095819878671559,
            0.005070874465494637,
            0.0051314318245976025,
            0.0028270128111991828,
            0.0024534819134641225,
            0.002732909652627188,
            0.0027736933664224343,
            0.0028182477205375214,
            0.0024980818025257647,
            0.002392765782302315,
            0.0025954261597807213,
            0.0026028324024784406,
            0.002467492865600231,
            0.0023191940714601678,
            0.00220785839740324,
            0.0021780375764934197,
            0.0022524173044035497,
            0.0020892927414638165,
            0.002190547365982305,
            0.003644382592303676,
            0.001961666273477508,
            0.0034318629519734596,
            0.0034895622546906734,
            0.003293053240553197,
            0.0036525138032974494,
            0.003285542208548447,
            0.003211116750632065,
            0.0019158328495576457,
            0.0032586344605115,
            0.0017000011194869664,
            0.0015912729167877728,
            0.0017712491601842395,
            0.001717020537881233,
            0.0018229477776796504,
            0.0017493355320378563,
            0.0018108323527553296,
            0.0029781548786172204,
            0.004087222904152988,
            0.0028892594111560115,
            0.002917949136055157,
            0.0029092487959492116,
            0.002926786309768065,
            0.002949317249106226,
            0.002927699007831298,
            0.0029566226744736977,
            0.0010293105932927288,
            0.002903261983602032,
            0.0011534008092369706,
            0.0006162735382735664,
            0.0010093583175734382,
            0.0022051175590798917,
            0.0011155629383271912,
            0.0009185075111803245,
            0.0012229088592022193,
            0.0012593638717377535,
            0.0020974054254012013,
            0.0021341285880589088,
            0.0020644555186705156,
            0.0013152746042835747,
            0.002575610885915002,
            0.0015000347286263276,
            0.0025676686941066133,
            0.0026238849735551063,
            0.0025450271882698286,
            0.0023361372527551274,
            0.002418829152588903,
            0.0024178749949657326,
            0.001959262155585806,
            0.002418940274446125,
            0.002118355455496349,
            0.0020678127457173113
           ]
          },
          {
           "label": "step_size",
           "range": [
            1,
            10
           ],
           "values": [
            10,
            1,
            5,
            6,
            5,
            5,
            6,
            6,
            7,
            1,
            5,
            7,
            9,
            7,
            3,
            5,
            2,
            8,
            3,
            7,
            4,
            10,
            10,
            10,
            10,
            10,
            9,
            9,
            9,
            8,
            8,
            8,
            3,
            9,
            8,
            8,
            8,
            3,
            3,
            9,
            9,
            9,
            9,
            9,
            9,
            9,
            9,
            7,
            6,
            7,
            7,
            7,
            7,
            7,
            7,
            7,
            7,
            7,
            8,
            8,
            8,
            8,
            8,
            8,
            6,
            6,
            6,
            6,
            6,
            6,
            6,
            6,
            6,
            6,
            6,
            10,
            10,
            10,
            10,
            10,
            10,
            8,
            10,
            10,
            10,
            10,
            8,
            8,
            8,
            9,
            9,
            9,
            9,
            9,
            9,
            9,
            9,
            9,
            9,
            5
           ]
          }
         ],
         "labelangle": 30,
         "labelside": "bottom",
         "line": {
          "color": [
           0.8854,
           0.804,
           0.8764,
           0.8844,
           0.8708,
           0.871,
           0.8614,
           0.87,
           0.8508,
           0.8312,
           0.8698,
           0.8656,
           0.8852,
           0.8726,
           0.8686,
           0.874,
           0.854,
           0.8806,
           0.8626,
           0.8598,
           0.8532,
           0.8372,
           0.8584,
           0.85,
           0.8548,
           0.8512,
           0.874,
           0.8726,
           0.8714,
           0.8768,
           0.8712,
           0.878,
           0.866,
           0.8882,
           0.889,
           0.8888,
           0.8764,
           0.8652,
           0.8692,
           0.8862,
           0.8834,
           0.8858,
           0.883,
           0.8856,
           0.883,
           0.8832,
           0.8894,
           0.8886,
           0.8798,
           0.8818,
           0.8826,
           0.8796,
           0.8858,
           0.8822,
           0.8808,
           0.8796,
           0.8822,
           0.8904,
           0.8868,
           0.883,
           0.8856,
           0.886,
           0.8874,
           0.8914,
           0.8864,
           0.8818,
           0.8766,
           0.877,
           0.8784,
           0.8778,
           0.8824,
           0.8848,
           0.8816,
           0.8814,
           0.8756,
           0.8898,
           0.8858,
           0.8772,
           0.8844,
           0.8876,
           0.8872,
           0.8838,
           0.8852,
           0.8842,
           0.889,
           0.8928,
           0.8882,
           0.8858,
           0.884,
           0.8852,
           0.8862,
           0.8842,
           0.8882,
           0.8862,
           0.8858,
           0.8894,
           0.8874,
           0.8874,
           0.8912,
           0.8774
          ],
          "colorbar": {
           "title": {
            "text": "Objective Value"
           }
          },
          "colorscale": [
           [
            0,
            "rgb(247,251,255)"
           ],
           [
            0.125,
            "rgb(222,235,247)"
           ],
           [
            0.25,
            "rgb(198,219,239)"
           ],
           [
            0.375,
            "rgb(158,202,225)"
           ],
           [
            0.5,
            "rgb(107,174,214)"
           ],
           [
            0.625,
            "rgb(66,146,198)"
           ],
           [
            0.75,
            "rgb(33,113,181)"
           ],
           [
            0.875,
            "rgb(8,81,156)"
           ],
           [
            1,
            "rgb(8,48,107)"
           ]
          ],
          "reversescale": false,
          "showscale": true
         },
         "type": "parcoords"
        }
       ],
       "layout": {
        "template": {
         "data": {
          "bar": [
           {
            "error_x": {
             "color": "#2a3f5f"
            },
            "error_y": {
             "color": "#2a3f5f"
            },
            "marker": {
             "line": {
              "color": "#E5ECF6",
              "width": 0.5
             },
             "pattern": {
              "fillmode": "overlay",
              "size": 10,
              "solidity": 0.2
             }
            },
            "type": "bar"
           }
          ],
          "barpolar": [
           {
            "marker": {
             "line": {
              "color": "#E5ECF6",
              "width": 0.5
             },
             "pattern": {
              "fillmode": "overlay",
              "size": 10,
              "solidity": 0.2
             }
            },
            "type": "barpolar"
           }
          ],
          "carpet": [
           {
            "aaxis": {
             "endlinecolor": "#2a3f5f",
             "gridcolor": "white",
             "linecolor": "white",
             "minorgridcolor": "white",
             "startlinecolor": "#2a3f5f"
            },
            "baxis": {
             "endlinecolor": "#2a3f5f",
             "gridcolor": "white",
             "linecolor": "white",
             "minorgridcolor": "white",
             "startlinecolor": "#2a3f5f"
            },
            "type": "carpet"
           }
          ],
          "choropleth": [
           {
            "colorbar": {
             "outlinewidth": 0,
             "ticks": ""
            },
            "type": "choropleth"
           }
          ],
          "contour": [
           {
            "colorbar": {
             "outlinewidth": 0,
             "ticks": ""
            },
            "colorscale": [
             [
              0,
              "#0d0887"
             ],
             [
              0.1111111111111111,
              "#46039f"
             ],
             [
              0.2222222222222222,
              "#7201a8"
             ],
             [
              0.3333333333333333,
              "#9c179e"
             ],
             [
              0.4444444444444444,
              "#bd3786"
             ],
             [
              0.5555555555555556,
              "#d8576b"
             ],
             [
              0.6666666666666666,
              "#ed7953"
             ],
             [
              0.7777777777777778,
              "#fb9f3a"
             ],
             [
              0.8888888888888888,
              "#fdca26"
             ],
             [
              1,
              "#f0f921"
             ]
            ],
            "type": "contour"
           }
          ],
          "contourcarpet": [
           {
            "colorbar": {
             "outlinewidth": 0,
             "ticks": ""
            },
            "type": "contourcarpet"
           }
          ],
          "heatmap": [
           {
            "colorbar": {
             "outlinewidth": 0,
             "ticks": ""
            },
            "colorscale": [
             [
              0,
              "#0d0887"
             ],
             [
              0.1111111111111111,
              "#46039f"
             ],
             [
              0.2222222222222222,
              "#7201a8"
             ],
             [
              0.3333333333333333,
              "#9c179e"
             ],
             [
              0.4444444444444444,
              "#bd3786"
             ],
             [
              0.5555555555555556,
              "#d8576b"
             ],
             [
              0.6666666666666666,
              "#ed7953"
             ],
             [
              0.7777777777777778,
              "#fb9f3a"
             ],
             [
              0.8888888888888888,
              "#fdca26"
             ],
             [
              1,
              "#f0f921"
             ]
            ],
            "type": "heatmap"
           }
          ],
          "heatmapgl": [
           {
            "colorbar": {
             "outlinewidth": 0,
             "ticks": ""
            },
            "colorscale": [
             [
              0,
              "#0d0887"
             ],
             [
              0.1111111111111111,
              "#46039f"
             ],
             [
              0.2222222222222222,
              "#7201a8"
             ],
             [
              0.3333333333333333,
              "#9c179e"
             ],
             [
              0.4444444444444444,
              "#bd3786"
             ],
             [
              0.5555555555555556,
              "#d8576b"
             ],
             [
              0.6666666666666666,
              "#ed7953"
             ],
             [
              0.7777777777777778,
              "#fb9f3a"
             ],
             [
              0.8888888888888888,
              "#fdca26"
             ],
             [
              1,
              "#f0f921"
             ]
            ],
            "type": "heatmapgl"
           }
          ],
          "histogram": [
           {
            "marker": {
             "pattern": {
              "fillmode": "overlay",
              "size": 10,
              "solidity": 0.2
             }
            },
            "type": "histogram"
           }
          ],
          "histogram2d": [
           {
            "colorbar": {
             "outlinewidth": 0,
             "ticks": ""
            },
            "colorscale": [
             [
              0,
              "#0d0887"
             ],
             [
              0.1111111111111111,
              "#46039f"
             ],
             [
              0.2222222222222222,
              "#7201a8"
             ],
             [
              0.3333333333333333,
              "#9c179e"
             ],
             [
              0.4444444444444444,
              "#bd3786"
             ],
             [
              0.5555555555555556,
              "#d8576b"
             ],
             [
              0.6666666666666666,
              "#ed7953"
             ],
             [
              0.7777777777777778,
              "#fb9f3a"
             ],
             [
              0.8888888888888888,
              "#fdca26"
             ],
             [
              1,
              "#f0f921"
             ]
            ],
            "type": "histogram2d"
           }
          ],
          "histogram2dcontour": [
           {
            "colorbar": {
             "outlinewidth": 0,
             "ticks": ""
            },
            "colorscale": [
             [
              0,
              "#0d0887"
             ],
             [
              0.1111111111111111,
              "#46039f"
             ],
             [
              0.2222222222222222,
              "#7201a8"
             ],
             [
              0.3333333333333333,
              "#9c179e"
             ],
             [
              0.4444444444444444,
              "#bd3786"
             ],
             [
              0.5555555555555556,
              "#d8576b"
             ],
             [
              0.6666666666666666,
              "#ed7953"
             ],
             [
              0.7777777777777778,
              "#fb9f3a"
             ],
             [
              0.8888888888888888,
              "#fdca26"
             ],
             [
              1,
              "#f0f921"
             ]
            ],
            "type": "histogram2dcontour"
           }
          ],
          "mesh3d": [
           {
            "colorbar": {
             "outlinewidth": 0,
             "ticks": ""
            },
            "type": "mesh3d"
           }
          ],
          "parcoords": [
           {
            "line": {
             "colorbar": {
              "outlinewidth": 0,
              "ticks": ""
             }
            },
            "type": "parcoords"
           }
          ],
          "pie": [
           {
            "automargin": true,
            "type": "pie"
           }
          ],
          "scatter": [
           {
            "fillpattern": {
             "fillmode": "overlay",
             "size": 10,
             "solidity": 0.2
            },
            "type": "scatter"
           }
          ],
          "scatter3d": [
           {
            "line": {
             "colorbar": {
              "outlinewidth": 0,
              "ticks": ""
             }
            },
            "marker": {
             "colorbar": {
              "outlinewidth": 0,
              "ticks": ""
             }
            },
            "type": "scatter3d"
           }
          ],
          "scattercarpet": [
           {
            "marker": {
             "colorbar": {
              "outlinewidth": 0,
              "ticks": ""
             }
            },
            "type": "scattercarpet"
           }
          ],
          "scattergeo": [
           {
            "marker": {
             "colorbar": {
              "outlinewidth": 0,
              "ticks": ""
             }
            },
            "type": "scattergeo"
           }
          ],
          "scattergl": [
           {
            "marker": {
             "colorbar": {
              "outlinewidth": 0,
              "ticks": ""
             }
            },
            "type": "scattergl"
           }
          ],
          "scattermapbox": [
           {
            "marker": {
             "colorbar": {
              "outlinewidth": 0,
              "ticks": ""
             }
            },
            "type": "scattermapbox"
           }
          ],
          "scatterpolar": [
           {
            "marker": {
             "colorbar": {
              "outlinewidth": 0,
              "ticks": ""
             }
            },
            "type": "scatterpolar"
           }
          ],
          "scatterpolargl": [
           {
            "marker": {
             "colorbar": {
              "outlinewidth": 0,
              "ticks": ""
             }
            },
            "type": "scatterpolargl"
           }
          ],
          "scatterternary": [
           {
            "marker": {
             "colorbar": {
              "outlinewidth": 0,
              "ticks": ""
             }
            },
            "type": "scatterternary"
           }
          ],
          "surface": [
           {
            "colorbar": {
             "outlinewidth": 0,
             "ticks": ""
            },
            "colorscale": [
             [
              0,
              "#0d0887"
             ],
             [
              0.1111111111111111,
              "#46039f"
             ],
             [
              0.2222222222222222,
              "#7201a8"
             ],
             [
              0.3333333333333333,
              "#9c179e"
             ],
             [
              0.4444444444444444,
              "#bd3786"
             ],
             [
              0.5555555555555556,
              "#d8576b"
             ],
             [
              0.6666666666666666,
              "#ed7953"
             ],
             [
              0.7777777777777778,
              "#fb9f3a"
             ],
             [
              0.8888888888888888,
              "#fdca26"
             ],
             [
              1,
              "#f0f921"
             ]
            ],
            "type": "surface"
           }
          ],
          "table": [
           {
            "cells": {
             "fill": {
              "color": "#EBF0F8"
             },
             "line": {
              "color": "white"
             }
            },
            "header": {
             "fill": {
              "color": "#C8D4E3"
             },
             "line": {
              "color": "white"
             }
            },
            "type": "table"
           }
          ]
         },
         "layout": {
          "annotationdefaults": {
           "arrowcolor": "#2a3f5f",
           "arrowhead": 0,
           "arrowwidth": 1
          },
          "autotypenumbers": "strict",
          "coloraxis": {
           "colorbar": {
            "outlinewidth": 0,
            "ticks": ""
           }
          },
          "colorscale": {
           "diverging": [
            [
             0,
             "#8e0152"
            ],
            [
             0.1,
             "#c51b7d"
            ],
            [
             0.2,
             "#de77ae"
            ],
            [
             0.3,
             "#f1b6da"
            ],
            [
             0.4,
             "#fde0ef"
            ],
            [
             0.5,
             "#f7f7f7"
            ],
            [
             0.6,
             "#e6f5d0"
            ],
            [
             0.7,
             "#b8e186"
            ],
            [
             0.8,
             "#7fbc41"
            ],
            [
             0.9,
             "#4d9221"
            ],
            [
             1,
             "#276419"
            ]
           ],
           "sequential": [
            [
             0,
             "#0d0887"
            ],
            [
             0.1111111111111111,
             "#46039f"
            ],
            [
             0.2222222222222222,
             "#7201a8"
            ],
            [
             0.3333333333333333,
             "#9c179e"
            ],
            [
             0.4444444444444444,
             "#bd3786"
            ],
            [
             0.5555555555555556,
             "#d8576b"
            ],
            [
             0.6666666666666666,
             "#ed7953"
            ],
            [
             0.7777777777777778,
             "#fb9f3a"
            ],
            [
             0.8888888888888888,
             "#fdca26"
            ],
            [
             1,
             "#f0f921"
            ]
           ],
           "sequentialminus": [
            [
             0,
             "#0d0887"
            ],
            [
             0.1111111111111111,
             "#46039f"
            ],
            [
             0.2222222222222222,
             "#7201a8"
            ],
            [
             0.3333333333333333,
             "#9c179e"
            ],
            [
             0.4444444444444444,
             "#bd3786"
            ],
            [
             0.5555555555555556,
             "#d8576b"
            ],
            [
             0.6666666666666666,
             "#ed7953"
            ],
            [
             0.7777777777777778,
             "#fb9f3a"
            ],
            [
             0.8888888888888888,
             "#fdca26"
            ],
            [
             1,
             "#f0f921"
            ]
           ]
          },
          "colorway": [
           "#636efa",
           "#EF553B",
           "#00cc96",
           "#ab63fa",
           "#FFA15A",
           "#19d3f3",
           "#FF6692",
           "#B6E880",
           "#FF97FF",
           "#FECB52"
          ],
          "font": {
           "color": "#2a3f5f"
          },
          "geo": {
           "bgcolor": "white",
           "lakecolor": "white",
           "landcolor": "#E5ECF6",
           "showlakes": true,
           "showland": true,
           "subunitcolor": "white"
          },
          "hoverlabel": {
           "align": "left"
          },
          "hovermode": "closest",
          "mapbox": {
           "style": "light"
          },
          "paper_bgcolor": "white",
          "plot_bgcolor": "#E5ECF6",
          "polar": {
           "angularaxis": {
            "gridcolor": "white",
            "linecolor": "white",
            "ticks": ""
           },
           "bgcolor": "#E5ECF6",
           "radialaxis": {
            "gridcolor": "white",
            "linecolor": "white",
            "ticks": ""
           }
          },
          "scene": {
           "xaxis": {
            "backgroundcolor": "#E5ECF6",
            "gridcolor": "white",
            "gridwidth": 2,
            "linecolor": "white",
            "showbackground": true,
            "ticks": "",
            "zerolinecolor": "white"
           },
           "yaxis": {
            "backgroundcolor": "#E5ECF6",
            "gridcolor": "white",
            "gridwidth": 2,
            "linecolor": "white",
            "showbackground": true,
            "ticks": "",
            "zerolinecolor": "white"
           },
           "zaxis": {
            "backgroundcolor": "#E5ECF6",
            "gridcolor": "white",
            "gridwidth": 2,
            "linecolor": "white",
            "showbackground": true,
            "ticks": "",
            "zerolinecolor": "white"
           }
          },
          "shapedefaults": {
           "line": {
            "color": "#2a3f5f"
           }
          },
          "ternary": {
           "aaxis": {
            "gridcolor": "white",
            "linecolor": "white",
            "ticks": ""
           },
           "baxis": {
            "gridcolor": "white",
            "linecolor": "white",
            "ticks": ""
           },
           "bgcolor": "#E5ECF6",
           "caxis": {
            "gridcolor": "white",
            "linecolor": "white",
            "ticks": ""
           }
          },
          "title": {
           "x": 0.05
          },
          "xaxis": {
           "automargin": true,
           "gridcolor": "white",
           "linecolor": "white",
           "ticks": "",
           "title": {
            "standoff": 15
           },
           "zerolinecolor": "white",
           "zerolinewidth": 2
          },
          "yaxis": {
           "automargin": true,
           "gridcolor": "white",
           "linecolor": "white",
           "ticks": "",
           "title": {
            "standoff": 15
           },
           "zerolinecolor": "white",
           "zerolinewidth": 2
          }
         }
        },
        "title": {
         "text": "Parallel Coordinate Plot"
        }
       }
      }
     },
     "metadata": {},
     "output_type": "display_data"
    }
   ],
   "source": [
    "optuna.visualization.plot_parallel_coordinate(study)"
   ]
  },
  {
   "cell_type": "markdown",
   "metadata": {},
   "source": [
    "# CNN cross validation"
   ]
  },
  {
   "cell_type": "code",
   "execution_count": 12,
   "metadata": {},
   "outputs": [
    {
     "name": "stdout",
     "output_type": "stream",
     "text": [
      "Using hyperparameters: {'lr': 0.0021341285880589088, 'epochs': 36, 'step_size': 10, 'gamma': 0.007925633802563264}\n",
      "Accuracy: 0.8945000000000001\n",
      "Precision: 0.8941698797489501\n",
      "F1: 0.8951886788837624\n",
      "Recall: 0.8950572565362227\n"
     ]
    }
   ],
   "source": [
    "best_params_from_optuna = study.best_params\n",
    "lr = best_params_from_optuna['lr']\n",
    "epochs = best_params_from_optuna['epochs']\n",
    "step_size = best_params_from_optuna['step_size']\n",
    "gamma = best_params_from_optuna['gamma']\n",
    "\n",
    "print('Using hyperparameters: {}'.format(study.best_params))\n",
    "\n",
    "model_acc = np.mean(cross_val_score(CNN(epochs=epochs,lr=lr,step_size=step_size,gamma=gamma), X, y, cv=5, scoring = 'accuracy', n_jobs=-1))\n",
    "print('Accuracy:', model_acc)\n",
    "model_prc = np.mean(cross_val_score(CNN(epochs=epochs,lr=lr,step_size=step_size,gamma=gamma), X, y, cv=5, scoring = 'precision_macro', n_jobs=-1))\n",
    "print('Precision:', model_prc)\n",
    "model_f1m = np.mean(cross_val_score(CNN(epochs=epochs,lr=lr,step_size=step_size,gamma=gamma), X, y, cv=5, scoring = 'f1_macro', n_jobs=-1))\n",
    "print('F1:', model_f1m)\n",
    "model_rec = np.mean(cross_val_score(CNN(epochs=epochs,lr=lr,step_size=step_size,gamma=gamma), X, y, cv=5, scoring = 'recall_macro', n_jobs=-1))\n",
    "print('Recall:', model_rec)"
   ]
  },
  {
   "cell_type": "code",
   "execution_count": 13,
   "metadata": {},
   "outputs": [
    {
     "name": "stdout",
     "output_type": "stream",
     "text": [
      "     Accuracy  Precision  Recall     F1\n",
      "CNN     0.895      0.894   0.895  0.895\n"
     ]
    }
   ],
   "source": [
    "# Formatting the results with 3 decimals\n",
    "results = pd.DataFrame(columns=['Accuracy', 'Precision', 'Recall', 'F1'])\n",
    "results.loc['CNN'] = [model_acc, model_prc, model_rec, model_f1m]\n",
    "results = results.round(3)\n",
    "print(results)"
   ]
  },
  {
   "cell_type": "markdown",
   "metadata": {},
   "source": [
    "Saving info\n",
    "\n",
    "Test 1\n",
    "Using hyperparameters: {'lr': 0.0025474653904364957, 'epochs': 28, 'step_size': 10, 'gamma': 0.08156406080977326}\n",
    "0.895\t0.897\t0.897\t0.897\n",
    "\n",
    "Test 2\n",
    "Using hyperparameters: {'lr': 0.003666560508915495, 'epochs': 19, 'step_size': 9, 'gamma': 0.09538566057024735}\n",
    "0.895\t0.898\t0.895\t0.894\n",
    "\n",
    "Test 3\n",
    "Using hyperparameters: {'lr': 0.0024630158876938614, 'epochs': 28, 'step_size': 10, 'gamma': 0.009867616843669264}\n",
    "0.892      0.894   0.895  0.895\n",
    "\n",
    "Test 4\n",
    "Using hyperparameters: {'lr': 0.0025854245650713636, 'epochs': 18, 'step_size': 8, 'gamma': 0.036209974185880886}\n",
    "0.892      0.895   0.896  0.895\n",
    "\n",
    "Test 5\n",
    "Using hyperparameters: {'lr': 0.0021341285880589088, 'epochs': 36, 'step_size': 10, 'gamma': 0.007925633802563264}\n",
    "0.895      0.894   0.895  0.895"
   ]
  },
  {
   "cell_type": "markdown",
   "metadata": {},
   "source": [
    "# SVM cross validation"
   ]
  },
  {
   "cell_type": "code",
   "execution_count": 18,
   "metadata": {},
   "outputs": [
    {
     "data": {
      "text/plain": [
       "0.8710000000000001"
      ]
     },
     "execution_count": 18,
     "metadata": {},
     "output_type": "execute_result"
    }
   ],
   "source": [
    "np.mean(cross_val_score(svm.SVC(C=10), X, y, cv=5, scoring = 'accuracy'))"
   ]
  },
  {
   "cell_type": "code",
   "execution_count": 19,
   "metadata": {},
   "outputs": [
    {
     "data": {
      "text/plain": [
       "0.872764949986182"
      ]
     },
     "execution_count": 19,
     "metadata": {},
     "output_type": "execute_result"
    }
   ],
   "source": [
    "np.mean(cross_val_score(svm.SVC(C=10), X, y, cv=5, scoring = 'precision_macro'))"
   ]
  },
  {
   "cell_type": "code",
   "execution_count": 20,
   "metadata": {},
   "outputs": [
    {
     "data": {
      "text/plain": [
       "0.8720073335631569"
      ]
     },
     "execution_count": 20,
     "metadata": {},
     "output_type": "execute_result"
    }
   ],
   "source": [
    "np.mean(cross_val_score(svm.SVC(C=10), X, y, cv=5, scoring = 'f1_macro'))"
   ]
  },
  {
   "cell_type": "code",
   "execution_count": 21,
   "metadata": {},
   "outputs": [
    {
     "data": {
      "text/plain": [
       "0.8718040478477252"
      ]
     },
     "execution_count": 21,
     "metadata": {},
     "output_type": "execute_result"
    }
   ],
   "source": [
    "np.mean(cross_val_score(svm.SVC(C=10), X, y, cv=5, scoring = 'recall_macro'))"
   ]
  },
  {
   "cell_type": "markdown",
   "metadata": {},
   "source": [
    "# Bayes cross validation"
   ]
  },
  {
   "cell_type": "code",
   "execution_count": 8,
   "metadata": {},
   "outputs": [],
   "source": [
    "bandwidth = 1.06 * np.std(X) * np.power(X.shape[0], -1/5)"
   ]
  },
  {
   "cell_type": "code",
   "execution_count": 11,
   "metadata": {},
   "outputs": [
    {
     "name": "stdout",
     "output_type": "stream",
     "text": [
      "0.7266999999999999\n",
      "0.733129978311079\n",
      "0.7264291749776655\n",
      "0.7282642246824323\n"
     ]
    }
   ],
   "source": [
    "acc = np.mean(cross_val_score(Bayes_classifier(bandwidth), X, y, cv=5, scoring = 'accuracy', n_jobs = -1))\n",
    "prec_macro = np.mean(cross_val_score(Bayes_classifier(bandwidth), X, y, cv=5, scoring = 'precision_macro',n_jobs = -1))\n",
    "f1 = np.mean(cross_val_score(Bayes_classifier(bandwidth), X, y, cv=5, scoring = 'f1_macro',n_jobs = -1))\n",
    "recall = np.mean(cross_val_score(Bayes_classifier(bandwidth), X, y, cv=5, scoring = 'recall_macro',n_jobs = -1))\n",
    "\n",
    "print(acc)\n",
    "print(prec_macro)\n",
    "print(f1)\n",
    "print(recall)"
   ]
  },
  {
   "cell_type": "code",
   "execution_count": 8,
   "metadata": {},
   "outputs": [
    {
     "name": "stdout",
     "output_type": "stream",
     "text": [
      "(2000, 784)\n",
      "Classifier 1 - Bayes\n",
      "(2000, 2)\n",
      "(2000, 784)\n",
      "Classifier 1 - Bayes\n",
      "(2000, 2)\n",
      "(2000, 784)\n",
      "Classifier 1 - Bayes\n",
      "(2000, 2)\n",
      "(2000, 784)\n",
      "Classifier 1 - Bayes\n",
      "(2000, 2)\n",
      "(2000, 784)\n",
      "Classifier 1 - Bayes\n",
      "(2000, 2)\n",
      "############ Classifier 1 - Bayes:\n",
      "Average F1 score = 0.228\n",
      "Average Accuracy = 0.228\n",
      "Average Precision = 0.228\n",
      "Average Recall = 0.228\n"
     ]
    },
    {
     "data": {
      "text/plain": [
       "(array([[-0.0148165 , -0.03760239, -0.06245122, ..., -0.14119802,\n",
       "         -0.06592056, -0.02908531],\n",
       "        [-0.0148165 , -0.03760239, -0.06245122, ..., -0.14119802,\n",
       "         -0.06592056, -0.02908531],\n",
       "        [-0.0148165 , -0.03760239, -0.06245122, ..., -0.14119802,\n",
       "         -0.06592056, -0.02908531],\n",
       "        ...,\n",
       "        [-0.0148165 , -0.03760239, -0.06245122, ..., -0.14119802,\n",
       "         -0.06592056, -0.02908531],\n",
       "        [-0.0148165 , -0.03760239, -0.06245122, ..., -0.14119802,\n",
       "         -0.06592056, -0.02908531],\n",
       "        [-0.0148165 , -0.03760239, -0.06245122, ..., -0.14119802,\n",
       "         -0.06592056, -0.02908531]]),\n",
       " array([0, 1, 0, ..., 4, 3, 1], dtype=uint8),\n",
       " array([[-0.0148165 , -0.03760239, -0.06245122, ..., -0.14119802,\n",
       "         -0.06592056, -0.02908531],\n",
       "        [-0.0148165 , -0.03760239, -0.06245122, ..., -0.14119802,\n",
       "         -0.06592056, -0.02908531],\n",
       "        [-0.0148165 , -0.03760239, -0.06245122, ..., -0.14119802,\n",
       "         -0.06592056, -0.02908531],\n",
       "        ...,\n",
       "        [-0.0148165 , -0.03760239, -0.06245122, ..., -0.14119802,\n",
       "         -0.06592056, -0.02908531],\n",
       "        [-0.0148165 , -0.03760239, -0.06245122, ..., -0.14119802,\n",
       "         -0.06592056, -0.02908531],\n",
       "        [-0.0148165 , -0.03760239, -0.06245122, ..., -0.14119802,\n",
       "         -0.06592056, -0.02908531]]),\n",
       " array([1, 2, 0, ..., 3, 0, 1], dtype=uint8))"
      ]
     },
     "execution_count": 8,
     "metadata": {},
     "output_type": "execute_result"
    }
   ],
   "source": [
    "# Define classifiers\n",
    "classifiers = [Bayes_classifier()]\n",
    "classifier_names = [\"Bayes\"]\n",
    "num_classifiers = len(classifiers)\n",
    "num_folds = 5\n",
    "bandwidth = 1.06 * np.std(X_train) * np.power(X_train.shape[0], -1/5)\n",
    "group_kfold = KFold(n_splits=num_folds)\n",
    "\n",
    "# Define functions to avoid code repetition\n",
    "def get_metrics(classifiers, x, y):\n",
    "    acc_val = np.empty([num_folds, num_classifiers])\n",
    "    f1_val = np.empty([num_folds, num_classifiers])\n",
    "    precision = np.empty([num_folds, num_classifiers])\n",
    "    recall = np.empty([num_folds, num_classifiers])\n",
    "    # roc_auc = np.empty([num_folds, num_classifiers])\n",
    "    for i, (train_index, val_index) in enumerate(group_kfold.split(x, y)):\n",
    "        x_train, x_val = x[train_index, :], x[val_index, :]\n",
    "        y_train, y_val = y[train_index], y[val_index]\n",
    "        print(x_val.shape)\n",
    "        for j, clf in enumerate(classifiers):\n",
    "            print(f\"Classifier {j+1} - {classifier_names[j]}\")\n",
    "            clf.fit(x_train, y_train)\n",
    "            predictions = clf.predict(x_val)\n",
    "            acc_val[i, j] = accuracy_score(y_val, predictions)\n",
    "            f1_val[i, j] = f1_score(y_val, predictions, average='micro')\n",
    "            precision[i, j] = precision_score(y_val, predictions, zero_division=0, average='micro')\n",
    "            recall[i, j] = recall_score(y_val, predictions, average='micro')\n",
    "    print_metrics(acc_val, f1_val, precision, recall)\n",
    "    return x_train, y_train, x_val, y_val\n",
    "\n",
    "def print_metrics(acc_val, f1_val, precision, recall):\n",
    "    average_acc = np.mean(acc_val, axis=0)\n",
    "    average_f1 = np.mean(f1_val, axis=0)\n",
    "    average_precision = np.mean(precision, axis=0)\n",
    "    average_recall = np.mean(recall, axis=0)\n",
    "    for i, classifier_name in enumerate(classifier_names):\n",
    "        print(f\"############ Classifier {i+1} - {classifier_name}:\")\n",
    "        print(f'Average F1 score = {average_f1[i]:.3f}')\n",
    "        print(f'Average Accuracy = {average_acc[i]:.3f}')\n",
    "        print(f'Average Precision = {average_precision[i]:.3f}')\n",
    "        print(f'Average Recall = {average_recall[i]:.3f}')\n",
    "\n",
    "get_metrics(classifiers, X,y)"
   ]
  },
  {
   "cell_type": "code",
   "execution_count": null,
   "metadata": {},
   "outputs": [],
   "source": [
    "# Normal feature selection\n",
    "print(\"Running without feature selection\")\n",
    "x_train, y_train, x_val, y_val = get_metrics(classifiers, x, y, patient_id)\n",
    "\n",
    "# Feature selection with variance threshold\n",
    "print(\"Running with variance threshold feature selection\")\n",
    "threshold_value = 0.1\n",
    "selector = VarianceThreshold(threshold=threshold_value)\n",
    "x_selected = selector.fit_transform(x)\n",
    "get_metrics(classifiers, x_selected, y, patient_id, \"With variance threshold\")\n",
    "\n",
    "# Feature selection with PCA\n",
    "print(\"Running with PCA feature selection\")\n",
    "pca_transformer = PCA(n_components=5)\n",
    "x_pca = pca_transformer.fit_transform(x)\n",
    "get_metrics(classifiers, x_pca, y, patient_id, \"With PCA\")\n",
    "\n",
    "# Define the path where to save the file\n",
    "pickle_path = 'Project-2_github_repo/Fixed/PROJECT/fyp2023/model_group02'\n",
    "\n",
    "# Chosen classifier\n",
    "classifier = KNN(n_neighbors=5)\n",
    "classifier = classifier.fit(x, y)\n",
    "filename = 'group02_classifier.sav'\n",
    "\n",
    "# Check if the path exists, if not, create it\n",
    "if not os.path.exists(pickle_path):\n",
    "    os.makedirs(pickle_path)\n",
    "\n",
    "pickle.dump(classifier, open(os.path.join(pickle_path, filename), 'wb'))\n",
    "\n",
    "\n",
    "# Plot ROC curve for best classifier\n",
    "clf = classifier\n",
    "clf.fit(x_train, y_train)\n",
    "y_score = clf.predict_proba(x_val)\n",
    "fpr, tpr, _ = roc_curve(y_val, y_score[:, 1])\n",
    "roc_auc = auc(fpr, tpr)\n",
    "plt.figure()\n",
    "plt.plot(fpr, tpr, color='darkorange', lw=2, label='ROC curve (area = %0.2f)' % roc_auc)\n",
    "plt.plot([0, 1], [0, 1], color='navy', lw=2, linestyle='--')\n",
    "plt.xlim([0.0, 1.0])\n",
    "plt.ylim([0.0, 1.05])\n",
    "plt.xlabel('False Positive Rate')\n",
    "plt.ylabel('True Positive Rate')\n",
    "plt.title(\"Receiver Operating Characteristic\")\n",
    "plt.legend(loc=\"lower right\")\n",
    "plt.show()"
   ]
  }
 ],
 "metadata": {
  "kernelspec": {
   "display_name": "Python 3",
   "language": "python",
   "name": "python3"
  },
  "language_info": {
   "codemirror_mode": {
    "name": "ipython",
    "version": 3
   },
   "file_extension": ".py",
   "mimetype": "text/x-python",
   "name": "python",
   "nbconvert_exporter": "python",
   "pygments_lexer": "ipython3",
   "version": "3.12.0"
  }
 },
 "nbformat": 4,
 "nbformat_minor": 2
}
