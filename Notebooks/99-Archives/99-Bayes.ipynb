{
 "cells": [
  {
   "cell_type": "markdown",
   "metadata": {},
   "source": [
    "# Bayes Classifier"
   ]
  },
  {
   "cell_type": "markdown",
   "metadata": {},
   "source": [
    "1. Test to see if features are approximately normal in each class"
   ]
  },
  {
   "cell_type": "code",
   "execution_count": 1,
   "metadata": {},
   "outputs": [],
   "source": [
    "''' Needed libraries '''\n",
    "\n",
    "import numpy as np # For matrix operations and numerical processing\n",
    "import matplotlib.pyplot as plt # For plotting\n",
    "import os, sys # For filepaths"
   ]
  },
  {
   "cell_type": "code",
   "execution_count": 2,
   "metadata": {},
   "outputs": [],
   "source": [
    "''' Add the datasets and libraries to the system path '''\n",
    "\n",
    "# Find the path to our implementations\n",
    "current_directory = os.getcwd()\n",
    "parent_directory = os.path.dirname(current_directory)\n",
    "home_directory = os.path.dirname(parent_directory)\n",
    "libraries_path = os.path.join(home_directory, 'Libraries')\n",
    "\n",
    "# Find the path to the datasets\n",
    "datasets_path = os.path.join(home_directory, 'Datasets')\n",
    "\n",
    "# Add them both to the system path\n",
    "sys.path.append(datasets_path)\n",
    "sys.path.append(libraries_path)"
   ]
  },
  {
   "cell_type": "code",
   "execution_count": 3,
   "metadata": {},
   "outputs": [],
   "source": [
    "''' Importing our Bayes classifier '''\n",
    "\n",
    "from Bayes import Bayes_classifier"
   ]
  },
  {
   "cell_type": "code",
   "execution_count": 4,
   "metadata": {},
   "outputs": [],
   "source": [
    "''' Importing main components from file '''\n",
    "top_components = np.load(os.path.join(f\"{home_directory}/Exported_Data\", 'LDA_top2.npy')) # Import top_components from file\n",
    "\n",
    "''' Import the projection matrix from file '''\n",
    "projection_matrix = np.load(os.path.join(f\"{home_directory}/Exported_Data\", 'LDA_projection.npy')) # Import projection_matrix from file"
   ]
  },
  {
   "cell_type": "code",
   "execution_count": 5,
   "metadata": {},
   "outputs": [
    {
     "data": {
      "text/plain": [
       "10000"
      ]
     },
     "execution_count": 5,
     "metadata": {},
     "output_type": "execute_result"
    }
   ],
   "source": [
    "''' Loading in the dataset and splitting into observations and labels '''\n",
    "\n",
    "dataset= np.load(os.path.join(datasets_path, 'fashion_train.npy'))  # Load dataset\n",
    "X = dataset[:, :-1] # Define X as all columns except the last one\n",
    "y = dataset[:, -1] # Define y as the last column\n",
    "X.shape[0]\n"
   ]
  },
  {
   "cell_type": "code",
   "execution_count": null,
   "metadata": {},
   "outputs": [],
   "source": [
    " ''' PLotting the distribution of the LDA features for each class'''\n",
    "\n",
    "# for i in np.unique(y):\n",
    "#     f1=projection_matrix[y==i][:,0]\n",
    "#     f2=projection_matrix[y==i][:,1]\n",
    "#     plt.hist(f1)\n",
    "#     plt.hist(f2)\n",
    "#     plt.show()\n"
   ]
  },
  {
   "cell_type": "markdown",
   "metadata": {},
   "source": [
    "Class priors"
   ]
  },
  {
   "cell_type": "code",
   "execution_count": 7,
   "metadata": {},
   "outputs": [
    {
     "name": "stdout",
     "output_type": "stream",
     "text": [
      "[0.2033, 0.1947, 0.2001, 0.2005, 0.2014]\n"
     ]
    }
   ],
   "source": [
    "''' class priors '''\n",
    "class_priors=[]\n",
    "n = X.shape[0]\n",
    "for i in np.unique(y):\n",
    "    class_prior = X[y==i].shape[0]/n\n",
    "    class_priors.append(class_prior)\n",
    "\n",
    "print(class_priors)\n"
   ]
  },
  {
   "cell_type": "markdown",
   "metadata": {},
   "source": [
    "Means of each feature for each class "
   ]
  },
  {
   "cell_type": "code",
   "execution_count": 8,
   "metadata": {},
   "outputs": [
    {
     "data": {
      "text/plain": [
       "{0: [-1.2802700016019868, 0.6039621758063101],\n",
       " 1: [11.165085908392799, -1.3346697113354848],\n",
       " 2: [-1.792848734273685, -4.0010271878014345],\n",
       " 3: [0.5517463994100597, 3.5860176785069986],\n",
       " 4: [-1.8373911430659382, -1.4957990391986888]}"
      ]
     },
     "execution_count": 8,
     "metadata": {},
     "output_type": "execute_result"
    }
   ],
   "source": [
    "''' density functions of X for each class '''\n",
    "# we assume each feature in each class has a normal distribution \n",
    "''' means for each class '''\n",
    "means = dict({})\n",
    "for i in np.unique(y):\n",
    "    meanfeatures = []\n",
    "    for feature in range(projection_matrix.shape[1]):\n",
    "        mean=np.mean(projection_matrix[y==i][:,feature])\n",
    "        meanfeatures.append(mean)\n",
    "\n",
    "    means[i] = meanfeatures \n",
    "means"
   ]
  },
  {
   "cell_type": "markdown",
   "metadata": {},
   "source": [
    "Variances of each feature for each class "
   ]
  },
  {
   "cell_type": "code",
   "execution_count": 9,
   "metadata": {},
   "outputs": [
    {
     "data": {
      "text/plain": [
       "{0: [1.6240272271400915, 1.4014820774384151],\n",
       " 1: [8.070526988779214, 1.176553854948992],\n",
       " 2: [1.0405445983810633, 2.3216706354737338],\n",
       " 3: [2.369089465355057, 3.0492142495787906],\n",
       " 4: [1.535525042922837, 3.4967538119843016]}"
      ]
     },
     "execution_count": 9,
     "metadata": {},
     "output_type": "execute_result"
    }
   ],
   "source": [
    "variances = dict({})\n",
    "for i in np.unique(y):\n",
    "    variancefeatures = []\n",
    "    for feature in range(projection_matrix.shape[1]):\n",
    "        variance=np.var(projection_matrix[y==i][:,feature])\n",
    "        variancefeatures.append(variance)\n",
    "\n",
    "    variances[i] = variancefeatures \n",
    "variances"
   ]
  },
  {
   "cell_type": "markdown",
   "metadata": {},
   "source": [
    "Density function of X for each class"
   ]
  },
  {
   "cell_type": "markdown",
   "metadata": {},
   "source": [
    "# Bayes classifier"
   ]
  },
  {
   "cell_type": "code",
   "execution_count": 10,
   "metadata": {},
   "outputs": [],
   "source": [
    "bc = Bayes_classifier(X, y, projection_matrix) # Initialize our Bayes classifier "
   ]
  },
  {
   "cell_type": "code",
   "execution_count": 11,
   "metadata": {},
   "outputs": [
    {
     "data": {
      "text/plain": [
       "[-1.2802700016019868, 0.6039621758063101]"
      ]
     },
     "execution_count": 11,
     "metadata": {},
     "output_type": "execute_result"
    }
   ],
   "source": [
    "bc.means()\n",
    "means[0]"
   ]
  },
  {
   "cell_type": "code",
   "execution_count": 12,
   "metadata": {},
   "outputs": [
    {
     "data": {
      "text/plain": [
       "{0: [1.2743732683715912, 1.1838420829816851],\n",
       " 1: [2.840867295172236, 1.084690672472568],\n",
       " 2: [1.020070879096675, 1.5237029354417264],\n",
       " 3: [1.539184675519821, 1.7461999454755435],\n",
       " 4: [1.239163041299585, 1.8699609118867435]}"
      ]
     },
     "execution_count": 12,
     "metadata": {},
     "output_type": "execute_result"
    }
   ],
   "source": [
    "bc.variances()"
   ]
  },
  {
   "cell_type": "code",
   "execution_count": 13,
   "metadata": {},
   "outputs": [
    {
     "data": {
      "text/plain": [
       "[0.2033, 0.1947, 0.2001, 0.2005, 0.2014]"
      ]
     },
     "execution_count": 13,
     "metadata": {},
     "output_type": "execute_result"
    }
   ],
   "source": [
    "bc.class_priors()"
   ]
  },
  {
   "cell_type": "code",
   "execution_count": 14,
   "metadata": {},
   "outputs": [
    {
     "data": {
      "text/plain": [
       "{0: [0.1451135246137139, 0.3260624696246494],\n",
       " 1: [9.357920123376283e-05, 0.11814829986985564],\n",
       " 2: [0.04766845748945545, 0.0048730704426146855],\n",
       " 3: [0.2557468902484938, 0.0388912422932719],\n",
       " 4: [0.07273319529230014, 0.13452800069580953]}"
      ]
     },
     "execution_count": 14,
     "metadata": {},
     "output_type": "execute_result"
    }
   ],
   "source": [
    "testx = [15,6]\n",
    "bc.pdf([0.3,0.3])"
   ]
  },
  {
   "cell_type": "code",
   "execution_count": 15,
   "metadata": {},
   "outputs": [
    {
     "data": {
      "text/plain": [
       "{0: 1.1818124910629716e-41,\n",
       " 1: 2.4457297068619226e-12,\n",
       " 2: 6.395339239846326e-70,\n",
       " 3: 1.6731908060847695e-21,\n",
       " 4: 1.8057330823087553e-45}"
      ]
     },
     "execution_count": 15,
     "metadata": {},
     "output_type": "execute_result"
    }
   ],
   "source": [
    "bc.total_pdf(testx)"
   ]
  },
  {
   "cell_type": "code",
   "execution_count": 16,
   "metadata": {},
   "outputs": [
    {
     "data": {
      "text/plain": [
       "4.761835742614911e-13"
      ]
     },
     "execution_count": 16,
     "metadata": {},
     "output_type": "execute_result"
    }
   ],
   "source": [
    "bc.sum(testx)"
   ]
  },
  {
   "cell_type": "code",
   "execution_count": 17,
   "metadata": {},
   "outputs": [
    {
     "data": {
      "text/plain": [
       "{0: 5.0455851990636824e-30,\n",
       " 1: 0.9999999992954928,\n",
       " 2: 2.6874244536425612e-58,\n",
       " 3: 7.045072000651873e-10,\n",
       " 4: 7.637278193415283e-34}"
      ]
     },
     "execution_count": 17,
     "metadata": {},
     "output_type": "execute_result"
    }
   ],
   "source": [
    "bc.posterior_prob(testx)"
   ]
  },
  {
   "cell_type": "code",
   "execution_count": 18,
   "metadata": {},
   "outputs": [
    {
     "data": {
      "text/plain": [
       "1"
      ]
     },
     "execution_count": 18,
     "metadata": {},
     "output_type": "execute_result"
    }
   ],
   "source": [
    "import random\n",
    "bc.prediction(testx)"
   ]
  },
  {
   "cell_type": "code",
   "execution_count": 19,
   "metadata": {},
   "outputs": [
    {
     "name": "stdout",
     "output_type": "stream",
     "text": [
      "0.74\n"
     ]
    }
   ],
   "source": [
    "import random \n",
    "count = 0\n",
    "score = 0\n",
    "\n",
    "for i in random.sample(range(0, projection_matrix.shape[0]), 100):\n",
    "    count +=1\n",
    "    # print(bc.prediction(projection_matrix[i]))\n",
    "    # print(y[i])\n",
    "    if bc.prediction(projection_matrix[i]) == y[i]: \n",
    "        score += 1\n",
    "print(score/count)"
   ]
  }
 ],
 "metadata": {
  "kernelspec": {
   "display_name": "Python 3",
   "language": "python",
   "name": "python3"
  },
  "language_info": {
   "codemirror_mode": {
    "name": "ipython",
    "version": 3
   },
   "file_extension": ".py",
   "mimetype": "text/x-python",
   "name": "python",
   "nbconvert_exporter": "python",
   "pygments_lexer": "ipython3",
   "version": "3.11.5"
  }
 },
 "nbformat": 4,
 "nbformat_minor": 2
}
